{
 "cells": [
  {
   "cell_type": "code",
   "execution_count": 15,
   "metadata": {},
   "outputs": [],
   "source": [
    "# -----------------------------------------------------------------------------\n",
    "# Copyright (c) 2022, Lucid Vision Labs, Inc.\n",
    "#\n",
    "# THE SOFTWARE IS PROVIDED \"AS IS\", WITHOUT WARRANTY OF ANY KIND,\n",
    "# EXPRESS OR IMPLIED, INCLUDING BUT NOT LIMITED TO THE WARRANTIES\n",
    "# OF MERCHANTABILITY, FITNESS FOR A PARTICULAR PURPOSE AND\n",
    "# NONINFRINGEMENT. IN NO EVENT SHALL THE AUTHORS OR COPYRIGHT HOLDERS\n",
    "# BE LIABLE FOR ANY CLAIM, DAMAGES OR OTHER LIABILITY, WHETHER IN AN\n",
    "# ACTION OF CONTRACT, TORT OR OTHERWISE, ARISING FROM, OUT OF OR IN\n",
    "# CONNECTION WITH THE SOFTWARE OR THE USE OR OTHER DEALINGS IN\n",
    "# THE SOFTWARE.\n",
    "# -----------------------------------------------------------------------------"
   ]
  },
  {
   "cell_type": "code",
   "execution_count": 16,
   "metadata": {},
   "outputs": [],
   "source": [
    "import time\n",
    "from arena_api.system import system\n",
    "\n",
    "# Settings\n",
    "number_of_buffers = 30"
   ]
  },
  {
   "cell_type": "code",
   "execution_count": 17,
   "metadata": {},
   "outputs": [
    {
     "data": {
      "text/plain": [
       "'\\nTrigger: Overlapping Trigger on Exposure End Events\\n    This example demonstrates the use of trigger and exposure end events to\\n    minimize the amount of unused exposure time between images. This is done by\\n    setting the device to start exposing (or trigger) right when the last\\n    exposure has just finished (or exposure end event). After receiving each\\n    exposure end event notification, the next trigger is executed to acquire\\n    the next image. Once all triggers have executed, the images are retrieved\\n    from the output queue. This example shows that there is little time between\\n    triggering images, and that the exposure time is close to the time between\\n    triggers.\\n'"
      ]
     },
     "execution_count": 17,
     "metadata": {},
     "output_type": "execute_result"
    }
   ],
   "source": [
    "'''\n",
    "Trigger: Overlapping Trigger on Exposure End Events\n",
    "    This example demonstrates the use of trigger and exposure end events to\n",
    "    minimize the amount of unused exposure time between images. This is done by\n",
    "    setting the device to start exposing (or trigger) right when the last\n",
    "    exposure has just finished (or exposure end event). After receiving each\n",
    "    exposure end event notification, the next trigger is executed to acquire\n",
    "    the next image. Once all triggers have executed, the images are retrieved\n",
    "    from the output queue. This example shows that there is little time between\n",
    "    triggering images, and that the exposure time is close to the time between\n",
    "    triggers.\n",
    "'''"
   ]
  },
  {
   "cell_type": "code",
   "execution_count": 18,
   "metadata": {},
   "outputs": [
    {
     "name": "stdout",
     "output_type": "stream",
     "text": [
      "Created 1 device(s)\n",
      "\n"
     ]
    }
   ],
   "source": [
    "\"\"\"\n",
    "This function waits for the user to connect a device before raising\n",
    "an exception\n",
    "\"\"\"\n",
    "\n",
    "tries = 0\n",
    "tries_max = 6\n",
    "sleep_time_secs = 10\n",
    "while tries < tries_max:  # Wait for device for 60 seconds\n",
    "    devices = system.create_device()\n",
    "    if not devices:\n",
    "        print(\n",
    "            f'Try {tries+1} of {tries_max}: waiting for {sleep_time_secs} '\n",
    "            f'secs for a device to be connected!')\n",
    "        for sec_count in range(sleep_time_secs):\n",
    "            time.sleep(1)\n",
    "            print(f'{sec_count + 1 } seconds passed ',\n",
    "                  '.' * sec_count, end='\\r')\n",
    "        tries += 1\n",
    "    else:\n",
    "        print(f'Created {len(devices)} device(s)\\n')\n",
    "        device = devices[0]\n",
    "        break\n",
    "else:\n",
    "    raise Exception(f'No device found! Please connect a device and run '\n",
    "                    f'the example again.')"
   ]
  },
  {
   "cell_type": "code",
   "execution_count": 19,
   "metadata": {},
   "outputs": [],
   "source": [
    "device.initialize_events()\n",
    "\n",
    "''' \n",
    "Initialize events\n",
    "    Events nodes aren't available until the events engine has been initialized.\n",
    "'''\n",
    "nodemap = device.nodemap\n",
    "\n",
    "trigger_selector_node = nodemap.get_node(\"TriggerSelector\")\n",
    "trigger_mode_node = nodemap.get_node(\"TriggerMode\")\n",
    "trigger_source_node = nodemap.get_node(\"TriggerSource\")\n",
    "trigger_overlap_node = nodemap.get_node(\"TriggerOverlap\")\n",
    "\n",
    "acquisition_mode = nodemap.get_node(\"AcquisitionMode\")\n",
    "\n",
    "event_selector_node = nodemap.get_node(\"EventSelector\")\n",
    "event_notification_node = nodemap.get_node(\"EventNotification\")\n",
    "exposure_auto_node = nodemap.get_node(\"ExposureAuto\")\n"
   ]
  },
  {
   "cell_type": "code",
   "execution_count": 20,
   "metadata": {},
   "outputs": [],
   "source": [
    "# Store initial values\n",
    "initial_acquisition_mode = nodemap.get_node(\"AcquisitionMode\").value\n",
    "\n",
    "initial_trigger_selector = trigger_selector_node.value\n",
    "initial_trigger_mode = trigger_mode_node.value\n",
    "initial_trigger_source =  trigger_source_node.value\n",
    "initial_trigger_overlap = trigger_overlap_node.value\n",
    "\n",
    "initial_event_selector = event_selector_node.value\n",
    "inital_event_notification = event_notification_node.value\n",
    "\n",
    "initial_exposure_auto = exposure_auto_node.value"
   ]
  },
  {
   "cell_type": "code",
   "execution_count": 21,
   "metadata": {},
   "outputs": [],
   "source": [
    "# Configure device for image acquisition\n",
    "nodemap.get_node(\"AcquisitionMode\").value = \"Continuous\"\n",
    "\n",
    "tl_stream_nodemap = device.tl_stream_nodemap\n",
    "\n",
    "tl_stream_nodemap['StreamAutoNegotiatePacketSize'].value = True\n",
    "tl_stream_nodemap['StreamPacketResendEnable'].value = True"
   ]
  },
  {
   "cell_type": "code",
   "execution_count": 22,
   "metadata": {},
   "outputs": [],
   "source": [
    "'''\n",
    " Set trigger selector\n",
    "    Set the trigger selector to FrameStart. When triggered, the device will\n",
    "    start acquiring a single frame. This can also be set to\n",
    "    AcquisitionStart or FrameBurstStart.\n",
    "'''\n",
    "\n",
    "trigger_selector_node.value = \"FrameStart\"\n",
    "\n",
    "'''\n",
    " Set trigger mode\n",
    "    Enable trigger mode before setting the source and selector and before\n",
    "    starting the stream. Trigger mode cannot be turned on and off while the\n",
    "    device is streaming.\n",
    "'''\n",
    "\n",
    "trigger_mode_node.value = \"On\"\n",
    "\n",
    "'''\n",
    " Set trigger source\n",
    "    Set the trigger source to software in order to trigger images without\n",
    "    the use of any additional hardware. Lines of the GPIO can also be used\n",
    "    to trigger.\n",
    "'''\n",
    "\n",
    "trigger_source_node.value = \"Software\"\n",
    "\n",
    "'''\n",
    "Set trigger overlap\n",
    "    Trigger overlap defines when a trigger can start accepting a new frame.\n",
    "    Setting trigger to overlap with the previous frame allows the camera to\n",
    "    being exposing the new frame while the camera is still reading out the\n",
    "    sensor data acquired from the previous frame.\n",
    "    std::cout << TAB1 << \"Set trigger overlap to PreviousFrame\\n\";\n",
    "'''\n",
    "\n",
    "trigger_overlap_node.value = \"PreviousFrame\"\n",
    "\n"
   ]
  },
  {
   "cell_type": "code",
   "execution_count": 23,
   "metadata": {},
   "outputs": [],
   "source": [
    "\n",
    "'''\n",
    "Set event selector\n",
    "    We want to trigger and wait to be notified as soon as a certain event\n",
    "    occurs while making the image. Here we choose to be notified at the end\n",
    "    of the exposure of an image.\n",
    "'''\n",
    "\n",
    "event_selector_node.value = \"ExposureEnd\"\n",
    "\n",
    "'''\n",
    "Set event notification\n",
    "    After choosing which event to be notified about, enabling the\n",
    "    EventNotification node will turn on the notification for the event\n",
    "    selected in the EventSelector node.\n",
    "'''\n",
    "\n",
    "event_notification_node.value = \"On\"\n"
   ]
  },
  {
   "cell_type": "code",
   "execution_count": 24,
   "metadata": {},
   "outputs": [
    {
     "name": "stdout",
     "output_type": "stream",
     "text": [
      "Exposure time in nanoseconds: 79191672.0\n"
     ]
    }
   ],
   "source": [
    "'''\n",
    "Retrieve exposure time\n",
    "    The exposure time is similar to the time between triggering images.\n",
    "    This is shown by turning off automatic exposure, retrieving the\n",
    "    exposure time and converting to nanoseconds.\n",
    "'''\n",
    "\n",
    "exposure_auto_node.value = \"Off\"\n",
    "exposure_time = nodemap.get_node(\"ExposureTime\").value\n",
    "print(f\"Exposure time in nanoseconds: {exposure_time * 1000}\")"
   ]
  },
  {
   "cell_type": "code",
   "execution_count": 25,
   "metadata": {},
   "outputs": [
    {
     "name": "stdout",
     "output_type": "stream",
     "text": [
      "Image triggered and ExposureEnd Event notification arrived\n",
      "Image triggered and ExposureEnd Event notification arrived\n",
      "Image triggered and ExposureEnd Event notification arrived\n",
      "Image triggered and ExposureEnd Event notification arrived\n",
      "Image triggered and ExposureEnd Event notification arrived\n",
      "Image triggered and ExposureEnd Event notification arrived\n",
      "Image triggered and ExposureEnd Event notification arrived\n",
      "Image triggered and ExposureEnd Event notification arrived\n",
      "Image triggered and ExposureEnd Event notification arrived\n",
      "Image triggered and ExposureEnd Event notification arrived\n",
      "Image triggered and ExposureEnd Event notification arrived\n",
      "Image triggered and ExposureEnd Event notification arrived\n",
      "Image triggered and ExposureEnd Event notification arrived\n",
      "Image triggered and ExposureEnd Event notification arrived\n",
      "Image triggered and ExposureEnd Event notification arrived\n",
      "Image triggered and ExposureEnd Event notification arrived\n",
      "Image triggered and ExposureEnd Event notification arrived\n",
      "Image triggered and ExposureEnd Event notification arrived\n",
      "Image triggered and ExposureEnd Event notification arrived\n",
      "Image triggered and ExposureEnd Event notification arrived\n",
      "Image triggered and ExposureEnd Event notification arrived\n",
      "Image triggered and ExposureEnd Event notification arrived\n",
      "Image triggered and ExposureEnd Event notification arrived\n",
      "Image triggered and ExposureEnd Event notification arrived\n",
      "Image triggered and ExposureEnd Event notification arrived\n",
      "Image triggered and ExposureEnd Event notification arrived\n",
      "Image triggered and ExposureEnd Event notification arrived\n",
      "Image triggered and ExposureEnd Event notification arrived\n",
      "Image triggered and ExposureEnd Event notification arrived\n",
      "Image triggered and ExposureEnd Event notification arrived\n",
      "Grabbed 30 buffers\n"
     ]
    }
   ],
   "source": [
    "'''\n",
    "Trigger an image\n",
    "    Trigger an image manually, since trigger mode is enabled. This triggers\n",
    "    the camera to acquire a single image. A buffer is then filled and moved\n",
    "    to the output queue, where it will wait to be retrieved.\n",
    "'''\n",
    "trigger_software_node = nodemap.get_node(\"TriggerSoftware\")\n",
    "wait_on_event_timeout = 3000\n",
    "\n",
    "device.start_stream(number_of_buffers)\n",
    "for i in range(number_of_buffers):\n",
    "    '''\n",
    "    Trigger Armed\n",
    "        Continually check until trigger is armed. Once the trigger is\n",
    "        armed, it is ready to be executed.\n",
    "    '''\n",
    "    print(\"Image triggered\", end=\"\")\n",
    "    is_trigger_armed = False\n",
    "\n",
    "    while(not is_trigger_armed):\n",
    "        is_trigger_armed = nodemap.get_node(\"TriggerArmed\")\n",
    "\n",
    "    trigger_software_node.execute()\n",
    "\n",
    "    '''\n",
    "    Wait on event\n",
    "        Wait on event to process before continuing. The data is created\n",
    "        from the event generation, not from waiting on it.\n",
    "    '''\n",
    "    device.wait_on_event(wait_on_event_timeout)\n",
    "    print(\" and ExposureEnd Event notification arrived\")\n",
    "\n",
    "print(f\"Grabbed {number_of_buffers} buffers\")"
   ]
  },
  {
   "cell_type": "code",
   "execution_count": 26,
   "metadata": {},
   "outputs": [
    {
     "name": "stdout",
     "output_type": "stream",
     "text": [
      "Getting buffer\n",
      "Image 0 timestamp: 144521003552\n",
      "Getting buffer\n",
      "Image 1 timestamp: 144602024552(81021000 ns since last trigger)\n",
      "Getting buffer\n",
      "Image 2 timestamp: 144682979552(80955000 ns since last trigger)\n",
      "Getting buffer\n",
      "Image 3 timestamp: 144764165352(81185800 ns since last trigger)\n",
      "Getting buffer\n",
      "Image 4 timestamp: 144845120352(80955000 ns since last trigger)\n",
      "Getting buffer\n",
      "Image 5 timestamp: 144926042552(80922200 ns since last trigger)\n",
      "Getting buffer\n",
      "Image 6 timestamp: 145007030552(80988000 ns since last trigger)\n",
      "Getting buffer\n",
      "Image 7 timestamp: 145087985552(80955000 ns since last trigger)\n",
      "Getting buffer\n",
      "Image 8 timestamp: 145168940752(80955200 ns since last trigger)\n",
      "Getting buffer\n",
      "Image 9 timestamp: 145249961752(81021000 ns since last trigger)\n",
      "Getting buffer\n",
      "Image 10 timestamp: 145331180352(81218600 ns since last trigger)\n",
      "Getting buffer\n",
      "Image 11 timestamp: 145412102552(80922200 ns since last trigger)\n",
      "Getting buffer\n",
      "Image 12 timestamp: 145493222352(81119800 ns since last trigger)\n",
      "Getting buffer\n",
      "Image 13 timestamp: 145574144352(80922000 ns since last trigger)\n",
      "Getting buffer\n",
      "Image 14 timestamp: 145655264352(81120000 ns since last trigger)\n",
      "Getting buffer\n",
      "Image 15 timestamp: 145736318152(81053800 ns since last trigger)\n",
      "Getting buffer\n",
      "Image 16 timestamp: 145817174352(80856200 ns since last trigger)\n",
      "Getting buffer\n",
      "Image 17 timestamp: 145898195352(81021000 ns since last trigger)\n",
      "Getting buffer\n",
      "Image 18 timestamp: 145979150552(80955200 ns since last trigger)\n",
      "Getting buffer\n",
      "Image 19 timestamp: 146060105552(80955000 ns since last trigger)\n",
      "Getting buffer\n",
      "Image 20 timestamp: 146141027752(80922200 ns since last trigger)\n",
      "Getting buffer\n",
      "Image 21 timestamp: 146222081552(81053800 ns since last trigger)\n",
      "Getting buffer\n",
      "Image 22 timestamp: 146303234352(81152800 ns since last trigger)\n",
      "Getting buffer\n",
      "Image 23 timestamp: 146384387152(81152800 ns since last trigger)\n",
      "Getting buffer\n",
      "Image 24 timestamp: 146465210352(80823200 ns since last trigger)\n",
      "Getting buffer\n",
      "Image 25 timestamp: 146546363152(81152800 ns since last trigger)\n",
      "Getting buffer\n",
      "Image 26 timestamp: 146627285352(80922200 ns since last trigger)\n",
      "Getting buffer\n",
      "Image 27 timestamp: 146708240352(80955000 ns since last trigger)\n",
      "Getting buffer\n",
      "Image 28 timestamp: 146789162552(80922200 ns since last trigger)\n",
      "Getting buffer\n",
      "Image 29 timestamp: 146870117552(80955000 ns since last trigger)\n"
     ]
    }
   ],
   "source": [
    "'''\n",
    "Retrieve images and timestamps\n",
    "    Images were acquired earlier\n",
    "    Must be retrieved from device\n",
    "    In buffers that we allocated earlier\n",
    "'''\n",
    "\n",
    "timestamp_ns = []\n",
    "\n",
    "for i in range(number_of_buffers): \n",
    "    print(\"Getting buffer\")\n",
    "    buffer = device.get_buffer()\n",
    "    timestamp_ns.append(buffer.timestamp_ns)\n",
    "\n",
    "    print(f\"Image {i} timestamp: {timestamp_ns[i]}\", end=\"\")\n",
    "\n",
    "    if (i > 0):\n",
    "        trigger_timestamp_difference = timestamp_ns[i] - timestamp_ns[i - 1]\n",
    "        print(f\"({trigger_timestamp_difference} ns since last trigger)\")\n",
    "    else:\n",
    "        print()\n",
    "\n",
    "    device.requeue_buffer(buffer)"
   ]
  },
  {
   "cell_type": "code",
   "execution_count": 27,
   "metadata": {},
   "outputs": [],
   "source": [
    "device.deinitialize_events()\n",
    "device.stop_stream()\n",
    "\n",
    "# Restore initial values\n",
    "trigger_source_node.value = initial_trigger_source\n",
    "trigger_overlap_node.value = initial_trigger_overlap\n",
    "trigger_selector_node.value = initial_trigger_selector\n",
    "trigger_mode_node.value = initial_trigger_mode\n",
    "\n",
    "event_notification_node.value = inital_event_notification\n",
    "event_selector_node.value = initial_event_selector\n",
    "\n",
    "exposure_auto_node.value = initial_exposure_auto\n",
    "\n",
    "nodemap.get_node(\"AcquisitionMode\").value = initial_acquisition_mode\n",
    "\n",
    "system.destroy_device()"
   ]
  }
 ],
 "metadata": {
  "interpreter": {
   "hash": "3da5db85d9f5f7fce7af321096f4072067948d3445eede98938ef98c3c692858"
  },
  "kernelspec": {
   "display_name": "Python 3.9.7 64-bit ('ve_win_dev_py64': venv)",
   "name": "python3"
  },
  "language_info": {
   "codemirror_mode": {
    "name": "ipython",
    "version": 3
   },
   "file_extension": ".py",
   "mimetype": "text/x-python",
   "name": "python",
   "nbconvert_exporter": "python",
   "pygments_lexer": "ipython3",
   "version": "3.6.8"
  },
  "orig_nbformat": 4
 },
 "nbformat": 4,
 "nbformat_minor": 2
}
