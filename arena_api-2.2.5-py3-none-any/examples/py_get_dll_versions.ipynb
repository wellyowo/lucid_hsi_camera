{
 "cells": [
  {
   "cell_type": "code",
   "execution_count": null,
   "metadata": {},
   "outputs": [],
   "source": [
    "# -----------------------------------------------------------------------------\n",
    "# Copyright (c) 2022, Lucid Vision Labs, Inc.\n",
    "#\n",
    "# THE SOFTWARE IS PROVIDED \"AS IS\", WITHOUT WARRANTY OF ANY KIND,\n",
    "# EXPRESS OR IMPLIED, INCLUDING BUT NOT LIMITED TO THE WARRANTIES\n",
    "# OF MERCHANTABILITY, FITNESS FOR A PARTICULAR PURPOSE AND\n",
    "# NONINFRINGEMENT. IN NO EVENT SHALL THE AUTHORS OR COPYRIGHT HOLDERS\n",
    "# BE LIABLE FOR ANY CLAIM, DAMAGES OR OTHER LIABILITY, WHETHER IN AN\n",
    "# ACTION OF CONTRACT, TORT OR OTHERWISE, ARISING FROM, OUT OF OR IN\n",
    "# CONNECTION WITH THE SOFTWARE OR THE USE OR OTHER DEALINGS IN\n",
    "# THE SOFTWARE.\n",
    "# -----------------------------------------------------------------------------"
   ]
  },
  {
   "cell_type": "code",
   "execution_count": null,
   "metadata": {},
   "outputs": [],
   "source": [
    "from pprint import pprint\n",
    "\n",
    "import arena_api\n",
    "from arena_api.system import system"
   ]
  },
  {
   "cell_type": "code",
   "execution_count": null,
   "metadata": {},
   "outputs": [],
   "source": [
    "\"\"\"\n",
    "Get DLL Version: Introduction\n",
    "    The example introduces the arena api library functions to get the\n",
    "    version of the package, dll, and binaries. \n",
    "\"\"\""
   ]
  },
  {
   "cell_type": "code",
   "execution_count": null,
   "metadata": {},
   "outputs": [],
   "source": [
    "\"\"\"\n",
    "Get package version -----------------------------------------------------\n",
    "\"\"\"\n",
    "\n",
    "\"\"\"\n",
    "Method 1\n",
    "\"\"\"\n",
    "print(f'arena_api.__version__ = {arena_api.__version__}')\n",
    "\n",
    "\"\"\"\n",
    "Method 2\n",
    "\n",
    "the same can be obtained from 'version.py' module as well\n",
    "Code: print(f'arena_api.version.__version__ = {arena_api.version.__version__}')\n",
    "\"\"\""
   ]
  },
  {
   "cell_type": "code",
   "execution_count": null,
   "metadata": {},
   "outputs": [],
   "source": [
    "\"\"\"\n",
    "Get dll versions -----------------------------------------------------\n",
    "\"\"\"\n",
    "\n",
    "\"\"\"\t\n",
    "Arena_api is a wrapper built on top of ArenaC library, so the package\n",
    "uses 'ArenaCd_v140.dll' or libarenac.so. The ArenaC binary has different\n",
    "versions for different platforms. Here is a way to know the minimum and\n",
    "maximum version of ArenaC supported by the current package. This could\n",
    "help in deciding whether to update arena_api or ArenaC.\n",
    "\"\"\"\n",
    "print('\\nsupported_dll_versions')\n",
    "pprint(arena_api.version.supported_dll_versions)"
   ]
  },
  {
   "cell_type": "code",
   "execution_count": null,
   "metadata": {},
   "outputs": [],
   "source": [
    "\"\"\"\n",
    "For the current platform the key 'this_platform' key can be used\n",
    "\"\"\"\n",
    "print('\\nsupported_dll_versions for this platform')\n",
    "pprint(arena_api.version.supported_dll_versions['this_platform'])"
   ]
  },
  {
   "cell_type": "code",
   "execution_count": null,
   "metadata": {},
   "outputs": [],
   "source": [
    "\"\"\"\n",
    "Get loaded ArenaC and SaveC binaries versions ---------------------------\n",
    "\"\"\"\n",
    "print('\\nloaded_binary_versions')\n",
    "pprint(arena_api.version.loaded_binary_versions)"
   ]
  }
 ],
 "metadata": {
  "language_info": {
   "name": "python"
  },
  "orig_nbformat": 4
 },
 "nbformat": 4,
 "nbformat_minor": 2
}
