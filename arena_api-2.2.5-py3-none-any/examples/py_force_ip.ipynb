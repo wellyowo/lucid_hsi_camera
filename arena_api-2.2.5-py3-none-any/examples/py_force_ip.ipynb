{
 "cells": [
  {
   "cell_type": "code",
   "execution_count": 1,
   "metadata": {},
   "outputs": [],
   "source": [
    "# -----------------------------------------------------------------------------\n",
    "# Copyright (c) 2022, Lucid Vision Labs, Inc.\n",
    "#\n",
    "# THE SOFTWARE IS PROVIDED \"AS IS\", WITHOUT WARRANTY OF ANY KIND,\n",
    "# EXPRESS OR IMPLIED, INCLUDING BUT NOT LIMITED TO THE WARRANTIES\n",
    "# OF MERCHANTABILITY, FITNESS FOR A PARTICULAR PURPOSE AND\n",
    "# NONINFRINGEMENT. IN NO EVENT SHALL THE AUTHORS OR COPYRIGHT HOLDERS\n",
    "# BE LIABLE FOR ANY CLAIM, DAMAGES OR OTHER LIABILITY, WHETHER IN AN\n",
    "# ACTION OF CONTRACT, TORT OR OTHERWISE, ARISING FROM, OUT OF OR IN\n",
    "# CONNECTION WITH THE SOFTWARE OR THE USE OR OTHER DEALINGS IN\n",
    "# THE SOFTWARE.\n",
    "# -----------------------------------------------------------------------------"
   ]
  },
  {
   "cell_type": "code",
   "execution_count": 2,
   "metadata": {},
   "outputs": [],
   "source": [
    "from arena_api.system import system\n",
    "from pprint import pprint"
   ]
  },
  {
   "cell_type": "code",
   "execution_count": 3,
   "metadata": {},
   "outputs": [
    {
     "data": {
      "text/plain": [
       "'\\nForce IP\\n    This example demonstrates how to force network settings. It does this by\\n    adding 1 to the final octet of the IP address. It leaves the subnet mask\\n    and default gateway as is although the same method is used to change these\\n    as well.\\n'"
      ]
     },
     "execution_count": 3,
     "metadata": {},
     "output_type": "execute_result"
    }
   ],
   "source": [
    "'''\n",
    "Force IP\n",
    "    This example demonstrates how to force network settings. It does this by\n",
    "    adding 1 to the final octet of the IP address. It leaves the subnet mask\n",
    "    and default gateway as is although the same method is used to change these\n",
    "    as well.\n",
    "'''"
   ]
  },
  {
   "cell_type": "code",
   "execution_count": 4,
   "metadata": {},
   "outputs": [],
   "source": [
    "def add_one_to_ip(ip):\n",
    "    octet0, octet1, octet2, octet3 = ip.split(\".\")\n",
    "    if octet3 == \"254\":  # Avoid 255\n",
    "        octet3 = \"1\"\n",
    "    else:\n",
    "        octet3 = str(int(octet3) + 1)\n",
    "    return f\"{octet0}.{octet1}.{octet2}.{octet3}\""
   ]
  },
  {
   "cell_type": "code",
   "execution_count": 5,
   "metadata": {},
   "outputs": [
    {
     "name": "stdout",
     "output_type": "stream",
     "text": [
      "Discover devices on network\n",
      "1 devices found\n",
      "Device 0 info: \n",
      "{   'defaultgateway': '0.0.0.0',\n",
      "    'dhcp': False,\n",
      "    'ip': '169.254.3.3',\n",
      "    'lla': True,\n",
      "    'mac': '1c:0f:af:00:00:40',\n",
      "    'model': 'PHX050S-C',\n",
      "    'name': 'ThisIsAValue',\n",
      "    'presistentip': True,\n",
      "    'serial': '64',\n",
      "    'subnetmask': '255.254.0.0',\n",
      "    'vendor': 'Lucid Vision Labs',\n",
      "    'version': '1.62.0.0'}\n",
      "Current IP =  169.254.3.3\n",
      "New IP     =  169.254.3.4\n",
      "New IP is being forced\n",
      "New IP was forced successfully\n"
     ]
    }
   ],
   "source": [
    "# Discover devices --------------------------------------------------------\n",
    "\n",
    "print('Discover devices on network')\n",
    "device_infos = system.device_infos\n",
    "print(f'{len(device_infos)} devices found')\n",
    "\n",
    "if not device_infos:\n",
    "    raise BaseException('No device is found!')\n",
    "\n",
    "# Choose the first device for this example\n",
    "device_info = device_infos[0]\n",
    "\n",
    "'''\n",
    "Forcing the IP address requires a device's MAC address to specify the\n",
    "    device. This example grabs the IP address, subnet mask, and default\n",
    "    gateway as well to display changes and return the device to its\n",
    "    original IP address.\n",
    "'''\n",
    "print('Device 0 info: ')\n",
    "pprint(device_info, indent=4)\n",
    "\n",
    "# Create new IP -----------------------------------------------------------\n",
    "\n",
    "print('Current IP = ', device_info['ip'])\n",
    "new_ip = add_one_to_ip(device_info['ip'])\n",
    "\n",
    "'''\n",
    "The original device_info can be used however system.force_ip\n",
    "    will used on 'mac' ,'ip' ,'subnetmask' , and 'defaultgateway'.\n",
    "    This new dictionary to show what is needed by 'System.force_ip()'\n",
    "'''\n",
    "device_info_new = {\n",
    "    'mac': device_info['mac'],\n",
    "    'ip': new_ip,\n",
    "    'subnetmask': device_info['subnetmask'],\n",
    "    'defaultgateway': device_info['defaultgateway']\n",
    "}\n",
    "print('New IP = ', device_info_new['ip'])\n",
    "\n",
    "# Force IP ----------------------------------------------------------------\n",
    "\n",
    "'''\n",
    "Note: The force_ip function can also take a list of device infos to\n",
    "    force new IP addesses for multiple devices.\n",
    "'''\n",
    "print('New IP is being forced')\n",
    "system.force_ip(device_info_new)\n",
    "print('New IP was forced successfully')"
   ]
  }
 ],
 "metadata": {
  "interpreter": {
   "hash": "3620b89036c69a489b14ec4722691b63ae49f46a05ab29903dce938fdeb7f627"
  },
  "kernelspec": {
   "display_name": "Python 3.9.7 64-bit ('ve_win_dev_py64': venv)",
   "name": "python3"
  },
  "language_info": {
   "codemirror_mode": {
    "name": "ipython",
    "version": 3
   },
   "file_extension": ".py",
   "mimetype": "text/x-python",
   "name": "python",
   "nbconvert_exporter": "python",
   "pygments_lexer": "ipython3",
   "version": "3.9.7"
  },
  "orig_nbformat": 4
 },
 "nbformat": 4,
 "nbformat_minor": 2
}
