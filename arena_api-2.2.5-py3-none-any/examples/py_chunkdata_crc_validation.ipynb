{
 "cells": [
  {
   "cell_type": "code",
   "execution_count": 20,
   "source": [
    "# -----------------------------------------------------------------------------\r\n",
    "# Copyright (c) 2022, Lucid Vision Labs, Inc.\r\n",
    "#\r\n",
    "# THE SOFTWARE IS PROVIDED \"AS IS\", WITHOUT WARRANTY OF ANY KIND,\r\n",
    "# EXPRESS OR IMPLIED, INCLUDING BUT NOT LIMITED TO THE WARRANTIES\r\n",
    "# OF MERCHANTABILITY, FITNESS FOR A PARTICULAR PURPOSE AND\r\n",
    "# NONINFRINGEMENT. IN NO EVENT SHALL THE AUTHORS OR COPYRIGHT HOLDERS\r\n",
    "# BE LIABLE FOR ANY CLAIM, DAMAGES OR OTHER LIABILITY, WHETHER IN AN\r\n",
    "# ACTION OF CONTRACT, TORT OR OTHERWISE, ARISING FROM, OUT OF OR IN\r\n",
    "# CONNECTION WITH THE SOFTWARE OR THE USE OR OTHER DEALINGS IN\r\n",
    "# THE SOFTWARE.\r\n",
    "# -----------------------------------------------------------------------------\r\n"
   ],
   "outputs": [],
   "metadata": {}
  },
  {
   "cell_type": "code",
   "execution_count": 21,
   "source": [
    "import time\r\n",
    "from arena_api.system import system"
   ],
   "outputs": [],
   "metadata": {}
  },
  {
   "cell_type": "code",
   "execution_count": 22,
   "source": [
    "'''\r\n",
    "Chunk Data: CRC Validation\r\n",
    "    This example demonstrates the use of chunk data to verify data\r\n",
    "    through a Cyclical Redundancy Check (or CRC for short). CRCs are\r\n",
    "    meant to check the validity of sent data. It is performed by doing\r\n",
    "    a series of calculations on the raw data before and after it is\r\n",
    "    sent. If the resultant integer values match, then it is safe to\r\n",
    "    assume the integrity of the data.\r\n",
    "'''"
   ],
   "outputs": [
    {
     "output_type": "execute_result",
     "data": {
      "text/plain": [
       "'\\nChunk Data: CRC Validation\\n    This example demonstrates the use of chunk data to verify data\\n    through a Cyclical Redundancy Check (or CRC for short). CRCs are\\n    meant to check the validity of sent data. It is performed by doing\\n    a series of calculations on the raw data before and after it is\\n    sent. If the resultant integer values match, then it is safe to\\n    assume the integrity of the data.\\n'"
      ]
     },
     "metadata": {},
     "execution_count": 22
    }
   ],
   "metadata": {}
  },
  {
   "cell_type": "code",
   "execution_count": 23,
   "source": [
    "\"\"\"\r\n",
    "This code block waits for the user to connect a device before raising\r\n",
    "an exception\r\n",
    "\"\"\"\r\n",
    "\r\n",
    "tries = 0\r\n",
    "tries_max = 6\r\n",
    "sleep_time_secs = 10\r\n",
    "while tries < tries_max:  # Wait for device for 60 seconds\r\n",
    "    devices = system.create_device()\r\n",
    "    if not devices:\r\n",
    "        print(\r\n",
    "            f'Try {tries+1} of {tries_max}: waiting for {sleep_time_secs} '\r\n",
    "            f'secs for a device to be connected!')\r\n",
    "        for sec_count in range(sleep_time_secs):\r\n",
    "            time.sleep(1)\r\n",
    "            print(f'{sec_count + 1 } seconds passed ',\r\n",
    "                  '.' * sec_count, end='\\r')\r\n",
    "        tries += 1\r\n",
    "    else:\r\n",
    "        print(f'Created {len(devices)} device(s)\\n')\r\n",
    "        device = devices[0]\r\n",
    "        break\r\n",
    "else:\r\n",
    "    raise Exception(f'No device found! Please connect a device and run '\r\n",
    "                    f'the example again.')"
   ],
   "outputs": [
    {
     "output_type": "stream",
     "name": "stdout",
     "text": [
      "Created 1 device(s)\n",
      "\n"
     ]
    }
   ],
   "metadata": {}
  },
  {
   "cell_type": "code",
   "execution_count": 24,
   "source": [
    "'''\r\n",
    "Configure device settings and store initial settings\r\n",
    "'''\r\n",
    "\r\n",
    "device = devices[0]\r\n",
    "print(f'Device used in the example:\\n\\t{device}')\r\n",
    "\r\n",
    "nodemap = device.nodemap\r\n",
    "tl_stream_nodemap = device.tl_stream_nodemap\r\n",
    "\r\n",
    "# Store initial acquisition mode and set it to Continuous\r\n",
    "initial_acquisition_mode = nodemap.get_node(\"AcquisitionMode\").value\r\n",
    "nodemap.get_node(\"AcquisitionMode\").value = \"Continuous\"\r\n",
    "\r\n",
    "# Enable stream auto negotiate packet size\r\n",
    "tl_stream_nodemap['StreamAutoNegotiatePacketSize'].value = True\r\n",
    "\r\n",
    "# Enable stream packet resend\r\n",
    "tl_stream_nodemap['StreamPacketResendEnable'].value = True\r\n",
    "\r\n",
    "\r\n",
    "\r\n",
    "\r\n",
    "\r\n",
    "'''\r\n",
    "Prep device to send chunk data with the buffer\r\n",
    "'''\r\n",
    "initial_chunk_mode_active = nodemap.get_node(\"ChunkModeActive\").value\r\n",
    "print('Activating chunk data on device')\r\n",
    "nodemap.get_node('ChunkModeActive').value = True\r\n",
    "\r\n",
    "# Use CRC chunk: unnecessary, any chunk works\r\n",
    "initial_chunk_selector = nodemap.get_node('ChunkSelector').value\r\n",
    "print(f\"\\tSetting 'ChunkSelector' node value to 'CRC'\")\r\n",
    "nodemap.get_node(\"ChunkSelector\").value = \"CRC\"\r\n",
    "\r\n",
    "initial_chunk_enable = nodemap.get_node('ChunkEnable').value\r\n",
    "print(f\"\\tEnabling CRC by setting 'ChunkEnable' node value to 'True'\")\r\n",
    "nodemap.get_node(\"ChunkEnable\").value = True"
   ],
   "outputs": [
    {
     "output_type": "stream",
     "name": "stdout",
     "text": [
      "Device used in the example:\n",
      "\t('1c:0f:af:00:00:40', 'PHX050S-C', 'ThisIsAValue', '169.254.3.2')\n",
      "Activating chunk data on device\n",
      "\tSetting 'ChunkSelector' node value to 'CRC'\n",
      "\tEnabling CRC by setting 'ChunkEnable' node value to 'True'\n"
     ]
    }
   ],
   "metadata": {}
  },
  {
   "cell_type": "code",
   "execution_count": 25,
   "source": [
    "'''\r\n",
    "Retrieve and validate chunk data using CRC\r\n",
    "'''\r\n",
    "# Starting the stream allocates buffers and begins filling them with data.\r\n",
    "with device.start_stream():\r\n",
    "    print(f'Stream started with 10 buffers')\r\n",
    "    '''\r\n",
    "    Buffers contains chunk data that was enabled.\r\n",
    "        'Device.get_buffer()' with no arguments returns only one buffer\r\n",
    "        'Device.get_buffer()' with a number greater than 1 returns a list of buffers\r\n",
    "    '''\r\n",
    "    print('\\tGet chunk data buffer(s)')\r\n",
    "\r\n",
    "    # This would timeout or returns all of the 10 buffers\r\n",
    "    chunk_data_buffers = device.get_buffer(number_of_buffers=10)\r\n",
    "    print(f'\\t{len(chunk_data_buffers)} chunk data buffers received')\r\n",
    "\r\n",
    "    '''\r\n",
    "    Confirm that each chunk is complete, then validate the buffer's CRC\r\n",
    "    '''\r\n",
    "    for buffer_index, chunk_data_buffer in enumerate(chunk_data_buffers):\r\n",
    "        if chunk_data_buffer.is_incomplete:\r\n",
    "            print(f'\\t\\t---------------------------------------------')\r\n",
    "            print(f'\\t\\tChunk data buffer{buffer_index} is incomplete')\r\n",
    "            print(f'\\t\\t---------------------------------------------')\r\n",
    "            # Continue\r\n",
    "        try:\r\n",
    "            '''\r\n",
    "            Buffer.is_valid_crc: compares calculated CRC value to the chunk CRC value.\r\n",
    "                This only works with buffers retrieved in chunk mode.\r\n",
    "            '''\r\n",
    "            print(f\"\\t\\tChunk data CRC is valid: {chunk_data_buffer.is_valid_crc}\")\r\n",
    "        except ValueError:\r\n",
    "            print(f'\\t\\t\\tFailed to get chunks')\r\n",
    "            print(f'\\t\\t---------------------------------------------')\r\n",
    "            continue\r\n",
    "\r\n",
    "    # Requeue the chunk data buffers\r\n",
    "    device.requeue_buffer(chunk_data_buffers)"
   ],
   "outputs": [
    {
     "output_type": "stream",
     "name": "stdout",
     "text": [
      "Stream started with 10 buffers\n",
      "\tGet chunk data buffer(s)\n",
      "\t10 chunk data buffers received\n",
      "\t\tChunk data CRC is valid: True\n",
      "\t\tChunk data CRC is valid: True\n",
      "\t\tChunk data CRC is valid: True\n",
      "\t\tChunk data CRC is valid: True\n",
      "\t\tChunk data CRC is valid: True\n",
      "\t\tChunk data CRC is valid: True\n",
      "\t\tChunk data CRC is valid: True\n",
      "\t\tChunk data CRC is valid: True\n",
      "\t\tChunk data CRC is valid: True\n",
      "\t\tChunk data CRC is valid: True\n"
     ]
    }
   ],
   "metadata": {}
  },
  {
   "cell_type": "code",
   "execution_count": 26,
   "source": [
    "'''\r\n",
    "Restore initial settings and destroy devices\r\n",
    "'''\r\n",
    "\r\n",
    "# Restore initial values\r\n",
    "nodemap.get_node(\"ChunkEnable\").value = initial_chunk_enable\r\n",
    "nodemap.get_node(\"ChunkSelector\").value = initial_chunk_selector\r\n",
    "nodemap.get_node(\"ChunkModeActive\").value = initial_chunk_mode_active\r\n",
    "\r\n",
    "nodemap.get_node(\"AcquisitionMode\").value = initial_acquisition_mode\r\n",
    "# Destroy all created devices. Redundant: automatically called when module unloads\r\n",
    "system.destroy_device()\r\n",
    "print('Destroyed all created devices')\r\n"
   ],
   "outputs": [
    {
     "output_type": "stream",
     "name": "stdout",
     "text": [
      "Destroyed all created devices\n"
     ]
    }
   ],
   "metadata": {}
  }
 ],
 "metadata": {
  "orig_nbformat": 4,
  "language_info": {
   "name": "python",
   "version": "3.9.7",
   "mimetype": "text/x-python",
   "codemirror_mode": {
    "name": "ipython",
    "version": 3
   },
   "pygments_lexer": "ipython3",
   "nbconvert_exporter": "python",
   "file_extension": ".py"
  },
  "kernelspec": {
   "name": "python3",
   "display_name": "Python 3.9.7 64-bit ('ve_win_dev_py64': venv)"
  },
  "interpreter": {
   "hash": "3620b89036c69a489b14ec4722691b63ae49f46a05ab29903dce938fdeb7f627"
  }
 },
 "nbformat": 4,
 "nbformat_minor": 2
}