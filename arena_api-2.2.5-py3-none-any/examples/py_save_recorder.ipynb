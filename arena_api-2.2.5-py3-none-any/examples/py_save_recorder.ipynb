{
 "cells": [
  {
   "cell_type": "code",
   "execution_count": null,
   "metadata": {},
   "outputs": [],
   "source": [
    "# -----------------------------------------------------------------------------\n",
    "# Copyright (c) 2022, Lucid Vision Labs, Inc.\n",
    "#\n",
    "# THE SOFTWARE IS PROVIDED \"AS IS\", WITHOUT WARRANTY OF ANY KIND,\n",
    "# EXPRESS OR IMPLIED, INCLUDING BUT NOT LIMITED TO THE WARRANTIES\n",
    "# OF MERCHANTABILITY, FITNESS FOR A PARTICULAR PURPOSE AND\n",
    "# NONINFRINGEMENT. IN NO EVENT SHALL THE AUTHORS OR COPYRIGHT HOLDERS\n",
    "# BE LIABLE FOR ANY CLAIM, DAMAGES OR OTHER LIABILITY, WHETHER IN AN\n",
    "# ACTION OF CONTRACT, TORT OR OTHERWISE, ARISING FROM, OUT OF OR IN\n",
    "# CONNECTION WITH THE SOFTWARE OR THE USE OR OTHER DEALINGS IN\n",
    "# THE SOFTWARE.\n",
    "# -----------------------------------------------------------------------------"
   ]
  },
  {
   "cell_type": "code",
   "execution_count": 2,
   "metadata": {},
   "outputs": [],
   "source": [
    "import time\n",
    "\n",
    "from arena_api.__future__.save import Recorder\n",
    "from arena_api.buffer import BufferFactory\n",
    "from arena_api.enums import PixelFormat\n",
    "from arena_api.system import system"
   ]
  },
  {
   "cell_type": "code",
   "execution_count": null,
   "metadata": {},
   "outputs": [],
   "source": [
    "\"\"\"\n",
    "Save Recorder: Introduction\n",
    "\tThis example demonstrates creating a save recorder\n",
    "\tto save videos from image buffer data. This includes,\n",
    "\tconfiguring and initializing save recorder, getting and\n",
    "\tappending buffers to the recorder, saving the video.\n",
    "\"\"\""
   ]
  },
  {
   "cell_type": "code",
   "execution_count": 3,
   "metadata": {},
   "outputs": [],
   "source": [
    "\"\"\"\n",
    "Waits for the user to connect a device before raising\n",
    "an exception if it fails\n",
    "\"\"\"\n",
    "tries = 0\n",
    "tries_max = 6\n",
    "sleep_time_secs = 10\n",
    "devices = None\n",
    "while tries < tries_max:  # Wait for device for 60 seconds\n",
    "    devices = system.create_device()\n",
    "    if not devices:\n",
    "        print(\n",
    "            f'Try {tries+1} of {tries_max}: waiting for {sleep_time_secs} '\n",
    "            f'secs for a device to be connected!')\n",
    "        for sec_count in range(sleep_time_secs):\n",
    "            time.sleep(1)\n",
    "            print(f'{sec_count + 1 } seconds passed ',\n",
    "                    '.' * sec_count, end='\\r')\n",
    "        tries += 1\n",
    "    else:\n",
    "        break\n",
    "else:\n",
    "    raise Exception(f'No device found! Please connect a device and run '\n",
    "                    f'the example again.')"
   ]
  },
  {
   "cell_type": "code",
   "execution_count": 4,
   "metadata": {},
   "outputs": [
    {
     "name": "stdout",
     "output_type": "stream",
     "text": [
      "Device used in the example:\n",
      "\t('1c:0f:af:12:53:65', 'PHX050S-C', 'new', '169.254.3.2')\n"
     ]
    }
   ],
   "source": [
    "\"\"\"\n",
    "Setup stream nodes\n",
    "\"\"\"\n",
    "\n",
    "device = devices[0]\n",
    "nodemap = device.nodemap\n",
    "tl_stream_nodemap = device.tl_stream_nodemap\n",
    "print(f'Device used in the example:\\n\\t{device}')\n",
    "\n",
    "# Enable stream auto negotiate packet size\n",
    "tl_stream_nodemap['StreamAutoNegotiatePacketSize'].value = True\n",
    "\n",
    "# Enable stream packet resend\n",
    "tl_stream_nodemap['StreamPacketResendEnable'].value = True"
   ]
  },
  {
   "cell_type": "code",
   "execution_count": 5,
   "metadata": {},
   "outputs": [],
   "source": [
    "\"\"\"\n",
    "Configure camera nodes\n",
    "\"\"\"\n",
    "\"\"\"\n",
    "set width and height to max values might make the video frame rate low\n",
    "The larger the height of the buffer the lower the fps\n",
    "\"\"\"\n",
    "width_node = nodemap['Width']\n",
    "width = nodemap['Width'].max\n",
    "\n",
    "height_node = nodemap['Height']\n",
    "height = nodemap['Height'].max\n",
    "\n",
    "\"\"\"\n",
    "if the images from the device are already in the format expected by the\n",
    "recorder then no need to convert received buffers which results in better\n",
    "performance\n",
    "\"\"\"\n",
    "nodemap['PixelFormat'].value = PixelFormat.BGR8"
   ]
  },
  {
   "cell_type": "code",
   "execution_count": null,
   "metadata": {},
   "outputs": [],
   "source": [
    "with device.start_stream(100):\n",
    "    \"\"\"\n",
    "\tdemonstrates Save Recorder\n",
    "\t (1) Setup stream nodes\n",
    "\t (2) Configure device nodes\n",
    "\t (3) Create a recorder object and configure its width, height,\n",
    "\t \tand acquisition frame rate\n",
    "\t (4) Open recorder, start stream and get buffers\n",
    "\t (5) Append buffers to the recorder\n",
    "\t (6) Close the recorder to save the video\n",
    "\t\"\"\"\n",
    "    \n",
    "    print('Stream started')\n",
    "\n",
    "    \"\"\"\n",
    "    create a recorder\n",
    "    The recorder, takes width, height, and frames per seconds.\n",
    "    These argument can be deferred until Recorder.open is called\n",
    "    \"\"\"\n",
    "    recorder = Recorder(nodemap['Width'].value,\n",
    "                        nodemap['Height'].value,\n",
    "                        nodemap['AcquisitionFrameRate'].value)\n",
    "    print('fps',  nodemap['AcquisitionFrameRate'].value)\n",
    "\n",
    "    recorder.codec = ('h264', 'mp4', 'bgr8')  # order does not matter\n",
    "\n",
    "    \"\"\"\n",
    "    recorder settings can not be changed after open is called util\n",
    "    close is called\n",
    "    \"\"\"\n",
    "    recorder.open()\n",
    "    print('recorder opened')\n",
    "\n",
    "    TOTAL_IMAGES = 100\n",
    "    for count in range(TOTAL_IMAGES):\n",
    "        buffer = device.get_buffer()\n",
    "        print(f'Image buffer received')\n",
    "\n",
    "        \"\"\"\n",
    "        After recorder.open() add image to the open recorder stream by\n",
    "            appending buffers to the video.\n",
    "        The buffers are already BGR8, because we set 'PixelFormat'\n",
    "            node to 'BGR8', so no need to convert buffers using\n",
    "            BufferFactory.convert() from arena_api.buffer\n",
    "        \"\"\"\n",
    "\n",
    "        \"\"\"\n",
    "        default name for the video is 'video<count>.mp4' where count\n",
    "        is a pre-defined tag that gets updated every time open()\n",
    "        is called. More custom tags can be added using\n",
    "        Recorder.register_tag() function\n",
    "        \"\"\"\n",
    "        recorder.append(buffer)\n",
    "        print(f'Image buffer {count} appended to video')\n",
    "\n",
    "        device.requeue_buffer(buffer)\n",
    "        print(f'Image buffer requeued')\n",
    "\n",
    "    recorder.close()\n",
    "    print('recorder closed')\n",
    "    print(f'video saved {recorder.saved_videos[-1]}')\n",
    "\n",
    "    video_length_in_secs = (TOTAL_IMAGES /\n",
    "                            nodemap['AcquisitionFrameRate'].value)\n",
    "    print(f'video length is {video_length_in_secs} seconds')"
   ]
  },
  {
   "cell_type": "code",
   "execution_count": 7,
   "metadata": {},
   "outputs": [
    {
     "name": "stdout",
     "output_type": "stream",
     "text": [
      "Destroyed all created devices\n"
     ]
    }
   ],
   "source": [
    "system.destroy_device()\n",
    "print('Destroyed all created devices')"
   ]
  }
 ],
 "metadata": {
  "interpreter": {
   "hash": "520c5ad4575fadc5aeff8f7fe0ecb965d054482e0492acfe5440edeef6b5197d"
  },
  "kernelspec": {
   "display_name": "Python 3.6.8 64-bit ('ve_win_dev_py64': venv)",
   "language": "python",
   "name": "python3"
  },
  "language_info": {
   "codemirror_mode": {
    "name": "ipython",
    "version": 3
   },
   "file_extension": ".py",
   "mimetype": "text/x-python",
   "name": "python",
   "nbconvert_exporter": "python",
   "pygments_lexer": "ipython3",
   "version": "3.6.8"
  },
  "orig_nbformat": 4
 },
 "nbformat": 4,
 "nbformat_minor": 2
}
