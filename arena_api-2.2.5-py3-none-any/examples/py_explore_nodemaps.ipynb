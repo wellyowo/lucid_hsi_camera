{
 "cells": [
  {
   "cell_type": "code",
   "execution_count": null,
   "metadata": {},
   "outputs": [],
   "source": [
    "# -----------------------------------------------------------------------------\n",
    "# Copyright (c) 2022, Lucid Vision Labs, Inc.\n",
    "#\n",
    "# THE SOFTWARE IS PROVIDED \"AS IS\", WITHOUT WARRANTY OF ANY KIND,\n",
    "# EXPRESS OR IMPLIED, INCLUDING BUT NOT LIMITED TO THE WARRANTIES\n",
    "# OF MERCHANTABILITY, FITNESS FOR A PARTICULAR PURPOSE AND\n",
    "# NONINFRINGEMENT. IN NO EVENT SHALL THE AUTHORS OR COPYRIGHT HOLDERS\n",
    "# BE LIABLE FOR ANY CLAIM, DAMAGES OR OTHER LIABILITY, WHETHER IN AN\n",
    "# ACTION OF CONTRACT, TORT OR OTHERWISE, ARISING FROM, OUT OF OR IN\n",
    "# CONNECTION WITH THE SOFTWARE OR THE USE OR OTHER DEALINGS IN\n",
    "# THE SOFTWARE.\n",
    "# -----------------------------------------------------------------------------"
   ]
  },
  {
   "cell_type": "code",
   "execution_count": 39,
   "metadata": {},
   "outputs": [],
   "source": [
    "import time\n",
    "from arena_api.system import system"
   ]
  },
  {
   "cell_type": "code",
   "execution_count": null,
   "metadata": {},
   "outputs": [],
   "source": [
    "\"\"\"\n",
    "Explore: Node Maps\n",
    "    This example explores the 5 available node maps of Arena, 4 retrieved from\n",
    "    any devices and 1 from the system. It demonstrates traversing nodes\n",
    "    retrieved as a complete vector.\n",
    "\"\"\""
   ]
  },
  {
   "cell_type": "code",
   "execution_count": 40,
   "metadata": {},
   "outputs": [],
   "source": [
    "TAB1 = \"  \"\n",
    "TAB2 = \"    \""
   ]
  },
  {
   "cell_type": "code",
   "execution_count": 41,
   "metadata": {},
   "outputs": [
    {
     "name": "stdout",
     "output_type": "stream",
     "text": [
      "Created 1 device(s)\n",
      "Device used in the example:\n",
      "\t('1c:0f:af:12:53:65', 'PHX050S-C', 'new', '184.123.0.41')\n"
     ]
    }
   ],
   "source": [
    "\"\"\"\n",
    "This function waits for the user to connect a device before raising\n",
    "an exception\n",
    "\"\"\"\n",
    "tries = 0\n",
    "tries_max = 6\n",
    "sleep_time_secs = 10\n",
    "while tries < tries_max:  # Wait for device for 60 seconds\n",
    "    devices = system.create_device()\n",
    "    if not devices:\n",
    "        print(\n",
    "            f'Try {tries+1} of {tries_max}: waiting for {sleep_time_secs} '\n",
    "            f'secs for a device to be connected!')\n",
    "        for sec_count in range(sleep_time_secs):\n",
    "            time.sleep(1)\n",
    "            print(f'{sec_count + 1 } seconds passed ',\n",
    "                    '.' * sec_count, end='\\r')\n",
    "        tries += 1\n",
    "    else:\n",
    "        print(f'Created {len(devices)} device(s)')\n",
    "        break\n",
    "else:\n",
    "    raise Exception(f'No device found! Please connect a device and run '\n",
    "                    f'the example again.')\n",
    "\n",
    "device = devices[0]\n",
    "print(f'Device used in the example:\\n\\t{device}')"
   ]
  },
  {
   "cell_type": "code",
   "execution_count": 42,
   "metadata": {},
   "outputs": [],
   "source": [
    "def explore_nodemap(nodemap, nodemap_name):\n",
    "    \"\"\"\n",
    "    This function gets and prints all the features of the\n",
    "    nodemap into the terminal and a file\n",
    "    \"\"\"\n",
    "    feature_nodes_names = nodemap.feature_names\n",
    "    print(f'{TAB2}Number of nodes: {len(feature_nodes_names)}')\n",
    "\n",
    "    list = []\n",
    "\n",
    "    for node_name in feature_nodes_names:\n",
    "        if (nodemap[node_name].interface_type.name == 'CATEGORY'):\n",
    "            list.append(nodemap[node_name].name)\n",
    "\n",
    "    with open(f'arena_api_node_exploration_{nodemap_name}.txt', 'w') as f:\n",
    "        for node_name in feature_nodes_names:\n",
    "            # print to file\n",
    "            print(nodemap[node_name], file=f)\n",
    "\n",
    "    print(f'{TAB2}Category nodes: ' + str(list))"
   ]
  },
  {
   "cell_type": "code",
   "execution_count": 43,
   "metadata": {},
   "outputs": [
    {
     "name": "stdout",
     "output_type": "stream",
     "text": [
      "  Exploring Device nodemap\n",
      "    Number of nodes: 404\n",
      "    Category nodes: ['AcquisitionControl', 'ActionControl', 'AnalogControl', 'AutoExposureAOI', 'ChunkDataControl', 'ColorTransformationControl', 'CounterAndTimerControl', 'DefectCorrectionControl', 'DeviceControl', 'DigitalIOControl', 'EventControl', 'EventExposureEndData', 'EventExposureStartData', 'EventTestData', 'FileAccessControl', 'GigEVision', 'I2CAccessControl', 'ImageFormatControl', 'LUTControl', 'PtpControl', 'Root', 'SequencerControl', 'SerialAccessControl', 'SoftwareSignalControl', 'TestControl', 'TransferControl', 'TransportLayerControl', 'UserSetControl']\n",
      "  Exploring Transport Layer Device nodemap\n",
      "    Number of nodes: 26\n",
      "    Category nodes: ['ActionCommandControl', 'DeviceControl', 'DeviceInformation', 'Root', 'StreamEnumeration']\n",
      "  Exploring Transport Layer Stream nodemap\n",
      "    Number of nodes: 25\n",
      "    Category nodes: ['BufferHandlingControl', 'Root', 'StreamInformation']\n",
      "  Exploring Transport Layer Interface nodemap\n",
      "    Number of nodes: 23\n",
      "    Category nodes: ['DeviceEnumeration', 'InterfaceInformation', 'Root']\n",
      "  Exploring Transport Layer System nodemap\n",
      "    Number of nodes: 37\n",
      "    Category nodes: ['ActionCommandControl', 'Driver', 'InterfaceEnumeration', 'Root', 'SystemInformation', 'ThreadControl']\n"
     ]
    }
   ],
   "source": [
    "\"\"\"\n",
    "explores: node maps\n",
    "(1) retrieves node map from device\n",
    "(2) retrieves node maps from corresponding transport layer modules\n",
    "(3) explores the device node map\n",
    "(4) explores the transport layer device node map\n",
    "(5) explores the transport layer stream node map\n",
    "(6) explores the transport layer interface node map\n",
    "(7) explores the transport layer system node map\n",
    "\"\"\"\n",
    "explore_device = True\n",
    "explore_tl_device = True\n",
    "explore_tl_stream = True\n",
    "explore_tl_interface = True\n",
    "explore_tl_system = True\n",
    "\n",
    "# Explore nodemaps --------------------------------------------------------\n",
    "if explore_device:\n",
    "    print(f'{TAB1}Exploring Device nodemap')\n",
    "    explore_nodemap(device.nodemap, 'device_nodemap')\n",
    "\n",
    "if explore_tl_device:\n",
    "    print(f'{TAB1}Exploring Transport Layer Device nodemap')\n",
    "    explore_nodemap(device.tl_device_nodemap, 'TL_device_nodemap')\n",
    "\n",
    "if explore_tl_stream:\n",
    "    print(f'{TAB1}Exploring Transport Layer Stream nodemap')\n",
    "    explore_nodemap(device.tl_stream_nodemap, 'TL_stream_nodemap')\n",
    "\n",
    "if explore_tl_interface:\n",
    "    print(f'{TAB1}Exploring Transport Layer Interface nodemap')\n",
    "    explore_nodemap(device.tl_interface_nodemap, 'TL_interface_nodemap')\n",
    "\n",
    "if explore_tl_system:\n",
    "    print(f'{TAB1}Exploring Transport Layer System nodemap')\n",
    "    explore_nodemap(system.tl_system_nodemap, 'TL_system_nodemap')\n",
    "\n",
    "# Clean up ---------------------------------------------------------------\n",
    "\n",
    "# Destroy device.\n",
    "system.destroy_device()"
   ]
  }
 ],
 "metadata": {
  "interpreter": {
   "hash": "520c5ad4575fadc5aeff8f7fe0ecb965d054482e0492acfe5440edeef6b5197d"
  },
  "kernelspec": {
   "display_name": "Python 3.6.8 64-bit ('ve_win_dev_py64': venv)",
   "name": "python3"
  },
  "language_info": {
   "codemirror_mode": {
    "name": "ipython",
    "version": 3
   },
   "file_extension": ".py",
   "mimetype": "text/x-python",
   "name": "python",
   "nbconvert_exporter": "python",
   "pygments_lexer": "ipython3",
   "version": "3.6.8"
  },
  "orig_nbformat": 4
 },
 "nbformat": 4,
 "nbformat_minor": 2
}
