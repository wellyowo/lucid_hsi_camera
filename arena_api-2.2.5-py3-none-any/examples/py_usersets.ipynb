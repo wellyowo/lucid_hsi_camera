{
 "cells": [
  {
   "cell_type": "code",
   "execution_count": 1,
   "metadata": {},
   "outputs": [],
   "source": [
    "# -----------------------------------------------------------------------------\n",
    "# Copyright (c) 2022, Lucid Vision Labs, Inc.\n",
    "#\n",
    "# THE SOFTWARE IS PROVIDED \"AS IS\", WITHOUT WARRANTY OF ANY KIND,\n",
    "# EXPRESS OR IMPLIED, INCLUDING BUT NOT LIMITED TO THE WARRANTIES\n",
    "# OF MERCHANTABILITY, FITNESS FOR A PARTICULAR PURPOSE AND\n",
    "# NONINFRINGEMENT. IN NO EVENT SHALL THE AUTHORS OR COPYRIGHT HOLDERS\n",
    "# BE LIABLE FOR ANY CLAIM, DAMAGES OR OTHER LIABILITY, WHETHER IN AN\n",
    "# ACTION OF CONTRACT, TORT OR OTHERWISE, ARISING FROM, OUT OF OR IN\n",
    "# CONNECTION WITH THE SOFTWARE OR THE USE OR OTHER DEALINGS IN\n",
    "# THE SOFTWARE.\n",
    "# -----------------------------------------------------------------------------"
   ]
  },
  {
   "cell_type": "code",
   "execution_count": 2,
   "metadata": {},
   "outputs": [],
   "source": [
    "import time\n",
    "from arena_api.system import system"
   ]
  },
  {
   "cell_type": "code",
   "execution_count": 3,
   "metadata": {},
   "outputs": [
    {
     "data": {
      "text/plain": [
       "'\\nUser sets\\n    This example introduces user sets, a feature which allows for the saving\\n    and loading of multiple configurations. The example starts by changing two\\n    features, width and height. The device configuration is then saved to user\\n    set 1. The default user set is then loaded, followed by user set 1 again to\\n    demonstrate the the device configuration changing back and forth.\\n'"
      ]
     },
     "execution_count": 3,
     "metadata": {},
     "output_type": "execute_result"
    }
   ],
   "source": [
    "'''\n",
    "User sets\n",
    "    This example introduces user sets, a feature which allows for the saving\n",
    "    and loading of multiple configurations. The example starts by changing two\n",
    "    features, width and height. The device configuration is then saved to user\n",
    "    set 1. The default user set is then loaded, followed by user set 1 again to\n",
    "    demonstrate the the device configuration changing back and forth.\n",
    "'''"
   ]
  },
  {
   "cell_type": "code",
   "execution_count": 4,
   "metadata": {},
   "outputs": [
    {
     "name": "stdout",
     "output_type": "stream",
     "text": [
      "Created 1 device(s)\n"
     ]
    }
   ],
   "source": [
    "\"\"\"\n",
    "This function waits for the user to connect a device before raising\n",
    "an exception\n",
    "\"\"\"\n",
    "\n",
    "tries = 0\n",
    "tries_max = 6\n",
    "sleep_time_secs = 10\n",
    "while tries < tries_max:  # Waits for devices\n",
    "    devices = system.create_device()\n",
    "    if not devices:\n",
    "        print(\n",
    "            f'Try {tries+1} of {tries_max}: waiting for {sleep_time_secs} '\n",
    "            f'secs for a device to be connected!')\n",
    "        for sec_count in range(sleep_time_secs):\n",
    "            time.sleep(1)\n",
    "            print(f'{sec_count + 1 } seconds passed ',\n",
    "                  '.' * sec_count, end='\\r')\n",
    "        tries += 1\n",
    "    else:\n",
    "        print(f'Created {len(devices)} device(s)')\n",
    "        device = devices[0]\n",
    "        break\n",
    "else:\n",
    "    raise Exception(f'No device found! Please connect a device and run '\n",
    "                    f'the example again.')\n"
   ]
  },
  {
   "cell_type": "code",
   "execution_count": 6,
   "metadata": {},
   "outputs": [
    {
     "name": "stdout",
     "output_type": "stream",
     "text": [
      "Saved configurations to UserSet1\n",
      "Height: 512\n",
      "Width: 576\n",
      "\n",
      "Loaded Default user set\n",
      "Height: 1860\n",
      "Width: 2880\n",
      "\n",
      "Loaded UserSet1\n",
      "Height: 512\n",
      "Width: 576\n",
      "\n"
     ]
    }
   ],
   "source": [
    "nodemap = device.nodemap\n",
    "WIDTH = 576\n",
    "HEIGHT = 512\n",
    "\n",
    "nodemap.get_node(\"Width\").value = WIDTH\n",
    "nodemap.get_node(\"Height\").value = HEIGHT\n",
    "\n",
    "'''\n",
    "Save to user set 1\n",
    "    Saving the user set saves the new width and height values. Saving a\n",
    "    user set involves selecting the user set to save to on the selector\n",
    "    node and then executing the save on the command node.\n",
    "'''\n",
    "\n",
    "'''\n",
    "Save configurations to UserSet1\n",
    "'''\n",
    "print(\"Saved configurations to UserSet1\")\n",
    "user_set_selector_node = nodemap.get_node(\"UserSetSelector\")\n",
    "user_set_selector_node.value = \"UserSet1\"\n",
    "nodemap.get_node(\"UserSetSave\").execute()\n",
    "\n",
    "'''\n",
    "Display Height and Width for UserSet1\n",
    "'''\n",
    "print(f\"Height: {nodemap.get_node('Height').value}\")\n",
    "print(f\"Width: {nodemap.get_node('Width').value}\")\n",
    "print()\n",
    "\n",
    "'''\n",
    "Load and display Height and Width for Default user set\n",
    "'''\n",
    "print(\"Loaded Default user set\")\n",
    "user_set_selector_node.value = \"Default\"\n",
    "nodemap.get_node(\"UserSetLoad\").execute()\n",
    "print(f\"Height: {nodemap.get_node('Height').value}\")\n",
    "print(f\"Width: {nodemap.get_node('Width').value}\")\n",
    "print()\n",
    "\n",
    "\n",
    "'''\n",
    "Reload and display Height and Width for UserSet1\n",
    "'''\n",
    "print(\"Loaded UserSet1\")\n",
    "user_set_selector_node.value = \"UserSet1\"\n",
    "nodemap.get_node(\"UserSetLoad\").execute()\n",
    "print(f\"Height: {nodemap.get_node('Height').value}\")\n",
    "print(f\"Width: {nodemap.get_node('Width').value}\")\n",
    "print()\n",
    "\n",
    "system.destroy_device(device)"
   ]
  }
 ],
 "metadata": {
  "interpreter": {
   "hash": "3620b89036c69a489b14ec4722691b63ae49f46a05ab29903dce938fdeb7f627"
  },
  "kernelspec": {
   "display_name": "Python 3.9.7 64-bit ('ve_win_dev_py64': venv)",
   "name": "python3"
  },
  "language_info": {
   "codemirror_mode": {
    "name": "ipython",
    "version": 3
   },
   "file_extension": ".py",
   "mimetype": "text/x-python",
   "name": "python",
   "nbconvert_exporter": "python",
   "pygments_lexer": "ipython3",
   "version": "3.6.9"
  },
  "orig_nbformat": 4
 },
 "nbformat": 4,
 "nbformat_minor": 2
}
