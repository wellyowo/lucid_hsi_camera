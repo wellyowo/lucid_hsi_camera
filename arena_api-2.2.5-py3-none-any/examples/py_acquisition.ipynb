{
 "cells": [
  {
   "cell_type": "code",
   "execution_count": 9,
   "metadata": {},
   "outputs": [],
   "source": [
    "# -----------------------------------------------------------------------------\n",
    "# Copyright (c) 2022, Lucid Vision Labs, Inc.\n",
    "#\n",
    "# THE SOFTWARE IS PROVIDED \"AS IS\", WITHOUT WARRANTY OF ANY KIND,\n",
    "# EXPRESS OR IMPLIED, INCLUDING BUT NOT LIMITED TO THE WARRANTIES\n",
    "# OF MERCHANTABILITY, FITNESS FOR A PARTICULAR PURPOSE AND\n",
    "# NONINFRINGEMENT. IN NO EVENT SHALL THE AUTHORS OR COPYRIGHT HOLDERS\n",
    "# BE LIABLE FOR ANY CLAIM, DAMAGES OR OTHER LIABILITY, WHETHER IN AN\n",
    "# ACTION OF CONTRACT, TORT OR OTHERWISE, ARISING FROM, OUT OF OR IN\n",
    "# CONNECTION WITH THE SOFTWARE OR THE USE OR OTHER DEALINGS IN\n",
    "# THE SOFTWARE.\n",
    "# -----------------------------------------------------------------------------"
   ]
  },
  {
   "cell_type": "code",
   "execution_count": 10,
   "metadata": {},
   "outputs": [],
   "source": [
    "import time\n",
    "from arena_api.system import system"
   ]
  },
  {
   "cell_type": "code",
   "execution_count": 11,
   "metadata": {},
   "outputs": [
    {
     "data": {
      "text/plain": [
       "'\\nAcquisition: Introduction\\n    This example introduces the basics of image acquisition. This includes\\n    setting image acquisition and buffer handling modes, setting the device to\\n    automatically negotiate packet size, and setting the stream packet resend\\n    node before starting the image stream. The example then starts acquiring\\n    images by grabbing and requeuing buffers, and retrieving data on images\\n    before finally stopping the image stream.\\n'"
      ]
     },
     "execution_count": 11,
     "metadata": {},
     "output_type": "execute_result"
    }
   ],
   "source": [
    "'''\n",
    "Acquisition: Introduction\n",
    "    This example introduces the basics of image acquisition. This includes\n",
    "    setting image acquisition and buffer handling modes, setting the device to\n",
    "    automatically negotiate packet size, and setting the stream packet resend\n",
    "    node before starting the image stream. The example then starts acquiring\n",
    "    images by grabbing and requeuing buffers, and retrieving data on images\n",
    "    before finally stopping the image stream.\n",
    "'''"
   ]
  },
  {
   "cell_type": "code",
   "execution_count": 12,
   "metadata": {},
   "outputs": [
    {
     "name": "stdout",
     "output_type": "stream",
     "text": [
      "Created 1 device(s)\n"
     ]
    }
   ],
   "source": [
    "\"\"\"\n",
    "This function waits for the user to connect a device before raising an exception\n",
    "\"\"\"\n",
    "\n",
    "tries = 0\n",
    "tries_max = 6\n",
    "sleep_time_secs = 10\n",
    "while tries < tries_max:  # Wait for device for 60 seconds\n",
    "    devices = system.create_device()\n",
    "    if not devices:\n",
    "        print(\n",
    "            f'Try {tries+1} of {tries_max}: waiting for {sleep_time_secs} '\n",
    "            f'secs for a device to be connected!')\n",
    "        for sec_count in range(sleep_time_secs):\n",
    "            time.sleep(1)\n",
    "            print(f'{sec_count + 1 } seconds passed ',\n",
    "                  '.' * sec_count, end='\\r')\n",
    "            tries += 1\n",
    "    else:\n",
    "        print(f'Created {len(devices)} device(s)')\n",
    "        device = devices[0]\n",
    "        nodemap = device.nodemap\n",
    "        tl_stream_nodemap = device.tl_stream_nodemap\n",
    "        break\n",
    "else:\n",
    "    raise Exception(f'No device found! Please connect a device and run '\n",
    "                    f'the example again.')\n"
   ]
  },
  {
   "cell_type": "code",
   "execution_count": 13,
   "metadata": {},
   "outputs": [
    {
     "name": "stdout",
     "output_type": "stream",
     "text": [
      "Store initial values\n"
     ]
    }
   ],
   "source": [
    "'''\n",
    "Store initial settings\n",
    "    For all settings we modify, we'll change them bace once we have finished\n",
    "    the example. In this case, just AcquisitionMode\n",
    "'''\n",
    "print(f\"Store initial values\")\n",
    "initial_acquisition_mode = nodemap.get_node(\"AcquisitionMode\").value\n",
    "width_initial = nodemap.get_node(\"Width\").value\n",
    "height_initial = nodemap.get_node(\"Height\").value"
   ]
  },
  {
   "cell_type": "code",
   "execution_count": 14,
   "metadata": {},
   "outputs": [
    {
     "name": "stdout",
     "output_type": "stream",
     "text": [
      "Getting 'Width' and 'Height' Nodes\n",
      "Setting 'Width' and 'Height' Nodes value to their max values\n"
     ]
    }
   ],
   "source": [
    "'''\n",
    "Configure device settings\n",
    "'''\n",
    "\n",
    "nodemap.get_node(\"AcquisitionMode\").value = \"Continuous\"\n",
    "'''\n",
    "Set buffer handling mode.\n",
    "    Set buffer handling mode before starting the stream. Starting the\n",
    "    stream requires the buffer handling mode to be set beforehand. The\n",
    "    buffer handling mode determines the order and behavior of buffers in\n",
    "    the underlying stream engine. Setting the buffer handling mode to\n",
    "    'NewestOnly' ensures the most recent image is delivered, even if it\n",
    "    means skipping frames.\n",
    "'''\n",
    "tl_stream_nodemap[\"StreamBufferHandlingMode\"].value = \"NewestOnly\"\n",
    "\n",
    "'''\n",
    "Enable stream auto negotiate packet size\n",
    "    Setting the stream packet size is done before starting the stream.\n",
    "    Setting the stream to automatically negotiate packet size instructs the\n",
    "    camera to receive the largest packet size that the system will allow.\n",
    "    This generally increases frame rate and results in fewer interrupts per\n",
    "    image, thereby reducing CPU load on the host system. Ethernet settings\n",
    "    may also be manually changed to allow for a larger packet size.\n",
    "'''\n",
    "tl_stream_nodemap['StreamAutoNegotiatePacketSize'].value = True\n",
    "\n",
    "'''\n",
    "Enable stream packet resend\n",
    "    Enable stream packet resend before starting the stream. Images are sent\n",
    "    from the camera to the host in packets using UDP protocol, which\n",
    "    includes a header image number, packet number, and timestamp\n",
    "    information. If a packet is missed while receiving an image, a packet\n",
    "    resend is requested and this information is used to retrieve and\n",
    "    redeliver the missing packet in the correct order.\n",
    "'''\n",
    "tl_stream_nodemap['StreamPacketResendEnable'].value = True\n",
    "\n",
    "# Set features before streaming.-------------------------------------------\n",
    "\n",
    "print(f'Getting \\'Width\\' and \\'Height\\' Nodes')\n",
    "nodes = device.nodemap.get_node(['Width', 'Height'])\n",
    "\n",
    "# Set width and height to their max values\n",
    "print('Setting \\'Width\\' and \\'Height\\' Nodes value to their '\n",
    "      'max values')\n",
    "nodes['Width'].value = nodes['Width'].max\n",
    "nodes['Height'].value = nodes['Height'].max\n"
   ]
  },
  {
   "cell_type": "code",
   "execution_count": 15,
   "metadata": {},
   "outputs": [
    {
     "name": "stdout",
     "output_type": "stream",
     "text": [
      "Stream started with 10 buffers\n",
      "Get 10 buffers in a list\n",
      "Success\n",
      "\tbuffer 0 received | Width = 2448 pxl, Height = 2048 pxl, Pixel Format = BGR8\n",
      "\tbuffer 1 received | Width = 2448 pxl, Height = 2048 pxl, Pixel Format = BGR8\n",
      "\tbuffer 2 received | Width = 2448 pxl, Height = 2048 pxl, Pixel Format = BGR8\n",
      "\tbuffer 3 received | Width = 2448 pxl, Height = 2048 pxl, Pixel Format = BGR8\n",
      "\tbuffer 4 received | Width = 2448 pxl, Height = 2048 pxl, Pixel Format = BGR8\n",
      "\tbuffer 5 received | Width = 2448 pxl, Height = 2048 pxl, Pixel Format = BGR8\n",
      "\tbuffer 6 received | Width = 2448 pxl, Height = 2048 pxl, Pixel Format = BGR8\n",
      "\tbuffer 7 received | Width = 2448 pxl, Height = 2048 pxl, Pixel Format = BGR8\n",
      "\tbuffer 8 received | Width = 2448 pxl, Height = 2048 pxl, Pixel Format = BGR8\n",
      "\tbuffer 9 received | Width = 2448 pxl, Height = 2048 pxl, Pixel Format = BGR8\n",
      "Requeued 10 buffers\n",
      "Stream stopped\n"
     ]
    }
   ],
   "source": [
    "number_of_buffers = 10\n",
    "\n",
    "'''\n",
    "Starting the stream allocates buffers, which can be passed in as\n",
    "    an argument (default: 10), and begins filling them with data.\n",
    "    Buffers must later be requeued to avoid memory leaks.\n",
    "'''\n",
    "device.start_stream(number_of_buffers)\n",
    "print(f'Stream started with {number_of_buffers} buffers')\n",
    "\n",
    "'''\n",
    "Device.get_buffer() returns buffers:\n",
    "    Device.get_buffer() with no arguments returns one buffer(NOT IN A LIST)\n",
    "    Device.get_buffer(20) returns 20 buffers(IN A LIST)\n",
    "'''\n",
    "print(f'Get {number_of_buffers} buffers in a list')\n",
    "buffers = device.get_buffer(number_of_buffers)\n",
    "print(\"Success\")\n",
    "\n",
    "'''\n",
    "Print image buffer info\n",
    "    Buffers contain image data.\n",
    "    Image data can also be copied and converted using BufferFactory.\n",
    "    That is necessary to retain image data, as we must also requeue the buffer.\n",
    "'''\n",
    "for count, buffer in enumerate(buffers):\n",
    "    print(f'\\tbuffer{count:{2}} received | '\n",
    "        f'Width = {buffer.width} pxl, '\n",
    "        f'Height = {buffer.height} pxl, '\n",
    "        f'Pixel Format = {buffer.pixel_format.name}')\n",
    "\n",
    "'''\n",
    "'Device.requeue_buffer()' takes a buffer or many buffers\n",
    "    in a list or tuple. Failure to requeue can cause\n",
    "    memory leaks, or running out of buffers\n",
    "'''\n",
    "device.requeue_buffer(buffers)\n",
    "print(f'Requeued {number_of_buffers} buffers')\n",
    "\n",
    "device.stop_stream()\n",
    "print(f'Stream stopped')\n"
   ]
  },
  {
   "cell_type": "code",
   "execution_count": 16,
   "metadata": {},
   "outputs": [
    {
     "name": "stdout",
     "output_type": "stream",
     "text": [
      "Destroyed all created devices\n"
     ]
    }
   ],
   "source": [
    "'''\n",
    "Restore initial values and destroy device\n",
    "'''\n",
    "nodemap.get_node(\"AcquisitionMode\").value = initial_acquisition_mode\n",
    "nodemap.get_node(\"Width\").value = width_initial\n",
    "nodemap.get_node(\"Height\").value = height_initial\n",
    "'''\n",
    "Destroy device. This call is optional and will automatically be\n",
    "    called for any remaining devices when the system module is unloading.\n",
    "'''\n",
    "system.destroy_device()\n",
    "print('Destroyed all created devices')\n"
   ]
  }
 ],
 "metadata": {
  "interpreter": {
   "hash": "3620b89036c69a489b14ec4722691b63ae49f46a05ab29903dce938fdeb7f627"
  },
  "kernelspec": {
   "display_name": "Python 3.9.7 64-bit ('ve_win_dev_py64': venv)",
   "name": "python3"
  },
  "language_info": {
   "codemirror_mode": {
    "name": "ipython",
    "version": 3
   },
   "file_extension": ".py",
   "mimetype": "text/x-python",
   "name": "python",
   "nbconvert_exporter": "python",
   "pygments_lexer": "ipython3",
   "version": "3.9.7"
  },
  "orig_nbformat": 4
 },
 "nbformat": 4,
 "nbformat_minor": 2
}
