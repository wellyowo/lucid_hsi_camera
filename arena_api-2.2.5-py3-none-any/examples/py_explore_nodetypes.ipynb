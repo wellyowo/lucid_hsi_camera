{
 "cells": [
  {
   "cell_type": "code",
   "execution_count": null,
   "metadata": {},
   "outputs": [],
   "source": [
    "\"\"\"\n",
    " ***************************************************************************************\n",
    " ***                                                                                 ***\n",
    " ***  Copyright (c) 2022, Lucid Vision Labs, Inc.                                    ***\n",
    " ***                                                                                 ***\n",
    " ***  THE SOFTWARE IS PROVIDED \"AS IS\", WITHOUT WARRANTY OF ANY KIND, EXPRESS OR     ***\n",
    " ***  IMPLIED, INCLUDING BUT NOT LIMITED TO THE WARRANTIES OF MERCHANTABILITY,       ***\n",
    " ***  FITNESS FOR A PARTICULAR PURPOSE AND NONINFRINGEMENT. IN NO EVENT SHALL THE    ***\n",
    " ***  AUTHORS OR COPYRIGHT HOLDERS BE LIABLE FOR ANY CLAIM, DAMAGES OR OTHER         ***\n",
    " ***  LIABILITY, WHETHER IN AN ACTION OF CONTRACT, TORT OR OTHERWISE, ARISING FROM,  ***\n",
    " ***  OUT OF OR IN CONNECTION WITH THE SOFTWARE OR THE USE OR OTHER DEALINGS IN THE  ***\n",
    " ***  SOFTWARE.                                                                      ***\n",
    " ***                                                                                 ***\n",
    " ***************************************************************************************\n",
    " \"\"\""
   ]
  },
  {
   "cell_type": "code",
   "execution_count": 92,
   "metadata": {},
   "outputs": [],
   "source": [
    "import time\n",
    "from arena_api.system import system"
   ]
  },
  {
   "cell_type": "code",
   "execution_count": null,
   "metadata": {},
   "outputs": [],
   "source": [
    "\"\"\"\n",
    "Explore: Node Types\n",
    "    This example explores the different properties of various node's types\n",
    "    including boolean, string, enumeration, integer, and float nodes. The user\n",
    "    inputs the node name that they wish to access (leaving out spacing between\n",
    "    words) in order to retrieve the node properties, or inputs 'x' to exit.\n",
    "    See Py_Explore_Nodes for a complete list of nodes and their respective types.\n",
    "\"\"\""
   ]
  },
  {
   "cell_type": "code",
   "execution_count": 94,
   "metadata": {},
   "outputs": [
    {
     "name": "stdout",
     "output_type": "stream",
     "text": [
      "Created 1 device(s)\n",
      "Device used in the example:\n",
      "\t('1c:0f:af:12:53:65', 'PHX050S-C', 'new', '193.143.0.41')\n"
     ]
    }
   ],
   "source": [
    "\"\"\"\n",
    "Waits for the user to connect a device before raising an exception if it fails\n",
    "\"\"\"\n",
    "tries = 0\n",
    "tries_max = 6\n",
    "sleep_time_secs = 10\n",
    "devices = None\n",
    "while tries < tries_max:  # Wait for device for 60 seconds\n",
    "    devices = system.create_device()\n",
    "    if not devices:\n",
    "        print(\n",
    "            f'Try {tries+1} of {tries_max}: waiting for {sleep_time_secs} '\n",
    "            f'secs for a device to be connected!')\n",
    "        for sec_count in range(sleep_time_secs):\n",
    "            time.sleep(1)\n",
    "            print(f'{sec_count + 1 } seconds passed ',\n",
    "                    '.' * sec_count, end='\\r')\n",
    "        tries += 1\n",
    "    else:\n",
    "        print(f'Created {len(devices)} device(s)')\n",
    "        break\n",
    "else:\n",
    "    raise Exception(f'No device found! Please connect a device and run '\n",
    "                    f'the example again.')\n",
    "\n",
    "device = devices[0]\n",
    "nodemap = device.nodemap\n",
    "print(f'Device used in the example:\\n\\t{device}')"
   ]
  },
  {
   "cell_type": "code",
   "execution_count": 95,
   "metadata": {},
   "outputs": [],
   "source": [
    "def explore_boolean(node):\n",
    "    \"\"\"\n",
    "    explores nodes of boolean type\n",
    "    (1) retrieves value\n",
    "    \"\"\"\n",
    "    print(f\"\\t\\t\\tValue: {node.value}\")"
   ]
  },
  {
   "cell_type": "code",
   "execution_count": 96,
   "metadata": {},
   "outputs": [],
   "source": [
    "def explore_string(node):\n",
    "    \"\"\"\n",
    "    explores nodes of string type\n",
    "    (1) retrieves value\n",
    "    (2) retrieves maximum value length\n",
    "    \"\"\"\n",
    "    print(f\"\\t\\t\\tValue: {node.value}\")\n",
    "    print(f\"\\t\\t\\tMaximum Length: {node.max}\")\n"
   ]
  },
  {
   "cell_type": "code",
   "execution_count": 97,
   "metadata": {},
   "outputs": [],
   "source": [
    "def explore_integer(node):\n",
    "    \"\"\"\n",
    "    explores nodes of type integer\n",
    "    (1) retrieves value\n",
    "    (2) retrieves maximum and minimum\n",
    "    (3) retrieves increment and increment mode\n",
    "    (4) retrieves representation\n",
    "    (5) retrieves unit\n",
    "    \"\"\"\n",
    "    print(f\"\\t\\t\\tValue: {node.value}\")\n",
    "    print(f\"\\t\\t\\tMaximum Length: {node.max}, Minimum Length: {node.min}\")\n",
    "    print(f\"\\t\\t\\tIncrement Mode: {node.inc} ({str(node.inc_mode)})\")\n",
    "    print(f\"\\t\\t\\tRepresentation: {str(node.representation)}\")\n",
    "    print(f\"\\t\\t\\tUnit: {node.unit}\")\n"
   ]
  },
  {
   "cell_type": "code",
   "execution_count": 98,
   "metadata": {},
   "outputs": [],
   "source": [
    "def explore_float(node):\n",
    "    \"\"\"\n",
    "    explores nodes of type integer\n",
    "    (1) retrieves value\n",
    "    (2) retrieves maximum and minimum\n",
    "    (3) retrieves increment and increment mode\n",
    "    (4) retrieves representation\n",
    "    (5) retrieves unit\n",
    "    (6) retrieves display notation\n",
    "    (7) retrieves display precision\n",
    "    \"\"\"\n",
    "    print(f\"\\t\\t\\tValue: {node.name}\")\n",
    "    print(f\"\\t\\t\\tValue: {node.value}\")\n",
    "    print(f\"\\t\\t\\tMaximum Length: {node.max}, Minimum Length: {node.min}\")\n",
    "\n",
    "    if (node.inc is not None):\n",
    "        print(f\"\\t\\t\\tIncrement Mode: {node.inc} ({str(node.inc_mode)})\")\n",
    "    \n",
    "    print(f\"\\t\\t\\tRepresentation: {str(node.representation)}\")\n",
    "    print(f\"\\t\\t\\tUnit: {node.unit}\")\n",
    "    print(f\"\\t\\t\\tDisplay Notation: {str(node.display_notation)}\")\n",
    "    print(f\"\\t\\t\\tDisplay Precision: {node.display_precision}\")"
   ]
  },
  {
   "cell_type": "code",
   "execution_count": 99,
   "metadata": {},
   "outputs": [],
   "source": [
    "def explore_enumeration(node):\n",
    "    \"\"\"\n",
    "    explores nodes of string type\n",
    "    (1) retrieves value\n",
    "    (2) retrieves entries\n",
    "    \"\"\"\n",
    "    print(f\"\\t\\t\\tCurrent Entry: {node.value}\")\n",
    "    print(f\"\\t\\t\\tInteger Value: {node.enumentry_nodes[node.value].int_value}\")\n",
    "    print(f\"\\t\\t\\tEntries: {str(node.enumentry_names)}\")"
   ]
  },
  {
   "cell_type": "code",
   "execution_count": 100,
   "metadata": {},
   "outputs": [],
   "source": [
    "def explore_nodes(nodemap):\n",
    "    \"\"\"\n",
    "    controls node exploration\n",
    "    \"\"\"\n",
    "    node_name = input(\"\\tInput node name to explore ('x' to exit)\")\n",
    "\n",
    "    # stay in loop until exit    \n",
    "    while True:\n",
    "        # exit manually on 'x'\n",
    "        if node_name.__eq__('x'):\n",
    "            print(\"\\t\\tSuccesfully exited\")\n",
    "            break\n",
    "        \n",
    "        # get node\n",
    "        node = nodemap.get_node(str(node_name))\n",
    "\n",
    "        # explore by type\n",
    "        if (node):\n",
    "            if (node.interface_type.value == 3):\n",
    "                explore_boolean(node)\n",
    "            elif (node.interface_type.value == 6):\n",
    "                explore_string(node)\n",
    "            elif (node.interface_type.value == 9):\n",
    "                explore_enumeration(node)\n",
    "            elif (node.interface_type.value == 2):\n",
    "                explore_integer(node)\n",
    "            elif (node.interface_type.value == 5):\n",
    "                explore_float(node)\n",
    "            else:\n",
    "                print(\"\\t\\t\\tType not found\")\n",
    "        \n",
    "        else:\n",
    "            print(\"\\t\\t\\tNode not found\")\n",
    "        \n",
    "        # reset input\n",
    "        node_name = \"\"\n",
    "        node_name = input(\"\\tInput node name to explore ('x' to exit)\")\n",
    "            \n",
    "\n"
   ]
  },
  {
   "cell_type": "code",
   "execution_count": 101,
   "metadata": {},
   "outputs": [
    {
     "name": "stdout",
     "output_type": "stream",
     "text": [
      "Example Started\n",
      "\t\t\tCurrent Entry: Off\n",
      "\t\t\tEntries: ['Off', 'Continuous']\n",
      "\t\tSuccesfully exited\n",
      "\n",
      "Destroy Devices\n",
      "Example Finished\n"
     ]
    }
   ],
   "source": [
    "\"\"\"\n",
    " =-=-=-=-=-=-=-=-=-\n",
    " =- PREPARATION -=-\n",
    " =- & CLEAN UP =-=-\n",
    " =-=-=-=-=-=-=-=-=-\n",
    "\"\"\"\n",
    "print(\"Example Started\")\n",
    "\n",
    "explore_nodes(nodemap)\n",
    "\n",
    "print()\n",
    "print(\"Destroy Devices\")\n",
    "system.destroy_device(device)\n",
    "print(\"Example Finished\")\n"
   ]
  }
 ],
 "metadata": {
  "interpreter": {
   "hash": "520c5ad4575fadc5aeff8f7fe0ecb965d054482e0492acfe5440edeef6b5197d"
  },
  "kernelspec": {
   "display_name": "Python 3.6.8 64-bit ('ve_win_dev_py64': venv)",
   "name": "python3"
  },
  "language_info": {
   "codemirror_mode": {
    "name": "ipython",
    "version": 3
   },
   "file_extension": ".py",
   "mimetype": "text/x-python",
   "name": "python",
   "nbconvert_exporter": "python",
   "pygments_lexer": "ipython3",
   "version": "3.6.8"
  },
  "orig_nbformat": 4
 },
 "nbformat": 4,
 "nbformat_minor": 2
}
