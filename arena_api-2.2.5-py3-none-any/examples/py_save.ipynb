{
 "cells": [
  {
   "cell_type": "code",
   "execution_count": null,
   "metadata": {},
   "outputs": [],
   "source": [
    "# -----------------------------------------------------------------------------\n",
    "# Copyright (c) 2022, Lucid Vision Labs, Inc.\n",
    "#\n",
    "# THE SOFTWARE IS PROVIDED \"AS IS\", WITHOUT WARRANTY OF ANY KIND,\n",
    "# EXPRESS OR IMPLIED, INCLUDING BUT NOT LIMITED TO THE WARRANTIES\n",
    "# OF MERCHANTABILITY, FITNESS FOR A PARTICULAR PURPOSE AND\n",
    "# NONINFRINGEMENT. IN NO EVENT SHALL THE AUTHORS OR COPYRIGHT HOLDERS\n",
    "# BE LIABLE FOR ANY CLAIM, DAMAGES OR OTHER LIABILITY, WHETHER IN AN\n",
    "# ACTION OF CONTRACT, TORT OR OTHERWISE, ARISING FROM, OUT OF OR IN\n",
    "# CONNECTION WITH THE SOFTWARE OR THE USE OR OTHER DEALINGS IN\n",
    "# THE SOFTWARE.\n",
    "# -----------------------------------------------------------------------------"
   ]
  },
  {
   "cell_type": "code",
   "execution_count": 1,
   "metadata": {},
   "outputs": [],
   "source": [
    "import time\n",
    "from datetime import datetime\n",
    "\n",
    "from arena_api.enums import PixelFormat\n",
    "from arena_api.__future__.save import Writer\n",
    "from arena_api.system import system\n",
    "from arena_api.buffer import BufferFactory"
   ]
  },
  {
   "cell_type": "code",
   "execution_count": null,
   "metadata": {},
   "outputs": [],
   "source": [
    "\"\"\"\n",
    "Save: Introduction\n",
    "    This example introduces the basic save capabilities of the save\n",
    "    library. It shows the construction of an image parameters object\n",
    "    and an image writer, and saves a single image.\n",
    "\"\"\""
   ]
  },
  {
   "cell_type": "code",
   "execution_count": 2,
   "metadata": {},
   "outputs": [],
   "source": [
    "TAB1 = \"  \"\n",
    "pixel_format = PixelFormat.BGR8"
   ]
  },
  {
   "cell_type": "code",
   "execution_count": null,
   "metadata": {},
   "outputs": [],
   "source": [
    "\"\"\"\n",
    "Waits for the user to connect a device before raising\n",
    "an exception if it fails\n",
    "\"\"\"\n",
    "tries = 0\n",
    "tries_max = 6\n",
    "sleep_time_secs = 10\n",
    "devices = None\n",
    "while tries < tries_max:  # Wait for device for 60 seconds\n",
    "    devices = system.create_device()\n",
    "    if not devices:\n",
    "        print(\n",
    "            f'Try {tries+1} of {tries_max}: waiting for {sleep_time_secs} '\n",
    "            f'secs for a device to be connected!')\n",
    "        for sec_count in range(sleep_time_secs):\n",
    "            time.sleep(1)\n",
    "            print(f'{sec_count + 1 } seconds passed ',\n",
    "                    '.' * sec_count, end='\\r')\n",
    "        tries += 1\n",
    "    else:\n",
    "        break\n",
    "else:\n",
    "    raise Exception(f'No device found! Please connect a device and run '\n",
    "                    f'the example again.')\n",
    "\n",
    "device = devices[0]\n",
    "print(f'Device used in the example:\\n{TAB1}{device}')"
   ]
  },
  {
   "cell_type": "code",
   "execution_count": null,
   "metadata": {},
   "outputs": [],
   "source": [
    "\"\"\"\n",
    "demonstrates saving an image\n",
    "(1) converts image to a displayable pixel format\n",
    "(2) prepares image parameters\n",
    "(3) prepares image writer\n",
    "(4) saves image\n",
    "(5) destroys converted image\n",
    "\"\"\"\n",
    "\n",
    "\"\"\"\n",
    "Setup stream values\n",
    "\"\"\"\n",
    "tl_stream_nodemap = device.tl_stream_nodemap\n",
    "tl_stream_nodemap['StreamAutoNegotiatePacketSize'].value = True\n",
    "tl_stream_nodemap['StreamPacketResendEnable'].value = True\n",
    "\n",
    "device.start_stream()\n",
    "\n",
    "buffer = device.get_buffer()\n",
    "\n",
    "\"\"\"\n",
    "Convert image\n",
    "    Convert the image to a displayable pixel format. It is worth\n",
    "    keeping in mind the best pixel and file formats for your\n",
    "    application. This example converts the image so that it is\n",
    "    displayable by the operating system.\n",
    "\"\"\"\n",
    "converted = BufferFactory.convert(buffer, pixel_format)\n",
    "print(f\"{TAB1}Converted image to {pixel_format.name}\")\n",
    "\n",
    "\"\"\"\n",
    "Prepare image writer\n",
    "    The image writer requires 2 parameters to save an image: the\n",
    "    buffer and specified file name or pattern.\n",
    "    Default name for the image is 'image_<count>.jpg' where count\n",
    "    is a pre-defined tag that gets updated every time a buffer image.\n",
    "\"\"\"\n",
    "print(f'{TAB1}Prepare Image Writer')\n",
    "writer = Writer()\n",
    "writer.pattern = 'images/image_<count>.jpg'\n",
    "\n",
    "# Save converted buffer\n",
    "writer.save(converted)\n",
    "print(f'{TAB1}Image saved')\n",
    "\n",
    "# Destroy converted buffer to avoid memory leaks\n",
    "BufferFactory.destroy(converted)\n",
    "\n",
    "device.requeue_buffer(buffer)\n",
    "\n",
    "# Clean up\n",
    "device.stop_stream()\n",
    "\n",
    "# Destroy Device\n",
    "system.destroy_device(device)"
   ]
  }
 ],
 "metadata": {
  "interpreter": {
   "hash": "520c5ad4575fadc5aeff8f7fe0ecb965d054482e0492acfe5440edeef6b5197d"
  },
  "kernelspec": {
   "display_name": "Python 3.6.8 64-bit ('ve_win_dev_py64': venv)",
   "name": "python3"
  },
  "language_info": {
   "codemirror_mode": {
    "name": "ipython",
    "version": 3
   },
   "file_extension": ".py",
   "mimetype": "text/x-python",
   "name": "python",
   "nbconvert_exporter": "python",
   "pygments_lexer": "ipython3",
   "version": "3.6.8"
  },
  "orig_nbformat": 4
 },
 "nbformat": 4,
 "nbformat_minor": 2
}
