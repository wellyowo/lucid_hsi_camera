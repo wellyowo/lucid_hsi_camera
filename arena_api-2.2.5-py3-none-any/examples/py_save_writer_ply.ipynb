{
 "cells": [
  {
   "cell_type": "code",
   "execution_count": 2,
   "metadata": {},
   "outputs": [],
   "source": [
    "# -----------------------------------------------------------------------------\n",
    "# Copyright (c) 2022, Lucid Vision Labs, Inc.\n",
    "#\n",
    "# THE SOFTWARE IS PROVIDED \"AS IS\", WITHOUT WARRANTY OF ANY KIND,\n",
    "# EXPRESS OR IMPLIED, INCLUDING BUT NOT LIMITED TO THE WARRANTIES\n",
    "# OF MERCHANTABILITY, FITNESS FOR A PARTICULAR PURPOSE AND\n",
    "# NONINFRINGEMENT. IN NO EVENT SHALL THE AUTHORS OR COPYRIGHT HOLDERS\n",
    "# BE LIABLE FOR ANY CLAIM, DAMAGES OR OTHER LIABILITY, WHETHER IN AN\n",
    "# ACTION OF CONTRACT, TORT OR OTHERWISE, ARISING FROM, OUT OF OR IN\n",
    "# CONNECTION WITH THE SOFTWARE OR THE USE OR OTHER DEALINGS IN\n",
    "# THE SOFTWARE.\n",
    "# -----------------------------------------------------------------------------"
   ]
  },
  {
   "cell_type": "code",
   "execution_count": 3,
   "metadata": {},
   "outputs": [],
   "source": [
    "import time\n",
    "import sys\n",
    "\n",
    "from arena_api.__future__.save import Writer\n",
    "from arena_api.enums import PixelFormat\n",
    "from arena_api.system import system"
   ]
  },
  {
   "cell_type": "code",
   "execution_count": 4,
   "metadata": {},
   "outputs": [
    {
     "data": {
      "text/plain": [
       "'\\n'"
      ]
     },
     "execution_count": 4,
     "metadata": {},
     "output_type": "execute_result"
    }
   ],
   "source": [
    "'''\n",
    "Save: PLY\n",
    "\tThis example introduces the save capabilities of the save library in the PLY\n",
    "\tfile format. It verifies that a 3D-capable Helios device is being used, shows\n",
    "\tthe construction of an image parameters object and an image writer, and saves\n",
    "\ta single image in the PLY file format.\n",
    "'''"
   ]
  },
  {
   "cell_type": "code",
   "execution_count": 5,
   "metadata": {},
   "outputs": [],
   "source": [
    "TAB1 = \"  \"\n",
    "pixel_format = PixelFormat.BGR8"
   ]
  },
  {
   "cell_type": "code",
   "execution_count": 6,
   "metadata": {},
   "outputs": [
    {
     "name": "stdout",
     "output_type": "stream",
     "text": [
      "Device used in the example:\n",
      "  ('1c:0f:af:00:00:40', 'PHX050S-C', 'ThisIsAValue', '169.254.3.2')\n"
     ]
    }
   ],
   "source": [
    "'''\n",
    "Waits for the user to connect a device before raising\n",
    "an exception if it fails\n",
    "'''\n",
    "\n",
    "tries = 0\n",
    "tries_max = 6\n",
    "sleep_time_secs = 10\n",
    "devices = None\n",
    "while tries < tries_max:  # Wait for device for 60 seconds\n",
    "    devices = system.create_device()\n",
    "    if not devices:\n",
    "        print(\n",
    "            f'Try {tries+1} of {tries_max}: waiting for {sleep_time_secs} '\n",
    "            f'secs for a device to be connected!')\n",
    "        for sec_count in range(sleep_time_secs):\n",
    "            time.sleep(1)\n",
    "            print(f'{sec_count + 1 } seconds passed ',\n",
    "                    '.' * sec_count, end='\\r')\n",
    "        tries += 1\n",
    "    else:\n",
    "        break\n",
    "else:\n",
    "    raise Exception(f'No device found! Please connect a device and run '\n",
    "                    f'the example again.')\n",
    "\n",
    "device = devices[0]\n",
    "print(f'Device used in the example:\\n{TAB1}{device}')"
   ]
  },
  {
   "cell_type": "code",
   "execution_count": 7,
   "metadata": {},
   "outputs": [
    {
     "name": "stdout",
     "output_type": "stream",
     "text": [
      "Scan3dCoordinateSelector node is not found.Please make sure that Helios device is used for the example.\n",
      "\n"
     ]
    }
   ],
   "source": [
    "# validate if Scan3dCoordinateSelector node exists.\n",
    "# If not, it is (probably) not a Helios Camera running the example\n",
    "try:\n",
    "\tscan_3d_operating_mode_node = device.nodemap['Scan3dOperatingMode'].value\n",
    "except (KeyError):\n",
    "\tprint(f'Scan3dCoordinateSelector node is not found. ' \\\n",
    "\t\tf'Please make sure that Helios device is used for the example.\\n')\n",
    "\tquit()"
   ]
  },
  {
   "cell_type": "code",
   "execution_count": 8,
   "metadata": {},
   "outputs": [
    {
     "name": "stdout",
     "output_type": "stream",
     "text": [
      "Device used in the example:\n",
      "\t('1c:0f:af:00:00:40', 'PHX050S-C', 'ThisIsAValue', '169.254.3.2')\n"
     ]
    }
   ],
   "source": [
    "tl_stream_nodemap = device.tl_stream_nodemap\n",
    "print(f'Device used in the example:\\n\\t{device}')\n",
    "\n",
    "# Enable stream auto negotiate packet size\n",
    "tl_stream_nodemap['StreamAutoNegotiatePacketSize'].value = True\n",
    "\n",
    "# Enable stream packet resend\n",
    "tl_stream_nodemap['StreamPacketResendEnable'].value = True"
   ]
  },
  {
   "cell_type": "code",
   "execution_count": 9,
   "metadata": {},
   "outputs": [
    {
     "ename": "ValueError",
     "evalue": "\n'Coord3D_ABC16' is not a valid enumentry (node\\name)\nenumentries names for this node are:\n\t['Mono8', 'Mono10', 'Mono10p', 'Mono10Packed', 'Mono12', 'Mono12p', 'Mono12Packed', 'Mono16', 'BayerRG8', 'BayerRG10', 'BayerRG10p', 'BayerRG10Packed', 'BayerRG12', 'BayerRG12p', 'BayerRG12Packed', 'BayerRG16', 'RGB8', 'BGR8', 'YCbCr8', 'YCbCr8_CbYCr', 'YUV422_8', 'YUV422_8_UYVY', 'YCbCr411_8', 'YUV411_8_UYYVYY']",
     "output_type": "error",
     "traceback": [
      "\u001b[1;31m---------------------------------------------------------------------------\u001b[0m",
      "\u001b[1;31mTypeError\u001b[0m                                 Traceback (most recent call last)",
      "\u001b[1;32mc:\\users\\william.chu\\software\\arena_api\\arena_api\\_node.py\u001b[0m in \u001b[0;36m__set_value\u001b[1;34m(self, value)\u001b[0m\n\u001b[0;32m    684\u001b[0m                 \u001b[0mvalue\u001b[0m \u001b[1;33m=\u001b[0m \u001b[0mvalue\u001b[0m\u001b[1;33m.\u001b[0m\u001b[0mname\u001b[0m\u001b[1;33m\u001b[0m\u001b[1;33m\u001b[0m\u001b[0m\n\u001b[1;32m--> 685\u001b[1;33m             \u001b[0mself\u001b[0m\u001b[1;33m.\u001b[0m\u001b[0m__set_value_from_str\u001b[0m\u001b[1;33m(\u001b[0m\u001b[0mvalue\u001b[0m\u001b[1;33m)\u001b[0m\u001b[1;33m\u001b[0m\u001b[1;33m\u001b[0m\u001b[0m\n\u001b[0m\u001b[0;32m    686\u001b[0m \u001b[1;33m\u001b[0m\u001b[0m\n",
      "\u001b[1;32mc:\\users\\william.chu\\software\\arena_api\\arena_api\\_node.py\u001b[0m in \u001b[0;36m__set_value_from_str\u001b[1;34m(self, str_value)\u001b[0m\n\u001b[0;32m    666\u001b[0m     \u001b[1;32mdef\u001b[0m \u001b[0m__set_value_from_str\u001b[0m\u001b[1;33m(\u001b[0m\u001b[0mself\u001b[0m\u001b[1;33m,\u001b[0m \u001b[0mstr_value\u001b[0m\u001b[1;33m)\u001b[0m\u001b[1;33m:\u001b[0m\u001b[1;33m\u001b[0m\u001b[1;33m\u001b[0m\u001b[0m\n\u001b[1;32m--> 667\u001b[1;33m         \u001b[1;32mreturn\u001b[0m \u001b[0mself\u001b[0m\u001b[1;33m.\u001b[0m\u001b[0mxenumeration\u001b[0m\u001b[1;33m.\u001b[0m\u001b[0mxEnumerationSetBySymbolic\u001b[0m\u001b[1;33m(\u001b[0m\u001b[0mstr_value\u001b[0m\u001b[1;33m)\u001b[0m\u001b[1;33m\u001b[0m\u001b[1;33m\u001b[0m\u001b[0m\n\u001b[0m\u001b[0;32m    668\u001b[0m \u001b[1;33m\u001b[0m\u001b[0m\n",
      "\u001b[1;32mc:\\users\\william.chu\\software\\arena_api\\arena_api\\_xlayer\\xarena\\_xnode.py\u001b[0m in \u001b[0;36mxEnumerationSetBySymbolic\u001b[1;34m(self, value)\u001b[0m\n\u001b[0;32m   1161\u001b[0m         \u001b[1;31m#   const char* pSymbolic)\u001b[0m\u001b[1;33m\u001b[0m\u001b[1;33m\u001b[0m\u001b[0m\n\u001b[1;32m-> 1162\u001b[1;33m         harenac.acEnumerationSetBySymbolic(\n\u001b[0m\u001b[0;32m   1163\u001b[0m             \u001b[0mself\u001b[0m\u001b[1;33m.\u001b[0m\u001b[0mhxnode\u001b[0m\u001b[1;33m,\u001b[0m\u001b[1;33m\u001b[0m\u001b[1;33m\u001b[0m\u001b[0m\n",
      "\u001b[1;32mc:\\users\\william.chu\\software\\arena_api\\arena_api\\_xlayer\\binary\\binary_function_return_value_checker.py\u001b[0m in \u001b[0;36mraise_if_error\u001b[1;34m(ret_err, raise_if_error, arguments)\u001b[0m\n\u001b[0;32m     37\u001b[0m             \u001b[0mmsg\u001b[0m \u001b[1;33m=\u001b[0m \u001b[0m_get_msg_func\u001b[0m\u001b[1;33m(\u001b[0m\u001b[0mret_err\u001b[0m\u001b[1;33m)\u001b[0m\u001b[1;33m\u001b[0m\u001b[1;33m\u001b[0m\u001b[0m\n\u001b[1;32m---> 38\u001b[1;33m             \u001b[1;32mraise\u001b[0m \u001b[0m_error_to_exception_dict\u001b[0m\u001b[1;33m[\u001b[0m\u001b[0mret_err\u001b[0m\u001b[1;33m]\u001b[0m\u001b[1;33m(\u001b[0m\u001b[0mmsg\u001b[0m\u001b[1;33m)\u001b[0m\u001b[1;33m\u001b[0m\u001b[1;33m\u001b[0m\u001b[0m\n\u001b[0m",
      "\u001b[1;31mTypeError\u001b[0m: \n\nSaveC ERROR :\n\tSC_ERR_INVALID_PARAMETER -1009\n\n",
      "\nDuring handling of the above exception, another exception occurred:\n",
      "\u001b[1;31mValueError\u001b[0m                                Traceback (most recent call last)",
      "\u001b[1;32m~\\AppData\\Local\\Temp/ipykernel_5532/3307414219.py\u001b[0m in \u001b[0;36m<module>\u001b[1;34m\u001b[0m\n\u001b[0;32m      2\u001b[0m \u001b[1;31m# signed pixelformat version of this would have the same name with\u001b[0m\u001b[1;33m\u001b[0m\u001b[1;33m\u001b[0m\u001b[0m\n\u001b[0;32m      3\u001b[0m \u001b[1;31m# an 's' at the end\u001b[0m\u001b[1;33m\u001b[0m\u001b[1;33m\u001b[0m\u001b[0m\n\u001b[1;32m----> 4\u001b[1;33m \u001b[0mdevice\u001b[0m\u001b[1;33m.\u001b[0m\u001b[0mnodemap\u001b[0m\u001b[1;33m[\u001b[0m\u001b[1;34m'PixelFormat'\u001b[0m\u001b[1;33m]\u001b[0m\u001b[1;33m.\u001b[0m\u001b[0mvalue\u001b[0m \u001b[1;33m=\u001b[0m \u001b[0mPixelFormat\u001b[0m\u001b[1;33m.\u001b[0m\u001b[0mCoord3D_ABC16\u001b[0m\u001b[1;33m\u001b[0m\u001b[1;33m\u001b[0m\u001b[0m\n\u001b[0m",
      "\u001b[1;32mc:\\users\\william.chu\\software\\arena_api\\arena_api\\_node.py\u001b[0m in \u001b[0;36m__set_value\u001b[1;34m(self, value)\u001b[0m\n\u001b[0;32m    690\u001b[0m             \u001b[1;31m# invalid enum name\u001b[0m\u001b[1;33m\u001b[0m\u001b[1;33m\u001b[0m\u001b[0m\n\u001b[0;32m    691\u001b[0m \u001b[1;33m\u001b[0m\u001b[0m\n\u001b[1;32m--> 692\u001b[1;33m             raise ValueError(f'\\n\\'{value}\\' is not a valid '\n\u001b[0m\u001b[0;32m    693\u001b[0m                              \u001b[1;34m'enumentry (node\\\\name)\\nenumentries '\u001b[0m\u001b[1;33m\u001b[0m\u001b[1;33m\u001b[0m\u001b[0m\n\u001b[0;32m    694\u001b[0m                              \u001b[1;34m'names for this node are:\\n'\u001b[0m\u001b[1;33m\u001b[0m\u001b[1;33m\u001b[0m\u001b[0m\n",
      "\u001b[1;31mValueError\u001b[0m: \n'Coord3D_ABC16' is not a valid enumentry (node\\name)\nenumentries names for this node are:\n\t['Mono8', 'Mono10', 'Mono10p', 'Mono10Packed', 'Mono12', 'Mono12p', 'Mono12Packed', 'Mono16', 'BayerRG8', 'BayerRG10', 'BayerRG10p', 'BayerRG10Packed', 'BayerRG12', 'BayerRG12p', 'BayerRG12Packed', 'BayerRG16', 'RGB8', 'BGR8', 'YCbCr8', 'YCbCr8_CbYCr', 'YUV422_8', 'YUV422_8_UYVY', 'YCbCr411_8', 'YUV411_8_UYYVYY']"
     ]
    }
   ],
   "source": [
    "# choose a 3d pixel format. here unsigned pixelformat is chosen. the\n",
    "# signed pixelformat version of this would have the same name with\n",
    "# an 's' at the end\n",
    "device.nodemap['PixelFormat'].value = PixelFormat.Coord3D_ABC16"
   ]
  },
  {
   "cell_type": "code",
   "execution_count": null,
   "metadata": {},
   "outputs": [],
   "source": [
    "with device.start_stream():\n",
    "\tprint('Stream started')\n",
    "\n",
    "\tbuffer = device.get_buffer()\n",
    "\tprint(f'Image buffer received')\n",
    "\n",
    "\t# create an image writer\n",
    "\t# The writer, optionally, can take width, height, and bits per pixel\n",
    "\t# of the image(s) it would save. if these arguments are not passed\n",
    "\t# at run time, the first buffer passed to the Writer.save()\n",
    "\t# function will configure the writer to the arguments buffer's width,\n",
    "\t# height, and bits per pixel\n",
    "\twriter = Writer()\n",
    "\n",
    "\t# save function\n",
    "\t# buffer :\n",
    "\t#   buffer to save.\n",
    "\t# pattern :\n",
    "\t#   default name for the image is 'image_<count>.jpg' where count\n",
    "\t#   is a pre-defined tag that gets updated every time a buffer image\n",
    "\t#   is saved. More custom tags can be added using\n",
    "\t#   Writer.register_tag() function\n",
    "\t# kwargs (optional args) ignored if not an .ply image:\n",
    "\t#   - 'filter_points' default is True.\n",
    "\t#       Filters NaN points (A = B = C = -32,678)\n",
    "\t#   - 'is_signed' default is False.\n",
    "\t#       If pixel format is signed for example PixelFormat.Coord3D_A16s\n",
    "\t#       then this arg must be passed to the save function else\n",
    "\t#       the results would not be correct\n",
    "\t#   - 'scale' default is 0.25.\n",
    "\t#   - 'offset_a', 'offset_b' and 'offset_c' default to 0.00\n",
    "\twriter.save(buffer, 'I_AM_A_3D_BECAUSE_OF_MY_EXTENSION.ply')\n",
    "\n",
    "\tprint(f'Image saved {writer.saved_images[-1]}')\n",
    "\n",
    "\tdevice.requeue_buffer(buffer)\n",
    "\tprint(f'Image buffer requeued')\n",
    "\n",
    "\t# read the point cloud then display it using one of many packages on\n",
    "\t# pypi. For example:\n",
    "\t#   import open3d\n",
    "\t#   pc_file = open3d.io.read_point_cloud(writer.saved_images[-1])\n",
    "\t#   open3d.visualization.draw_geometries([pc_file])\n",
    "\t#\n",
    "\t# Note:\n",
    "\t# open3d package does not support some\n",
    "\t# os/architerctures (Raspbian for exapmle)\n",
    "\n",
    "# device.stop_stream() is automatically called at the end of the\n",
    "# context manger scope"
   ]
  },
  {
   "cell_type": "code",
   "execution_count": null,
   "metadata": {},
   "outputs": [],
   "source": [
    "# This function call with no arguments will destroy all of the\n",
    "# created devices. Having this call here is optional, if it is not\n",
    "# here it will be called automatically when the system module is unloading.\n",
    "system.destroy_device()\n",
    "print('Destroyed all created devices')"
   ]
  }
 ],
 "metadata": {
  "interpreter": {
   "hash": "520c5ad4575fadc5aeff8f7fe0ecb965d054482e0492acfe5440edeef6b5197d"
  },
  "kernelspec": {
   "display_name": "Python 3.6.8 64-bit ('ve_win_dev_py64': venv)",
   "name": "python3"
  },
  "language_info": {
   "codemirror_mode": {
    "name": "ipython",
    "version": 3
   },
   "file_extension": ".py",
   "mimetype": "text/x-python",
   "name": "python",
   "nbconvert_exporter": "python",
   "pygments_lexer": "ipython3",
   "version": "3.9.9"
  },
  "orig_nbformat": 4
 },
 "nbformat": 4,
 "nbformat_minor": 2
}
