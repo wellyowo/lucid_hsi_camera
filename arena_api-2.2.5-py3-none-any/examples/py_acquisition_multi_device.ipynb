{
 "cells": [
  {
   "cell_type": "code",
   "execution_count": 1,
   "metadata": {},
   "outputs": [],
   "source": [
    "# -----------------------------------------------------------------------------\n",
    "# Copyright (c) 2022, Lucid Vision Labs, Inc.\n",
    "#\n",
    "# THE SOFTWARE IS PROVIDED \"AS IS\", WITHOUT WARRANTY OF ANY KIND,\n",
    "# EXPRESS OR IMPLIED, INCLUDING BUT NOT LIMITED TO THE WARRANTIES\n",
    "# OF MERCHANTABILITY, FITNESS FOR A PARTICULAR PURPOSE AND\n",
    "# NONINFRINGEMENT. IN NO EVENT SHALL THE AUTHORS OR COPYRIGHT HOLDERS\n",
    "# BE LIABLE FOR ANY CLAIM, DAMAGES OR OTHER LIABILITY, WHETHER IN AN\n",
    "# ACTION OF CONTRACT, TORT OR OTHERWISE, ARISING FROM, OUT OF OR IN\n",
    "# CONNECTION WITH THE SOFTWARE OR THE USE OR OTHER DEALINGS IN\n",
    "# THE SOFTWARE.\n",
    "# -----------------------------------------------------------------------------\n"
   ]
  },
  {
   "cell_type": "code",
   "execution_count": 2,
   "metadata": {},
   "outputs": [],
   "source": [
    "import threading\n",
    "import time\n",
    "from arena_api.system import system\n",
    "\n",
    "NUMBER_OF_BUFFERS = 25"
   ]
  },
  {
   "cell_type": "code",
   "execution_count": 3,
   "metadata": {},
   "outputs": [
    {
     "data": {
      "text/plain": [
       "'\\nAcquisition: Multi-Device\\n    This example introduces the basics of image acquisition for multiple\\n    devices and creating multiple threads. This includes creating all\\n    discovered devices, creating a thread for each device to acquire images.\\n    The thread then starts acquiring images by grabbing and requeuing buffers,\\n    before finally stopping the image stream.\\n'"
      ]
     },
     "execution_count": 3,
     "metadata": {},
     "output_type": "execute_result"
    }
   ],
   "source": [
    "'''\n",
    "Acquisition: Multi-Device\n",
    "    This example introduces the basics of image acquisition for multiple\n",
    "    devices and creating multiple threads. This includes creating all\n",
    "    discovered devices, creating a thread for each device to acquire images.\n",
    "    The thread then starts acquiring images by grabbing and requeuing buffers,\n",
    "    before finally stopping the image stream.\n",
    "'''\n"
   ]
  },
  {
   "cell_type": "code",
   "execution_count": 4,
   "metadata": {},
   "outputs": [
    {
     "name": "stdout",
     "output_type": "stream",
     "text": [
      "Created 1 device(s)\n",
      "\n"
     ]
    }
   ],
   "source": [
    "\"\"\"\n",
    "This function waits for the user to connect a device before raising\n",
    "an exception\n",
    "\"\"\"\n",
    "\n",
    "tries = 0\n",
    "tries_max = 6\n",
    "sleep_time_secs = 10\n",
    "while tries < tries_max:  # Wait for device for 60 seconds\n",
    "    devices = system.create_device()\n",
    "    if not devices:\n",
    "        print(\n",
    "            f'Try {tries+1} of {tries_max}: waiting for {sleep_time_secs} '\n",
    "            f'secs for a device to be connected!')\n",
    "        for sec_count in range(sleep_time_secs):\n",
    "            time.sleep(1)\n",
    "            print(f'{sec_count + 1 } seconds passed ',\n",
    "                  '.' * sec_count, end='\\r')\n",
    "        tries += 1\n",
    "    else:\n",
    "        print(f'Created {len(devices)} device(s)\\n')\n",
    "        device = devices[0]\n",
    "        break\n",
    "else:\n",
    "    raise Exception(f'No device found! Please connect a device and run '\n",
    "                    f'the example again.')"
   ]
  },
  {
   "cell_type": "code",
   "execution_count": 5,
   "metadata": {},
   "outputs": [],
   "source": [
    "def safe_print(*args, **kwargs):\n",
    "    \"\"\"\n",
    "    This function ensures resource access is locked to a single thread\n",
    "    \"\"\"\n",
    "    with threading.Lock():\n",
    "        print(*args, **kwargs)"
   ]
  },
  {
   "cell_type": "code",
   "execution_count": 6,
   "metadata": {},
   "outputs": [],
   "source": [
    "def get_multiple_image_buffers(device):\n",
    "    \"\"\"\n",
    "    This function demonstrates an acquisition on a device\n",
    "\n",
    "    (1) Start stream with N buffers\n",
    "    (2) Print each buffer info\n",
    "    (3) Requeue each buffer\n",
    "    \"\"\"\n",
    "\n",
    "    thread_id = f'''{device.nodemap['DeviceModelName'].value}''' \\\n",
    "        f'''-{device.nodemap['DeviceSerialNumber'].value} |'''\n",
    "\n",
    "    # Start stream with 25 buffers\n",
    "    device.start_stream(NUMBER_OF_BUFFERS)\n",
    "\n",
    "    # Print image buffer info\n",
    "    for count in range(NUMBER_OF_BUFFERS):\n",
    "        buffer = device.get_buffer()\n",
    "\n",
    "        safe_print(f'{thread_id:>30}',\n",
    "                   f'\\tbuffer{count:{2}} received | '\n",
    "                   f'Width = {buffer.width} pxl, '\n",
    "                   f'Height = {buffer.height} pxl, '\n",
    "                   f'Pixel Format = {buffer.pixel_format.name}')\n",
    "\n",
    "        \"\"\"\n",
    "        `Device.requeue_buffer()` takes a buffer or many buffers in\n",
    "        a list or tuple\n",
    "        \"\"\"\n",
    "        device.requeue_buffer(buffer)\n",
    "        safe_print(f'{thread_id:>30}', f'\\tbuffer{count:{2}} requeued | ')\n",
    "\n",
    "    device.stop_stream()"
   ]
  },
  {
   "cell_type": "code",
   "execution_count": 7,
   "metadata": {},
   "outputs": [],
   "source": [
    "'''\n",
    "Configure devices and store initial values\n",
    "'''\n",
    "\n",
    "# Create empty lists for the devices\n",
    "initial_acquisition_mode_list = []\n",
    "\n",
    "# Configure each device\n",
    "for device in devices:\n",
    "    # Get nodemap\n",
    "    nodemap = device.nodemap\n",
    "\n",
    "    # Store initial acquisition mode to restore later\n",
    "    initial_acquisition_mode_list.append(nodemap.get_node(\"AcquisitionMode\").value)\n",
    "\n",
    "    # Set acquisition mode to continuous\n",
    "    nodemap.get_node(\"AcquisitionMode\").value = \"Continuous\"\n",
    "\n",
    "    # Get device stream nodemap\n",
    "    tl_stream_nodemap = device.tl_stream_nodemap\n",
    "\n",
    "    # Set buffer handling mode to \"Newest First\"\n",
    "    tl_stream_nodemap[\"StreamBufferHandlingMode\"].value = \"NewestOnly\"\n",
    "\n",
    "    # Enable stream auto negotiate packet size\n",
    "    tl_stream_nodemap['StreamAutoNegotiatePacketSize'].value = True\n",
    "\n",
    "    # Enable stream packet resend\n",
    "    tl_stream_nodemap['StreamPacketResendEnable'].value = True\n"
   ]
  },
  {
   "cell_type": "code",
   "execution_count": 8,
   "metadata": {},
   "outputs": [
    {
     "name": "stdout",
     "output_type": "stream",
     "text": [
      "                PHX050S-C-64 | \tbuffer 0 received | Width = 2448 pxl, Height = 2048 pxl, Pixel Format = BayerRG8\n",
      "                PHX050S-C-64 | \tbuffer 0 requeued | \n",
      "                PHX050S-C-64 | \tbuffer 1 received | Width = 2448 pxl, Height = 2048 pxl, Pixel Format = BayerRG8\n",
      "                PHX050S-C-64 | \tbuffer 1 requeued | \n",
      "                PHX050S-C-64 | \tbuffer 2 received | Width = 2448 pxl, Height = 2048 pxl, Pixel Format = BayerRG8\n",
      "                PHX050S-C-64 | \tbuffer 2 requeued | \n",
      "                PHX050S-C-64 | \tbuffer 3 received | Width = 2448 pxl, Height = 2048 pxl, Pixel Format = BayerRG8\n",
      "                PHX050S-C-64 | \tbuffer 3 requeued | \n",
      "                PHX050S-C-64 | \tbuffer 4 received | Width = 2448 pxl, Height = 2048 pxl, Pixel Format = BayerRG8\n",
      "                PHX050S-C-64 | \tbuffer 4 requeued | \n",
      "                PHX050S-C-64 | \tbuffer 5 received | Width = 2448 pxl, Height = 2048 pxl, Pixel Format = BayerRG8\n",
      "                PHX050S-C-64 | \tbuffer 5 requeued | \n",
      "                PHX050S-C-64 | \tbuffer 6 received | Width = 2448 pxl, Height = 2048 pxl, Pixel Format = BayerRG8\n",
      "                PHX050S-C-64 | \tbuffer 6 requeued | \n",
      "                PHX050S-C-64 | \tbuffer 7 received | Width = 2448 pxl, Height = 2048 pxl, Pixel Format = BayerRG8\n",
      "                PHX050S-C-64 | \tbuffer 7 requeued | \n",
      "                PHX050S-C-64 | \tbuffer 8 received | Width = 2448 pxl, Height = 2048 pxl, Pixel Format = BayerRG8\n",
      "                PHX050S-C-64 | \tbuffer 8 requeued | \n",
      "                PHX050S-C-64 | \tbuffer 9 received | Width = 2448 pxl, Height = 2048 pxl, Pixel Format = BayerRG8\n",
      "                PHX050S-C-64 | \tbuffer 9 requeued | \n",
      "                PHX050S-C-64 | \tbuffer10 received | Width = 2448 pxl, Height = 2048 pxl, Pixel Format = BayerRG8\n",
      "                PHX050S-C-64 | \tbuffer10 requeued | \n",
      "                PHX050S-C-64 | \tbuffer11 received | Width = 2448 pxl, Height = 2048 pxl, Pixel Format = BayerRG8\n",
      "                PHX050S-C-64 | \tbuffer11 requeued | \n",
      "                PHX050S-C-64 | \tbuffer12 received | Width = 2448 pxl, Height = 2048 pxl, Pixel Format = BayerRG8\n",
      "                PHX050S-C-64 | \tbuffer12 requeued | \n",
      "                PHX050S-C-64 | \tbuffer13 received | Width = 2448 pxl, Height = 2048 pxl, Pixel Format = BayerRG8\n",
      "                PHX050S-C-64 | \tbuffer13 requeued | \n",
      "                PHX050S-C-64 | \tbuffer14 received | Width = 2448 pxl, Height = 2048 pxl, Pixel Format = BayerRG8\n",
      "                PHX050S-C-64 | \tbuffer14 requeued | \n",
      "                PHX050S-C-64 | \tbuffer15 received | Width = 2448 pxl, Height = 2048 pxl, Pixel Format = BayerRG8\n",
      "                PHX050S-C-64 | \tbuffer15 requeued | \n",
      "                PHX050S-C-64 | \tbuffer16 received | Width = 2448 pxl, Height = 2048 pxl, Pixel Format = BayerRG8\n",
      "                PHX050S-C-64 | \tbuffer16 requeued | \n",
      "                PHX050S-C-64 | \tbuffer17 received | Width = 2448 pxl, Height = 2048 pxl, Pixel Format = BayerRG8\n",
      "                PHX050S-C-64 | \tbuffer17 requeued | \n",
      "                PHX050S-C-64 | \tbuffer18 received | Width = 2448 pxl, Height = 2048 pxl, Pixel Format = BayerRG8\n",
      "                PHX050S-C-64 | \tbuffer18 requeued | \n",
      "                PHX050S-C-64 | \tbuffer19 received | Width = 2448 pxl, Height = 2048 pxl, Pixel Format = BayerRG8\n",
      "                PHX050S-C-64 | \tbuffer19 requeued | \n",
      "                PHX050S-C-64 | \tbuffer20 received | Width = 2448 pxl, Height = 2048 pxl, Pixel Format = BayerRG8\n",
      "                PHX050S-C-64 | \tbuffer20 requeued | \n",
      "                PHX050S-C-64 | \tbuffer21 received | Width = 2448 pxl, Height = 2048 pxl, Pixel Format = BayerRG8\n",
      "                PHX050S-C-64 | \tbuffer21 requeued | \n",
      "                PHX050S-C-64 | \tbuffer22 received | Width = 2448 pxl, Height = 2048 pxl, Pixel Format = BayerRG8\n",
      "                PHX050S-C-64 | \tbuffer22 requeued | \n",
      "                PHX050S-C-64 | \tbuffer23 received | Width = 2448 pxl, Height = 2048 pxl, Pixel Format = BayerRG8\n",
      "                PHX050S-C-64 | \tbuffer23 requeued | \n",
      "                PHX050S-C-64 | \tbuffer24 received | Width = 2448 pxl, Height = 2048 pxl, Pixel Format = BayerRG8\n",
      "                PHX050S-C-64 | \tbuffer24 requeued | \n"
     ]
    }
   ],
   "source": [
    "'''\n",
    "Acquire images using one thread per device, then joins threads.\n",
    "'''\n",
    "\n",
    "thread_list = []\n",
    "\n",
    "# Create a thread for each device\n",
    "for device in devices:\n",
    "    thread = threading.Thread(target=get_multiple_image_buffers,\n",
    "        args=(device,))\n",
    "    thread_list.append(thread)\n",
    "\n",
    "# Start each thread in the thread list\n",
    "for thread in thread_list:\n",
    "    thread.start()\n",
    "\n",
    "\"\"\"\n",
    "Join each thread in the thread list\n",
    "    Calling thread is blocked util the thread object on which it was called is terminated.\n",
    "\"\"\"\n",
    "for thread in thread_list:\n",
    "    thread.join()\n"
   ]
  },
  {
   "cell_type": "code",
   "execution_count": 9,
   "metadata": {},
   "outputs": [],
   "source": [
    "'''\n",
    "Restore initial values, then destroy devices\n",
    "'''\n",
    "for i in range(len(devices)):\n",
    "    devices[i].nodemap.get_node(\"AcquisitionMode\").value = initial_acquisition_mode_list[i]\n",
    "\n",
    "system.destroy_device()"
   ]
  }
 ],
 "metadata": {
  "interpreter": {
   "hash": "3620b89036c69a489b14ec4722691b63ae49f46a05ab29903dce938fdeb7f627"
  },
  "kernelspec": {
   "display_name": "Python 3.9.7 64-bit ('ve_win_dev_py64': venv)",
   "name": "python3"
  },
  "language_info": {
   "codemirror_mode": {
    "name": "ipython",
    "version": 3
   },
   "file_extension": ".py",
   "mimetype": "text/x-python",
   "name": "python",
   "nbconvert_exporter": "python",
   "pygments_lexer": "ipython3",
   "version": "3.9.7"
  },
  "orig_nbformat": 4
 },
 "nbformat": 4,
 "nbformat_minor": 2
}
