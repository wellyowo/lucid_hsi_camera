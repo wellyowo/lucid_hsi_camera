{
 "cells": [
  {
   "cell_type": "code",
   "execution_count": 8,
   "metadata": {},
   "outputs": [],
   "source": [
    "# -----------------------------------------------------------------------------\n",
    "# Copyright (c) 2022, Lucid Vision Labs, Inc.\n",
    "#\n",
    "# THE SOFTWARE IS PROVIDED \"AS IS\", WITHOUT WARRANTY OF ANY KIND,\n",
    "# EXPRESS OR IMPLIED, INCLUDING BUT NOT LIMITED TO THE WARRANTIES\n",
    "# OF MERCHANTABILITY, FITNESS FOR A PARTICULAR PURPOSE AND\n",
    "# NONINFRINGEMENT. IN NO EVENT SHALL THE AUTHORS OR COPYRIGHT HOLDERS\n",
    "# BE LIABLE FOR ANY CLAIM, DAMAGES OR OTHER LIABILITY, WHETHER IN AN\n",
    "# ACTION OF CONTRACT, TORT OR OTHERWISE, ARISING FROM, OUT OF OR IN\n",
    "# CONNECTION WITH THE SOFTWARE OR THE USE OR OTHER DEALINGS IN\n",
    "# THE SOFTWARE.\n",
    "# -----------------------------------------------------------------------------"
   ]
  },
  {
   "cell_type": "code",
   "execution_count": 9,
   "metadata": {},
   "outputs": [],
   "source": [
    "import time\n",
    "from arena_api.callback import callback, callback_function\n",
    "from arena_api.system import system\n"
   ]
  },
  {
   "cell_type": "code",
   "execution_count": 10,
   "metadata": {},
   "outputs": [
    {
     "data": {
      "text/plain": [
       "'\\nCallbacks: On Node Change\\n    This example demonstrates configuring a callback to be invoked when a node\\n    is invalidated. A node is invalidated when its value changes or can be\\n    invalidated manually. In this example, a callback is registered on\\n    PayloadSize. The example shows two ways to invoke a callback: first by\\n    changing the value of a dependent node (Height) and then by invalidating\\n    PayloadSize manually. Whenever the callback is triggered, the callback\\n    function prints the updated value of the invalidated node.\\n'"
      ]
     },
     "execution_count": 10,
     "metadata": {},
     "output_type": "execute_result"
    }
   ],
   "source": [
    "\"\"\"\n",
    "Callbacks: On Node Change\n",
    "    This example demonstrates configuring a callback to be invoked when a node\n",
    "    is invalidated. A node is invalidated when its value changes or can be\n",
    "    invalidated manually. In this example, a callback is registered on\n",
    "    PayloadSize. The example shows two ways to invoke a callback: first by\n",
    "    changing the value of a dependent node (Height) and then by invalidating\n",
    "    PayloadSize manually. Whenever the callback is triggered, the callback\n",
    "    function prints the updated value of the invalidated node.\n",
    "\"\"\""
   ]
  },
  {
   "cell_type": "code",
   "execution_count": 11,
   "metadata": {},
   "outputs": [],
   "source": [
    "\"\"\"\n",
    " =-=-=-=-=-=-=-=-=-\n",
    " =-=- SETTINGS =-=-\n",
    " =-=-=-=-=-=-=-=-=-\n",
    "\"\"\"\n",
    "TAB1 = \"  \"\n",
    "TAB2 = \"    \"\n",
    "height_one = 256\n",
    "height_two = 512"
   ]
  },
  {
   "cell_type": "code",
   "execution_count": 12,
   "metadata": {},
   "outputs": [],
   "source": [
    "\"\"\"\n",
    "Waits for the user to connect a device before \n",
    "raising an exception\n",
    "\"\"\"\n",
    "tries = 0\n",
    "tries_max = 6\n",
    "sleep_time_secs = 10\n",
    "while tries < tries_max:  # Wait for device for 60 seconds\n",
    "    devices = system.create_device()\n",
    "    if not devices:\n",
    "        print(\n",
    "            f'Try {tries+1} of {tries_max}: waiting for {sleep_time_secs} '\n",
    "            f'secs for a device to be connected!')\n",
    "        for sec_count in range(sleep_time_secs):\n",
    "            time.sleep(1)\n",
    "            print(f'{sec_count + 1 } seconds passed ',\n",
    "                    '.' * sec_count, end='\\r')\n",
    "        tries += 1\n",
    "    else:\n",
    "        break\n",
    "else:\n",
    "    raise Exception(f'No device found! Please connect a device and run '\n",
    "                    f'the example again.')\n",
    "\n",
    "device = devices[0]"
   ]
  },
  {
   "cell_type": "code",
   "execution_count": 13,
   "metadata": {},
   "outputs": [],
   "source": [
    "@callback_function.node.on_update\n",
    "def print_node(node, *args, **kwargs):\n",
    "    \"\"\"\n",
    "    Do something on callback\n",
    "        This function is registered with the callback and invoked when the\n",
    "        registered node is invalidated. In this case, the callback prints the\n",
    "        display name and value of the invalidated node.\n",
    "    \"\"\"\n",
    "    print(f'{TAB1}{TAB2}Message from callback')\n",
    "    print(f'{TAB2}{TAB2}{node.name} : {str(node.value)}')"
   ]
  },
  {
   "cell_type": "code",
   "execution_count": 14,
   "metadata": {},
   "outputs": [
    {
     "name": "stdout",
     "output_type": "stream",
     "text": [
      "  Register Callback on PayloadSize\n",
      "    Change Height Once\n",
      "      Message from callback\n",
      "        PayloadSize : 737280\n",
      "    Change Height Twice\n",
      "      Message from callback\n",
      "        PayloadSize : 1474560\n",
      "    Invalidate PayloadSize\n",
      "      Message from callback\n",
      "        PayloadSize : 1474560\n",
      "    Deregister Callback\n"
     ]
    }
   ],
   "source": [
    "\"\"\"\n",
    "demonstrates callbacks invoked on node changes\n",
    "(1) registers callback on node PayloadSize\n",
    "(2) changes Height twice to invalidate PayloadSize, invoking callback\n",
    "(3) invalidates PayloadSize manually\n",
    "(4) deregisters callback\n",
    "\"\"\"\n",
    "nodemap = device.nodemap\n",
    "nodes = nodemap.get_node([\"Height\", \"PayloadSize\"])\n",
    "\n",
    "\"\"\"\n",
    "Get node values to return their values at end of example\n",
    "\"\"\"\n",
    "height_initial = nodes[\"Height\"].value\n",
    "\n",
    "if (nodes[\"PayloadSize\"].is_readable is False):\n",
    "    raise Exception(\"PaytloadSize not readable\")\n",
    "\n",
    "\"\"\"\n",
    "Register PayloadSize for callbacks\n",
    "    Callbacks are registered with a node and a function. This example\n",
    "    demonstrates callbacks being invoked when the node is invalidated. This\n",
    "    could be when the node value changes, either manually or by the device,\n",
    "    or when the node is invalidated manually.\n",
    "\"\"\"\n",
    "print(f\"{TAB1}Register Callback on PayloadSize\")\n",
    "handle = callback.register(nodes[\"PayloadSize\"], print_node)\n",
    "\n",
    "\"\"\"\n",
    "Modify Height to invoke callback on PayloadSize\n",
    "    The value of PayloadSize depends on a number of other nodes. This\n",
    "    includes Height. Therefore, changing the value of Height changes the\n",
    "    value of and invalidates PayloadSize, which then invokes the callback.\n",
    "\"\"\"\n",
    "print(f\"{TAB2}Change Height Once\")\n",
    "nodes[\"Height\"].value = height_one\n",
    "\n",
    "print(f\"{TAB2}Change Height Twice\")\n",
    "nodes[\"Height\"].value = height_two\n",
    "\n",
    "\"\"\"\n",
    "Manually invalidate PayloadSize for callback\n",
    "    Apart from changing the value of a node, nodes can be invalidated\n",
    "    manually by calling InvalidateNode. This also invokes the callback.\n",
    "\"\"\"\n",
    "print(f\"{TAB2}Invalidate PayloadSize\")\n",
    "nodes[\"PayloadSize\"].invalidate_node()\n",
    "\n",
    "\"\"\"\n",
    "Deregister callback\n",
    "    Failing to deregister a callback results in a memory leak. Once a\n",
    "    callback has been registered, it will no longer be invoked when a node\n",
    "    is invalidated\n",
    "\"\"\"\n",
    "print(f'{TAB2}Deregister Callback')\n",
    "callback.deregister(handle)\n",
    "\n",
    "\"\"\"\n",
    "Return node(s) to their initial values\n",
    "\"\"\"\n",
    "nodes[\"Height\"].value = height_initial\n",
    "\n",
    "system.destroy_device(device)"
   ]
  }
 ],
 "metadata": {
  "interpreter": {
   "hash": "520c5ad4575fadc5aeff8f7fe0ecb965d054482e0492acfe5440edeef6b5197d"
  },
  "kernelspec": {
   "display_name": "Python 3.6.8 64-bit ('ve_win_dev_py64': venv)",
   "name": "python3"
  },
  "language_info": {
   "codemirror_mode": {
    "name": "ipython",
    "version": 3
   },
   "file_extension": ".py",
   "mimetype": "text/x-python",
   "name": "python",
   "nbconvert_exporter": "python",
   "pygments_lexer": "ipython3",
   "version": "3.6.9"
  },
  "orig_nbformat": 4
 },
 "nbformat": 4,
 "nbformat_minor": 2
}
