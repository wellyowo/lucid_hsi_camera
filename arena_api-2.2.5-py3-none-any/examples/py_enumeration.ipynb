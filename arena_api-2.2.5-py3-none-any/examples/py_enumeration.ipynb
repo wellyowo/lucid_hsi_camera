{
 "cells": [
  {
   "cell_type": "code",
   "execution_count": 1,
   "source": [
    "'''\r\n",
    " ***************************************************************************************\r\n",
    " ***                                                                                 ***\r\n",
    " ***  Copyright (c) 2022, Lucid Vision Labs, Inc.                                    ***\r\n",
    " ***                                                                                 ***\r\n",
    " ***  THE SOFTWARE IS PROVIDED \"AS IS\", WITHOUT WARRANTY OF ANY KIND, EXPRESS OR     ***\r\n",
    " ***  IMPLIED, INCLUDING BUT NOT LIMITED TO THE WARRANTIES OF MERCHANTABILITY,       ***\r\n",
    " ***  FITNESS FOR A PARTICULAR PURPOSE AND NONINFRINGEMENT. IN NO EVENT SHALL THE    ***\r\n",
    " ***  AUTHORS OR COPYRIGHT HOLDERS BE LIABLE FOR ANY CLAIM, DAMAGES OR OTHER         ***\r\n",
    " ***  LIABILITY, WHETHER IN AN ACTION OF CONTRACT, TORT OR OTHERWISE, ARISING FROM,  ***\r\n",
    " ***  OUT OF OR IN CONNECTION WITH THE SOFTWARE OR THE USE OR OTHER DEALINGS IN THE  ***\r\n",
    " ***  SOFTWARE.                                                                      ***\r\n",
    " ***                                                                                 ***\r\n",
    " ***************************************************************************************\r\n",
    "'''"
   ],
   "outputs": [
    {
     "output_type": "execute_result",
     "data": {
      "text/plain": [
       "'\\n ***************************************************************************************\\n ***                                                                                 ***\\n ***  Copyright (c) 2022, Lucid Vision Labs, Inc.                                    ***\\n ***                                                                                 ***\\n ***  THE SOFTWARE IS PROVIDED \"AS IS\", WITHOUT WARRANTY OF ANY KIND, EXPRESS OR     ***\\n ***  IMPLIED, INCLUDING BUT NOT LIMITED TO THE WARRANTIES OF MERCHANTABILITY,       ***\\n ***  FITNESS FOR A PARTICULAR PURPOSE AND NONINFRINGEMENT. IN NO EVENT SHALL THE    ***\\n ***  AUTHORS OR COPYRIGHT HOLDERS BE LIABLE FOR ANY CLAIM, DAMAGES OR OTHER         ***\\n ***  LIABILITY, WHETHER IN AN ACTION OF CONTRACT, TORT OR OTHERWISE, ARISING FROM,  ***\\n ***  OUT OF OR IN CONNECTION WITH THE SOFTWARE OR THE USE OR OTHER DEALINGS IN THE  ***\\n ***  SOFTWARE.                                                                      ***\\n ***                                                                                 ***\\n ***************************************************************************************\\n'"
      ]
     },
     "metadata": {},
     "execution_count": 1
    }
   ],
   "metadata": {}
  },
  {
   "cell_type": "code",
   "execution_count": 2,
   "source": [
    "'''\r\n",
    "Enumeration: Introduction\r\n",
    "    This example introduces device enumeration. This includes opening\r\n",
    "    devices, searching for devices, and creating and destroying a\r\n",
    "    and closing the system, updating and retrieving the list of\r\n",
    "    device.\r\n",
    "'''"
   ],
   "outputs": [
    {
     "output_type": "execute_result",
     "data": {
      "text/plain": [
       "'\\nEnumeration: Introduction\\n    This example introduces device enumeration. This includes opening\\n    devices, searching for devices, and creating and destroying a\\n    and closing the system, updating and retrieving the list of\\n    device.\\n'"
      ]
     },
     "metadata": {},
     "execution_count": 2
    }
   ],
   "metadata": {}
  },
  {
   "cell_type": "code",
   "execution_count": 3,
   "source": [
    "'''\r\n",
    "from arena_api.system import system: instantiates _System()\r\n",
    "    there's no explicit open for us to use\r\n",
    "'''\r\n",
    "\r\n",
    "from arena_api.system import system\r\n",
    "import time"
   ],
   "outputs": [],
   "metadata": {}
  },
  {
   "cell_type": "code",
   "execution_count": 4,
   "source": [
    "'''\r\n",
    "Print device info for all connected devices\r\n",
    "'''\r\n",
    "\r\n",
    "'''\r\n",
    "system.device_infos returns a list of dicts\r\n",
    "    Each dict contains a list of attributes for a connected device\r\n",
    "    Attributes include: model, vendor, serial, and network info\r\n",
    "'''\r\n",
    "device_info = system.device_infos\r\n",
    "\r\n",
    "# for each device: print all attributes\r\n",
    "for i, info in enumerate(device_info):\r\n",
    "    print(f\"\\tDevice {i}:\")\r\n",
    "    for item in device_info[i]:\r\n",
    "        print(f\"\\t\\t{item}: {device_info[i][item]}\")"
   ],
   "outputs": [
    {
     "output_type": "stream",
     "name": "stdout",
     "text": [
      "\tDevice 0:\n",
      "\t\tmodel: PHX050S-C\n",
      "\t\tvendor: Lucid Vision Labs\n",
      "\t\tserial: 64\n",
      "\t\tip: 169.254.3.2\n",
      "\t\tsubnetmask: 255.255.0.0\n",
      "\t\tdefaultgateway: 0.0.0.0\n",
      "\t\tmac: 1c:0f:af:00:00:40\n",
      "\t\tname: ThisIsAValue\n",
      "\t\tversion: 1.62.0.0\n",
      "\t\tdhcp: False\n",
      "\t\tpresistentip: True\n",
      "\t\tlla: True\n"
     ]
    }
   ],
   "metadata": {}
  },
  {
   "cell_type": "code",
   "execution_count": 5,
   "source": [
    "\"\"\"\r\n",
    "Demonstrates creation of connected devices\r\n",
    "\"\"\"\r\n",
    "\r\n",
    "tries = 0\r\n",
    "tries_max = 6\r\n",
    "sleep_time_secs = 10\r\n",
    "while tries < tries_max:  # Wait for device for 60 seconds\r\n",
    "    devices = system.create_device()\r\n",
    "    if not devices:\r\n",
    "        print(\r\n",
    "            f'Try {tries+1} of {tries_max}: waiting for {sleep_time_secs} '\r\n",
    "            f'secs for a device to be connected!')\r\n",
    "        for sec_count in range(sleep_time_secs):\r\n",
    "            time.sleep(1)\r\n",
    "            print(f'{sec_count + 1 } seconds passed ',\r\n",
    "                  '.' * sec_count, end='\\r')\r\n",
    "        tries += 1\r\n",
    "    else:\r\n",
    "        print(f'Created {len(devices)} device(s)\\n')\r\n",
    "        break\r\n",
    "else:\r\n",
    "    raise Exception(f'No device found! Please connect a device and run '\r\n",
    "                    f'the example again.')"
   ],
   "outputs": [
    {
     "output_type": "stream",
     "name": "stdout",
     "text": [
      "Created 1 device(s)\n",
      "\n"
     ]
    }
   ],
   "metadata": {}
  },
  {
   "cell_type": "code",
   "execution_count": 6,
   "source": [
    "'''\r\n",
    "Demonstrates explicit destruction of devices\r\n",
    "'''\r\n",
    "\r\n",
    "# This is unnecessary: devices are automatically destroyed when system closes\r\n",
    "system.destroy_device()\r\n"
   ],
   "outputs": [],
   "metadata": {}
  },
  {
   "cell_type": "code",
   "execution_count": 7,
   "source": [
    "'''\r\n",
    "System is closed when module is closed.\r\n",
    "    Explicitly closing it would prevent it from being reopened, \r\n",
    "    as it is only supposed to be opened with \"from arena_api.system import system\"\r\n",
    "'''"
   ],
   "outputs": [
    {
     "output_type": "execute_result",
     "data": {
      "text/plain": [
       "'\\nSystem is closed when module is closed.\\n    Explicitly closing it would prevent it from being reopened, \\n    as it is only supposed to be opened with \"from arena_api.system import system\"\\n'"
      ]
     },
     "metadata": {},
     "execution_count": 7
    }
   ],
   "metadata": {}
  }
 ],
 "metadata": {
  "orig_nbformat": 4,
  "language_info": {
   "name": "python",
   "version": "3.9.7",
   "mimetype": "text/x-python",
   "codemirror_mode": {
    "name": "ipython",
    "version": 3
   },
   "pygments_lexer": "ipython3",
   "nbconvert_exporter": "python",
   "file_extension": ".py"
  },
  "kernelspec": {
   "name": "python3",
   "display_name": "Python 3.9.7 64-bit ('ve_win_dev_py64': venv)"
  },
  "interpreter": {
   "hash": "3620b89036c69a489b14ec4722691b63ae49f46a05ab29903dce938fdeb7f627"
  }
 },
 "nbformat": 4,
 "nbformat_minor": 2
}