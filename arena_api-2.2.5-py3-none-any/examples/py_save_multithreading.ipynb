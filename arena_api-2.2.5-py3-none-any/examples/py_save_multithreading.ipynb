{
 "cells": [
  {
   "cell_type": "code",
   "execution_count": 1,
   "metadata": {},
   "outputs": [],
   "source": [
    "# -----------------------------------------------------------------------------\n",
    "# Copyright (c) 2022, Lucid Vision Labs, Inc.\n",
    "#\n",
    "# THE SOFTWARE IS PROVIDED \"AS IS\", WITHOUT WARRANTY OF ANY KIND,\n",
    "# EXPRESS OR IMPLIED, INCLUDING BUT NOT LIMITED TO THE WARRANTIES\n",
    "# OF MERCHANTABILITY, FITNESS FOR A PARTICULAR PURPOSE AND\n",
    "# NONINFRINGEMENT. IN NO EVENT SHALL THE AUTHORS OR COPYRIGHT HOLDERS\n",
    "# BE LIABLE FOR ANY CLAIM, DAMAGES OR OTHER LIABILITY, WHETHER IN AN\n",
    "# ACTION OF CONTRACT, TORT OR OTHERWISE, ARISING FROM, OUT OF OR IN\n",
    "# CONNECTION WITH THE SOFTWARE OR THE USE OR OTHER DEALINGS IN\n",
    "# THE SOFTWARE.\n",
    "# -----------------------------------------------------------------------------"
   ]
  },
  {
   "cell_type": "code",
   "execution_count": 2,
   "metadata": {},
   "outputs": [],
   "source": [
    "import time\n",
    "import queue\n",
    "import threading\n",
    "from arena_api.system import system\n",
    "from arena_api.buffer import BufferFactory\n",
    "from arena_api.__future__.save import Writer\n",
    "from multiprocessing import Value"
   ]
  },
  {
   "cell_type": "code",
   "execution_count": 3,
   "metadata": {},
   "outputs": [
    {
     "data": {
      "text/plain": [
       "'\\nAcquiring and Saving Images on Seperate Threads: Introduction\\n    Saving images can sometimes create a bottleneck in the image\\n    acquisition pipeline. By sperating saving onto a separate thread,\\n    this bottle neck can be avoided. This example is programmed as a\\n    simple producer-consumer problem.\\n'"
      ]
     },
     "execution_count": 3,
     "metadata": {},
     "output_type": "execute_result"
    }
   ],
   "source": [
    "'''\n",
    "Acquiring and Saving Images on Seperate Threads: Introduction\n",
    "    Saving images can sometimes create a bottleneck in the image\n",
    "    acquisition pipeline. By sperating saving onto a separate thread,\n",
    "    this bottle neck can be avoided. This example is programmed as a\n",
    "    simple producer-consumer problem.\n",
    "'''"
   ]
  },
  {
   "cell_type": "code",
   "execution_count": 4,
   "metadata": {},
   "outputs": [
    {
     "name": "stdout",
     "output_type": "stream",
     "text": [
      "Created 1 device(s)\n",
      "\n"
     ]
    }
   ],
   "source": [
    "\"\"\"\n",
    "This function waits for the user to connect a device before raising\n",
    "an exception\n",
    "\"\"\"\n",
    "\n",
    "tries = 0\n",
    "tries_max = 6\n",
    "sleep_time_secs = 10\n",
    "while tries < tries_max:  # Wait for device for 60 seconds\n",
    "    devices = system.create_device()\n",
    "    if not devices:\n",
    "        print(\n",
    "            f'Try {tries+1} of {tries_max}: waiting for {sleep_time_secs} '\n",
    "            f'secs for a device to be connected!')\n",
    "        for sec_count in range(sleep_time_secs):\n",
    "            time.sleep(1)\n",
    "            print(f'{sec_count + 1 } seconds passed ',\n",
    "                  '.' * sec_count, end='\\r')\n",
    "        tries += 1\n",
    "    else:\n",
    "        print(f'Created {len(devices)} device(s)\\n')\n",
    "        device = devices[0]\n",
    "        break\n",
    "else:\n",
    "    raise Exception(f'No device found! Please connect a device and run '\n",
    "                    f'the example again.')"
   ]
  },
  {
   "cell_type": "code",
   "execution_count": 5,
   "metadata": {},
   "outputs": [],
   "source": [
    "nodemap = device.nodemap\n",
    "tl_stream_nodemap = device.tl_stream_nodemap\n",
    "\n",
    "tl_stream_nodemap['StreamAutoNegotiatePacketSize'].value = True\n",
    "tl_stream_nodemap['StreamPacketResendEnable'].value = True\n"
   ]
  },
  {
   "cell_type": "code",
   "execution_count": 6,
   "metadata": {},
   "outputs": [],
   "source": [
    "def get_multiple_image_buffers(device, buffer_queue, is_more_buffers):\n",
    "    '''\n",
    "    Acquire thirty images and add them to the queue to be saved.\n",
    "        Then send the signal that no more images are incoming,\n",
    "        so that the other thread knows when to stop.\n",
    "    '''\n",
    "\n",
    "    number_of_buffers = 30\n",
    "\n",
    "    device.start_stream(number_of_buffers)\n",
    "    print(f'Stream started with {number_of_buffers} buffers')\n",
    "\n",
    "    print(f'\\tGet {number_of_buffers} buffers in a list')\n",
    "    buffers = device.get_buffer(number_of_buffers)\n",
    "\n",
    "    # Print image buffer info\n",
    "    for count, buffer in enumerate(buffers):\n",
    "        print(f'\\t\\tbuffer{count:{2}} received | '\n",
    "              f'Width = {buffer.width} pxl, '\n",
    "              f'Height = {buffer.height} pxl, '\n",
    "              f'Pixel Format = {buffer.pixel_format.name}')\n",
    "        buffer_queue.put(BufferFactory.copy(buffer))\n",
    "        time.sleep(0.1)\n",
    "\n",
    "    device.requeue_buffer(buffers)\n",
    "    print(f'Requeued {number_of_buffers} buffers')\n",
    "\n",
    "    device.stop_stream()\n",
    "    print(f'Stream stopped')\n",
    "    is_more_buffers.value = 0"
   ]
  },
  {
   "cell_type": "code",
   "execution_count": 7,
   "metadata": {},
   "outputs": [],
   "source": [
    "def save_image_buffers(buffer_queue, is_more_buffers):\n",
    "    '''\n",
    "    Creates a writer. While there are images in the queue, or\n",
    "        while images will still be added to the queue, save images until\n",
    "        the queue is empty. Then wait one second before checking the earlier conditions.\n",
    "        This ensures that all images will be saved.\n",
    "    '''\n",
    "    writer = Writer()\n",
    "    count = 0\n",
    "    while is_more_buffers.value or not buffer_queue.empty():\n",
    "        while(not buffer_queue.empty()):\n",
    "            buffer = buffer_queue.get()\n",
    "            writer.save(buffer, pattern=f\"Images/image_{count}.jpg\")\n",
    "            print(f\"Saved image {count}\")\n",
    "            count = count + 1\n",
    "        print(\"Queue empty, waiting 1s\")\n",
    "        time.sleep(1)\n"
   ]
  },
  {
   "cell_type": "code",
   "execution_count": 8,
   "metadata": {},
   "outputs": [
    {
     "name": "stdout",
     "output_type": "stream",
     "text": [
      "Queue empty, waiting 1s\n",
      "Stream started with 30 buffers\n",
      "\tGet 30 buffers in a list\n",
      "Queue empty, waiting 1s\n",
      "Queue empty, waiting 1s\n",
      "Queue empty, waiting 1s\n",
      "\t\tbuffer 0 received | Width = 2880 pxl, Height = 1860 pxl, Pixel Format = BayerRG8\n",
      "\t\tbuffer 1 received | Width = 2880 pxl, Height = 1860 pxl, Pixel Format = BayerRG8\n",
      "\t\tbuffer 2 received | Width = 2880 pxl, Height = 1860 pxl, Pixel Format = BayerRG8\n",
      "\t\tbuffer 3 received | Width = 2880 pxl, Height = 1860 pxl, Pixel Format = BayerRG8\n",
      "\t\tbuffer 4 received | Width = 2880 pxl, Height = 1860 pxl, Pixel Format = BayerRG8\n",
      "\t\tbuffer 5 received | Width = 2880 pxl, Height = 1860 pxl, Pixel Format = BayerRG8\n",
      "\t\tbuffer 6 received | Width = 2880 pxl, Height = 1860 pxl, Pixel Format = BayerRG8\n",
      "\t\tbuffer 7 received | Width = 2880 pxl, Height = 1860 pxl, Pixel Format = BayerRG8\n",
      "\t\tbuffer 8 received | Width = 2880 pxl, Height = 1860 pxl, Pixel Format = BayerRG8\n",
      "Saved image 0\n",
      "\t\tbuffer 9 received | Width = 2880 pxl, Height = 1860 pxl, Pixel Format = BayerRG8\n",
      "Saved image 1\n",
      "\t\tbuffer10 received | Width = 2880 pxl, Height = 1860 pxl, Pixel Format = BayerRG8\n",
      "\t\tbuffer11 received | Width = 2880 pxl, Height = 1860 pxl, Pixel Format = BayerRG8\n",
      "Saved image 2\n",
      "\t\tbuffer12 received | Width = 2880 pxl, Height = 1860 pxl, Pixel Format = BayerRG8\n",
      "Saved image 3\n",
      "\t\tbuffer13 received | Width = 2880 pxl, Height = 1860 pxl, Pixel Format = BayerRG8\n",
      "\t\tbuffer14 received | Width = 2880 pxl, Height = 1860 pxl, Pixel Format = BayerRG8\n",
      "Saved image 4\n",
      "\t\tbuffer15 received | Width = 2880 pxl, Height = 1860 pxl, Pixel Format = BayerRG8\n",
      "Saved image 5\n",
      "\t\tbuffer16 received | Width = 2880 pxl, Height = 1860 pxl, Pixel Format = BayerRG8\n",
      "Saved image 6\n",
      "\t\tbuffer17 received | Width = 2880 pxl, Height = 1860 pxl, Pixel Format = BayerRG8\n",
      "\t\tbuffer18 received | Width = 2880 pxl, Height = 1860 pxl, Pixel Format = BayerRG8\n",
      "Saved image 7\n",
      "\t\tbuffer19 received | Width = 2880 pxl, Height = 1860 pxl, Pixel Format = BayerRG8\n",
      "Saved image 8\n",
      "\t\tbuffer20 received | Width = 2880 pxl, Height = 1860 pxl, Pixel Format = BayerRG8\n",
      "Saved image 9\n",
      "\t\tbuffer21 received | Width = 2880 pxl, Height = 1860 pxl, Pixel Format = BayerRG8\n",
      "\t\tbuffer22 received | Width = 2880 pxl, Height = 1860 pxl, Pixel Format = BayerRG8\n",
      "Saved image 10\n",
      "\t\tbuffer23 received | Width = 2880 pxl, Height = 1860 pxl, Pixel Format = BayerRG8\n",
      "Saved image 11\n",
      "\t\tbuffer24 received | Width = 2880 pxl, Height = 1860 pxl, Pixel Format = BayerRG8\n",
      "Saved image 12\n",
      "\t\tbuffer25 received | Width = 2880 pxl, Height = 1860 pxl, Pixel Format = BayerRG8\n",
      "Saved image 13\n",
      "\t\tbuffer26 received | Width = 2880 pxl, Height = 1860 pxl, Pixel Format = BayerRG8\n",
      "\t\tbuffer27 received | Width = 2880 pxl, Height = 1860 pxl, Pixel Format = BayerRG8\n",
      "Saved image 14\n",
      "\t\tbuffer28 received | Width = 2880 pxl, Height = 1860 pxl, Pixel Format = BayerRG8\n",
      "Saved image 15\n",
      "\t\tbuffer29 received | Width = 2880 pxl, Height = 1860 pxl, Pixel Format = BayerRG8\n",
      "Saved image 16\n",
      "Requeued 30 buffers\n",
      "Stream stopped\n",
      "Saved image 17\n",
      "Saved image 18\n",
      "Saved image 19\n",
      "Saved image 20\n",
      "Saved image 21\n",
      "Saved image 22\n",
      "Saved image 23\n",
      "Saved image 24\n",
      "Saved image 25\n",
      "Saved image 26\n",
      "Saved image 27\n",
      "Saved image 28\n",
      "Saved image 29\n",
      "Queue empty, waiting 1s\n"
     ]
    }
   ],
   "source": [
    "'''\n",
    "is_more_buffers: object shared between threads,\n",
    "    used to indicate if more buffers will be added to the queue.\n",
    "    The Value class can be shared between threads by default.\n",
    "    It may be desirable to create a queue object with this variable included.\n",
    "'''\n",
    "is_more_buffers = Value('i', 1)\n",
    "\n",
    "'''\n",
    "buffer_queue: consumer-producer queue that holds buffers.\n",
    "    Python's Queue class can handle access from different threads by default.\n",
    "    Acquisition thread acquires images and adds to queue, while the main thread\n",
    "    saves the images to disk.\n",
    "'''\n",
    "buffer_queue = queue.Queue()\n",
    "\n",
    "acquisition_thread = threading.Thread(\n",
    "    target=get_multiple_image_buffers, args=(device, buffer_queue, is_more_buffers))\n",
    "acquisition_thread.start()\n",
    "save_image_buffers(buffer_queue, is_more_buffers)\n",
    "acquisition_thread.join()\n",
    "\n",
    "system.destroy_device()"
   ]
  }
 ],
 "metadata": {
  "interpreter": {
   "hash": "3da5db85d9f5f7fce7af321096f4072067948d3445eede98938ef98c3c692858"
  },
  "kernelspec": {
   "display_name": "Python 3.9.7 64-bit ('ve_win_dev_py64': venv)",
   "name": "python3"
  },
  "language_info": {
   "codemirror_mode": {
    "name": "ipython",
    "version": 3
   },
   "file_extension": ".py",
   "mimetype": "text/x-python",
   "name": "python",
   "nbconvert_exporter": "python",
   "pygments_lexer": "ipython3",
   "version": "3.6.9"
  },
  "orig_nbformat": 4
 },
 "nbformat": 4,
 "nbformat_minor": 2
}
