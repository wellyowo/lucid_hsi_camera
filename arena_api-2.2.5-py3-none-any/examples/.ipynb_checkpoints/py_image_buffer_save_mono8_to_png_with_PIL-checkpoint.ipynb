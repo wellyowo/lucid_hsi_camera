{
 "cells": [
  {
   "cell_type": "code",
   "execution_count": 1,
   "metadata": {},
   "outputs": [],
   "source": [
    "# -----------------------------------------------------------------------------\n",
    "# Copyright (c) 2022, Lucid Vision Labs, Inc.\n",
    "#\n",
    "# THE SOFTWARE IS PROVIDED \"AS IS\", WITHOUT WARRANTY OF ANY KIND,\n",
    "# EXPRESS OR IMPLIED, INCLUDING BUT NOT LIMITED TO THE WARRANTIES\n",
    "# OF MERCHANTABILITY, FITNESS FOR A PARTICULAR PURPOSE AND\n",
    "# NONINFRINGEMENT. IN NO EVENT SHALL THE AUTHORS OR COPYRIGHT HOLDERS\n",
    "# BE LIABLE FOR ANY CLAIM, DAMAGES OR OTHER LIABILITY, WHETHER IN AN\n",
    "# ACTION OF CONTRACT, TORT OR OTHERWISE, ARISING FROM, OUT OF OR IN\n",
    "# CONNECTION WITH THE SOFTWARE OR THE USE OR OTHER DEALINGS IN\n",
    "# THE SOFTWARE.\n",
    "# -----------------------------------------------------------------------------"
   ]
  },
  {
   "cell_type": "code",
   "execution_count": 2,
   "metadata": {},
   "outputs": [
    {
     "ename": "BaseException",
     "evalue": "Please install ArenaC or add a custom path to ArenaC library binary in 'arena_api_config.py'",
     "output_type": "error",
     "traceback": [
      "\u001b[0;31m---------------------------------------------------------------------------\u001b[0m",
      "\u001b[0;31mBaseException\u001b[0m                             Traceback (most recent call last)",
      "\u001b[0;32m<ipython-input-2-b9142547883e>\u001b[0m in \u001b[0;36m<module>\u001b[0;34m\u001b[0m\n\u001b[1;32m      6\u001b[0m \u001b[0;32mfrom\u001b[0m \u001b[0mPIL\u001b[0m \u001b[0;32mimport\u001b[0m \u001b[0mImage\u001b[0m \u001b[0;32mas\u001b[0m \u001b[0mPIL_Image\u001b[0m  \u001b[0;31m# pip install Pillow\u001b[0m\u001b[0;34m\u001b[0m\u001b[0;34m\u001b[0m\u001b[0m\n\u001b[1;32m      7\u001b[0m \u001b[0;34m\u001b[0m\u001b[0m\n\u001b[0;32m----> 8\u001b[0;31m \u001b[0;32mfrom\u001b[0m \u001b[0marena_api\u001b[0m\u001b[0;34m.\u001b[0m\u001b[0msystem\u001b[0m \u001b[0;32mimport\u001b[0m \u001b[0msystem\u001b[0m\u001b[0;34m\u001b[0m\u001b[0;34m\u001b[0m\u001b[0m\n\u001b[0m",
      "\u001b[0;32m/usr/local/lib/python3.6/dist-packages/arena_api/__init__.py\u001b[0m in \u001b[0;36m<module>\u001b[0;34m\u001b[0m\n\u001b[1;32m     14\u001b[0m \u001b[0;32mimport\u001b[0m \u001b[0msys\u001b[0m \u001b[0;32mas\u001b[0m \u001b[0m__sys\u001b[0m\u001b[0;34m\u001b[0m\u001b[0;34m\u001b[0m\u001b[0m\n\u001b[1;32m     15\u001b[0m \u001b[0;34m\u001b[0m\u001b[0m\n\u001b[0;32m---> 16\u001b[0;31m \u001b[0;32mfrom\u001b[0m \u001b[0marena_api\u001b[0m\u001b[0;34m.\u001b[0m\u001b[0mversion\u001b[0m \u001b[0;32mimport\u001b[0m \u001b[0m__version__\u001b[0m\u001b[0;34m\u001b[0m\u001b[0;34m\u001b[0m\u001b[0m\n\u001b[0m\u001b[1;32m     17\u001b[0m \u001b[0;34m\u001b[0m\u001b[0m\n\u001b[1;32m     18\u001b[0m \u001b[0;32mif\u001b[0m \u001b[0;34m(\u001b[0m\u001b[0m__sys\u001b[0m\u001b[0;34m.\u001b[0m\u001b[0mversion_info\u001b[0m\u001b[0;34m.\u001b[0m\u001b[0mmajor\u001b[0m\u001b[0;34m,\u001b[0m \u001b[0m__sys\u001b[0m\u001b[0;34m.\u001b[0m\u001b[0mversion_info\u001b[0m\u001b[0;34m.\u001b[0m\u001b[0mminor\u001b[0m\u001b[0;34m,\u001b[0m \u001b[0m__sys\u001b[0m\u001b[0;34m.\u001b[0m\u001b[0mversion_info\u001b[0m\u001b[0;34m.\u001b[0m\u001b[0mmicro\u001b[0m\u001b[0;34m)\u001b[0m \u001b[0;34m<\u001b[0m \u001b[0;34m(\u001b[0m\u001b[0;36m3\u001b[0m\u001b[0;34m,\u001b[0m \u001b[0;36m6\u001b[0m\u001b[0;34m,\u001b[0m \u001b[0;36m8\u001b[0m\u001b[0;34m)\u001b[0m\u001b[0;34m:\u001b[0m\u001b[0;34m\u001b[0m\u001b[0;34m\u001b[0m\u001b[0m\n",
      "\u001b[0;32m/usr/local/lib/python3.6/dist-packages/arena_api/version.py\u001b[0m in \u001b[0;36m<module>\u001b[0;34m\u001b[0m\n\u001b[1;32m    141\u001b[0m \u001b[0;34m\u001b[0m\u001b[0m\n\u001b[1;32m    142\u001b[0m loaded_binary_versions = {\n\u001b[0;32m--> 143\u001b[0;31m     \u001b[0;34m'ArenaC'\u001b[0m\u001b[0;34m:\u001b[0m \u001b[0m__get_arenac_build_version\u001b[0m\u001b[0;34m(\u001b[0m\u001b[0;34m)\u001b[0m\u001b[0;34m,\u001b[0m\u001b[0;34m\u001b[0m\u001b[0;34m\u001b[0m\u001b[0m\n\u001b[0m\u001b[1;32m    144\u001b[0m     \u001b[0;34m'SaveC'\u001b[0m\u001b[0;34m:\u001b[0m \u001b[0m__get_savec_build_version\u001b[0m\u001b[0;34m(\u001b[0m\u001b[0;34m)\u001b[0m\u001b[0;34m\u001b[0m\u001b[0;34m\u001b[0m\u001b[0m\n\u001b[1;32m    145\u001b[0m }\n",
      "\u001b[0;32m/usr/local/lib/python3.6/dist-packages/arena_api/version.py\u001b[0m in \u001b[0;36m__get_arenac_build_version\u001b[0;34m()\u001b[0m\n\u001b[1;32m    117\u001b[0m \u001b[0;31m# Get ArenaC version\u001b[0m\u001b[0;34m\u001b[0m\u001b[0;34m\u001b[0m\u001b[0;34m\u001b[0m\u001b[0m\n\u001b[1;32m    118\u001b[0m \u001b[0;32mdef\u001b[0m \u001b[0m__get_arenac_build_version\u001b[0m\u001b[0;34m(\u001b[0m\u001b[0;34m)\u001b[0m\u001b[0;34m:\u001b[0m\u001b[0;34m\u001b[0m\u001b[0;34m\u001b[0m\u001b[0m\n\u001b[0;32m--> 119\u001b[0;31m     \u001b[0;32mfrom\u001b[0m \u001b[0marena_api\u001b[0m\u001b[0;34m.\u001b[0m\u001b[0m_xlayer\u001b[0m\u001b[0;34m.\u001b[0m\u001b[0mxarena\u001b[0m\u001b[0;34m.\u001b[0m\u001b[0m_xglobal\u001b[0m \u001b[0;32mimport\u001b[0m \u001b[0m_xGlobal\u001b[0m \u001b[0;32mas\u001b[0m \u001b[0m_xglobal_arena\u001b[0m\u001b[0;34m\u001b[0m\u001b[0;34m\u001b[0m\u001b[0m\n\u001b[0m\u001b[1;32m    120\u001b[0m \u001b[0;34m\u001b[0m\u001b[0m\n\u001b[1;32m    121\u001b[0m     \u001b[0mversion_str\u001b[0m \u001b[0;34m=\u001b[0m \u001b[0m_xglobal_arena\u001b[0m\u001b[0;34m.\u001b[0m\u001b[0mxGetArenaCbuildVersion\u001b[0m\u001b[0;34m(\u001b[0m\u001b[0;34m)\u001b[0m\u001b[0;34m\u001b[0m\u001b[0;34m\u001b[0m\u001b[0m\n",
      "\u001b[0;32m/usr/local/lib/python3.6/dist-packages/arena_api/_xlayer/xarena/_xglobal.py\u001b[0m in \u001b[0;36m<module>\u001b[0;34m\u001b[0m\n\u001b[1;32m     14\u001b[0m \u001b[0;32mfrom\u001b[0m \u001b[0mctypes\u001b[0m \u001b[0;32mimport\u001b[0m \u001b[0mPOINTER\u001b[0m\u001b[0;34m,\u001b[0m \u001b[0mbyref\u001b[0m\u001b[0;34m,\u001b[0m \u001b[0mcreate_string_buffer\u001b[0m\u001b[0;34m\u001b[0m\u001b[0;34m\u001b[0m\u001b[0m\n\u001b[1;32m     15\u001b[0m \u001b[0;34m\u001b[0m\u001b[0m\n\u001b[0;32m---> 16\u001b[0;31m \u001b[0;32mfrom\u001b[0m \u001b[0marena_api\u001b[0m\u001b[0;34m.\u001b[0m\u001b[0m_xlayer\u001b[0m\u001b[0;34m.\u001b[0m\u001b[0mxarena\u001b[0m\u001b[0;34m.\u001b[0m\u001b[0marenac\u001b[0m \u001b[0;32mimport\u001b[0m \u001b[0mharenac\u001b[0m\u001b[0;34m\u001b[0m\u001b[0;34m\u001b[0m\u001b[0m\n\u001b[0m\u001b[1;32m     17\u001b[0m from arena_api._xlayer.xarena.arenac_defaults import (\n\u001b[1;32m     18\u001b[0m     XARENA_STR_BUFFER_SIZE_1000, XARENA_STR_BUFFER_SIZE_DEFAULT)\n",
      "\u001b[0;32m/usr/local/lib/python3.6/dist-packages/arena_api/_xlayer/xarena/arenac.py\u001b[0m in \u001b[0;36m<module>\u001b[0;34m\u001b[0m\n\u001b[1;32m    139\u001b[0m \u001b[0;34m\u001b[0m\u001b[0m\n\u001b[1;32m    140\u001b[0m \u001b[0;34m\u001b[0m\u001b[0m\n\u001b[0;32m--> 141\u001b[0;31m \u001b[0m_arenac_binary\u001b[0m \u001b[0;34m=\u001b[0m \u001b[0mBinary\u001b[0m\u001b[0;34m(\u001b[0m\u001b[0m_config\u001b[0m\u001b[0;34m)\u001b[0m\u001b[0;34m\u001b[0m\u001b[0;34m\u001b[0m\u001b[0m\n\u001b[0m\u001b[1;32m    142\u001b[0m \u001b[0m_configurator\u001b[0m \u001b[0;34m=\u001b[0m \u001b[0mArenaCConfigurator\u001b[0m\u001b[0;34m(\u001b[0m\u001b[0m_arenac_binary\u001b[0m\u001b[0;34m.\u001b[0m\u001b[0mhbinary\u001b[0m\u001b[0;34m)\u001b[0m\u001b[0;34m\u001b[0m\u001b[0;34m\u001b[0m\u001b[0m\n\u001b[1;32m    143\u001b[0m \u001b[0m_configurator\u001b[0m\u001b[0;34m.\u001b[0m\u001b[0mconfigure\u001b[0m\u001b[0;34m(\u001b[0m\u001b[0;34m)\u001b[0m\u001b[0;34m\u001b[0m\u001b[0;34m\u001b[0m\u001b[0m\n",
      "\u001b[0;32m/usr/local/lib/python3.6/dist-packages/arena_api/_xlayer/binary/binary.py\u001b[0m in \u001b[0;36m__init__\u001b[0;34m(self, config)\u001b[0m\n\u001b[1;32m     38\u001b[0m         \u001b[0;32mif\u001b[0m \u001b[0;32mnot\u001b[0m \u001b[0mpathname\u001b[0m\u001b[0;34m:\u001b[0m\u001b[0;34m\u001b[0m\u001b[0;34m\u001b[0m\u001b[0m\n\u001b[1;32m     39\u001b[0m             \u001b[0mname\u001b[0m \u001b[0;34m=\u001b[0m \u001b[0mself\u001b[0m\u001b[0;34m.\u001b[0m\u001b[0m_config\u001b[0m\u001b[0;34m[\u001b[0m\u001b[0;34m'name'\u001b[0m\u001b[0;34m]\u001b[0m\u001b[0;34m\u001b[0m\u001b[0;34m\u001b[0m\u001b[0m\n\u001b[0;32m---> 40\u001b[0;31m             raise BaseException(f'Please install {name} or add a custom path '\n\u001b[0m\u001b[1;32m     41\u001b[0m                                 \u001b[0;34mf'to {name} library binary '\u001b[0m\u001b[0;34m\u001b[0m\u001b[0;34m\u001b[0m\u001b[0m\n\u001b[1;32m     42\u001b[0m                                 f'in \\'arena_api_config.py\\'')\n",
      "\u001b[0;31mBaseException\u001b[0m: Please install ArenaC or add a custom path to ArenaC library binary in 'arena_api_config.py'"
     ]
    }
   ],
   "source": [
    "import os  # os.getcwd()\n",
    "import time\n",
    "from pathlib import Path\n",
    "\n",
    "import numpy as np  # pip install numpy\n",
    "from PIL import Image as PIL_Image  # pip install Pillow\n",
    "\n",
    "from arena_api.system import system"
   ]
  },
  {
   "cell_type": "code",
   "execution_count": null,
   "metadata": {},
   "outputs": [],
   "source": [
    "\"\"\"\n",
    "Save: Mono8 to PNG\n",
    "\tThis example demonstrates saving the images retrieved\n",
    "\tby the camera in an easy to share PNG format using PIL.\n",
    "\tThis includes configuring camera nodes, getting and converting\n",
    "\tthe buffers into a numpy array, and saving the numpy array \n",
    "\tusing PIL as a PNG image.\n",
    "\"\"\""
   ]
  },
  {
   "cell_type": "code",
   "execution_count": 2,
   "metadata": {},
   "outputs": [],
   "source": [
    "\"\"\"\n",
    "Waits for the user to connect a device \n",
    "before raising an exception\n",
    "\"\"\"\n",
    "tries = 0\n",
    "tries_max = 6\n",
    "sleep_time_secs = 10\n",
    "while tries < tries_max:  # Wait for device for 60 seconds\n",
    "    devices = system.create_device()\n",
    "    if not devices:\n",
    "        print(\n",
    "            f'Try {tries+1} of {tries_max}: waiting for {sleep_time_secs} '\n",
    "            f'secs for a device to be connected!')\n",
    "        for sec_count in range(sleep_time_secs):\n",
    "            time.sleep(1)\n",
    "            print(f'{sec_count + 1 } seconds passed ',\n",
    "                    '.' * sec_count, end='\\r')\n",
    "        tries += 1\n",
    "    else:\n",
    "        break\n",
    "else:\n",
    "    raise Exception(f'No device found! Please connect a device and run '\n",
    "                    f'the example again.')\n"
   ]
  },
  {
   "cell_type": "code",
   "execution_count": 3,
   "metadata": {},
   "outputs": [
    {
     "name": "stdout",
     "output_type": "stream",
     "text": [
      "Device used in the example:\n",
      "\t('1c:0f:af:12:53:65', 'PHX050S-C', 'new', '169.254.3.2')\n"
     ]
    }
   ],
   "source": [
    "\"\"\"\n",
    "Setup streaming nodes\n",
    "\"\"\"\n",
    "device = devices[0]\n",
    "print(f'Device used in the example:\\n\\t{device}')\n",
    "\n",
    "# Get device stream nodemap\n",
    "tl_stream_nodemap = device.tl_stream_nodemap\n",
    "\n",
    "# Enable stream auto negotiate packet size\n",
    "tl_stream_nodemap['StreamAutoNegotiatePacketSize'].value = True\n",
    "\n",
    "# Enable stream packet resend\n",
    "tl_stream_nodemap['StreamPacketResendEnable'].value = True\n",
    "\n",
    "# Get/Set nodes -----------------------------------------------------------\n",
    "nodes = device.nodemap.get_node(['Width', 'Height', 'PixelFormat'])"
   ]
  },
  {
   "cell_type": "code",
   "execution_count": 4,
   "metadata": {},
   "outputs": [
    {
     "name": "stdout",
     "output_type": "stream",
     "text": [
      "Setting Width to its maximum value\n",
      "Setting Height to its maximum value\n",
      "Setting Pixel Format to Mono8\n"
     ]
    }
   ],
   "source": [
    "\"\"\"\n",
    "Configure camera nodes\n",
    "\"\"\"\n",
    "# Nodes\n",
    "print('Setting Width to its maximum value')\n",
    "nodes['Width'].value = nodes['Width'].max\n",
    "\n",
    "print('Setting Height to its maximum value')\n",
    "height = nodes['Height']\n",
    "height.value = height.max\n",
    "\n",
    "\"\"\"\n",
    "Set pixel format to Mono8, most cameras should support this pixel format\n",
    "\"\"\"\n",
    "pixel_format_name = 'Mono8'\n",
    "print(f'Setting Pixel Format to {pixel_format_name}')\n",
    "nodes['PixelFormat'].value = pixel_format_name"
   ]
  },
  {
   "cell_type": "code",
   "execution_count": 5,
   "metadata": {},
   "outputs": [
    {
     "name": "stdout",
     "output_type": "stream",
     "text": [
      "Starting stream\n",
      "Grabbing an image buffer\n",
      " Width X Height = 2448 x 2048\n",
      "Converting image buffer to a numpy array\n",
      "Saving image\n",
      "Saved image path is: c:\\repos\\software\\arena_api\\examples\\from_Mono8_to_png_with_pil.png\n"
     ]
    }
   ],
   "source": [
    "\"\"\"\n",
    "demonstrates Save: Mono8 to PNG\n",
    "    (1) Setup stream nodemap\n",
    "    (2) Configure camera nodes to required dimensions\n",
    "    (3) Start the stream and acquire buffers\n",
    "    (4) Convert the buffer to numpy array that can be \n",
    "        used by PIL\n",
    "    (5) Convert numpy array to image using PIL\n",
    "    (6) Save the image\n",
    "\"\"\"\n",
    "\n",
    "# Grab and save an image buffer -------------------------------------------\n",
    "print('Starting stream')\n",
    "with device.start_stream(1):\n",
    "\n",
    "    print('Grabbing an image buffer')\n",
    "    # Optional args\n",
    "    image_buffer = device.get_buffer()\n",
    "    print(f' Width X Height = ' \n",
    "    f'{image_buffer.width} x {image_buffer.height}')\n",
    "\n",
    "    \"\"\"\n",
    "    To save an image Pillow needs an array that is shaped to\n",
    "    (height, width). In order to obtain such an array we use numpy\n",
    "    library\n",
    "    \"\"\"\n",
    "    print('Converting image buffer to a numpy array')\n",
    "\n",
    "    \"\"\"\t\t\n",
    "    Buffer.pdata is a (uint8, ctypes.c_ubyte)\n",
    "    Buffer.data is a list of elements each represents one byte. Therefore\n",
    "    for Mono8 each element represents a pixel.\n",
    "    \"\"\"\n",
    "\n",
    "    \"\"\"\n",
    "    Method 1 (from Buffer.data)\n",
    "    \n",
    "    dtype is uint8 because Buffer.data returns a list or bytes and pixel\n",
    "    format is also Mono8.\n",
    "    NOTE:\n",
    "    if 'ChunkModeActive' node value is True then the Buffer.data is\n",
    "    a list of (image data + the chunkdata) so data list needs to be\n",
    "    truncated to have image data only.\n",
    "    can use either :\n",
    "        - device.nodemap['ChunkModeActive'].value   (expensive)\n",
    "        - buffer.has_chunkdata                 (less expensive)\n",
    "    \"\"\"\n",
    "    image_only_data = None\n",
    "    if image_buffer.has_chunkdata:\n",
    "        # 8 is the number of bits in a byte\n",
    "        bytes_pre_pixel = int(image_buffer.bits_per_pixel / 8)\n",
    "\n",
    "        image_size_in_bytes = image_buffer.height * \\\n",
    "            image_buffer.width * bytes_pre_pixel\n",
    "\n",
    "        image_only_data = image_buffer.data[:image_size_in_bytes]\n",
    "    else:\n",
    "        image_only_data = image_buffer.data\n",
    "\n",
    "    nparray = np.asarray(image_only_data, dtype=np.uint8)\n",
    "    # Reshape array for pillow\n",
    "    nparray_reshaped = nparray.reshape((\n",
    "        image_buffer.height,\n",
    "        image_buffer.width\n",
    "    ))\n",
    "\n",
    "    \"\"\"\n",
    "    Method 2 (from Buffer.pdata)\n",
    "    \n",
    "    A more general way (not used in this simple example)\n",
    "    \n",
    "    Creates an already reshaped array to use directly with\n",
    "    pillow.\n",
    "    np.ctypeslib.as_array() detects that Buffer.pdata is (uint8, c_ubyte)\n",
    "    type so it interprets each byte as an element.\n",
    "    For 16Bit images Buffer.pdata must be cast to (uint16, c_ushort)\n",
    "    using ctypes.cast(). After casting, np.ctypeslib.as_array() can\n",
    "    interpret every two bytes as one array element (a pixel).\n",
    "    \n",
    "    Code:\n",
    "    nparray_reshaped = np.ctypeslib.as_array( image_buffer.pdata,\n",
    "    (image_buffer.height, image_buffer.width))\n",
    "    \"\"\"\n",
    "\n",
    "    # Save image\n",
    "    print('Saving image')\n",
    "    png_name = f'from_{pixel_format_name}_to_png_with_pil.png'\n",
    "    png_array = PIL_Image.fromarray(nparray_reshaped)\n",
    "    png_array.save(png_name)\n",
    "    print(f'Saved image path is: {Path(os.getcwd()) / png_name}')\n",
    "\n",
    "    device.requeue_buffer(image_buffer)"
   ]
  },
  {
   "cell_type": "code",
   "execution_count": null,
   "metadata": {},
   "outputs": [],
   "source": [
    "system.destroy_device()\n",
    "print('Destroyed all created devices')"
   ]
  }
 ],
 "metadata": {
  "interpreter": {
   "hash": "520c5ad4575fadc5aeff8f7fe0ecb965d054482e0492acfe5440edeef6b5197d"
  },
  "kernelspec": {
   "display_name": "Python 3",
   "language": "python",
   "name": "python3"
  },
  "language_info": {
   "codemirror_mode": {
    "name": "ipython",
    "version": 3
   },
   "file_extension": ".py",
   "mimetype": "text/x-python",
   "name": "python",
   "nbconvert_exporter": "python",
   "pygments_lexer": "ipython3",
   "version": "3.6.9"
  }
 },
 "nbformat": 4,
 "nbformat_minor": 2
}
