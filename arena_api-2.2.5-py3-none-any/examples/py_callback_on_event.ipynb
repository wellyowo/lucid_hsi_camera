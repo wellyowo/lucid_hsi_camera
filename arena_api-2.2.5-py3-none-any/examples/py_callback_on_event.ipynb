{
 "cells": [
  {
   "cell_type": "code",
   "execution_count": 13,
   "source": [
    "# -----------------------------------------------------------------------------\r\n",
    "# Copyright (c) 2022, Lucid Vision Labs, Inc.\r\n",
    "#\r\n",
    "# THE SOFTWARE IS PROVIDED \"AS IS\", WITHOUT WARRANTY OF ANY KIND,\r\n",
    "# EXPRESS OR IMPLIED, INCLUDING BUT NOT LIMITED TO THE WARRANTIES\r\n",
    "# OF MERCHANTABILITY, FITNESS FOR A PARTICULAR PURPOSE AND\r\n",
    "# NONINFRINGEMENT. IN NO EVENT SHALL THE AUTHORS OR COPYRIGHT HOLDERS\r\n",
    "# BE LIABLE FOR ANY CLAIM, DAMAGES OR OTHER LIABILITY, WHETHER IN AN\r\n",
    "# ACTION OF CONTRACT, TORT OR OTHERWISE, ARISING FROM, OUT OF OR IN\r\n",
    "# CONNECTION WITH THE SOFTWARE OR THE USE OR OTHER DEALINGS IN\r\n",
    "# THE SOFTWARE.\r\n",
    "# -----------------------------------------------------------------------------"
   ],
   "outputs": [],
   "metadata": {}
  },
  {
   "cell_type": "code",
   "execution_count": 14,
   "source": [
    "import time\r\n",
    "\r\n",
    "from arena_api.callback import callback, callback_function\r\n",
    "from arena_api.system import system"
   ],
   "outputs": [],
   "metadata": {}
  },
  {
   "cell_type": "code",
   "execution_count": 15,
   "source": [
    "'''\r\n",
    "Callbacks: On Event\r\n",
    "    This example demonstrates configuring a callback with events. Events are a\r\n",
    "    subset of nodes that invoke callbacks through the underlying events engine.\r\n",
    "    The events engine is first initialized to listen for events, then the\r\n",
    "    callback is registered using the timestamp test event node. The event is\r\n",
    "    generated, along with any data generated from the event. The example then\r\n",
    "    waits for the event to process in order to invoke the callback. Registered\r\n",
    "    callbacks must also be deregistered before deinitializing the events engine\r\n",
    "    in order to avoid memory leaks.\r\n",
    "'''"
   ],
   "outputs": [
    {
     "output_type": "execute_result",
     "data": {
      "text/plain": [
       "'\\nCallbacks: On Event\\n    This example demonstrates configuring a callback with events. Events are a\\n    subset of nodes that invoke callbacks through the underlying events engine.\\n    The events engine is first initialized to listen for events, then the\\n    callback is registered using the timestamp test event node. The event is\\n    generated, along with any data generated from the event. The example then\\n    waits for the event to process in order to invoke the callback. Registered\\n    callbacks must also be deregistered before deinitializing the events engine\\n    in order to avoid memory leaks.\\n'"
      ]
     },
     "metadata": {},
     "execution_count": 15
    }
   ],
   "metadata": {}
  },
  {
   "cell_type": "code",
   "execution_count": 16,
   "source": [
    "'''\r\n",
    "Once registered, this function is called when the callback event is triggered.\r\n",
    "'''\r\n",
    "\r\n",
    "@callback_function.node.on_update\r\n",
    "def print_node_value(node, *args, **kwargs):\r\n",
    "\r\n",
    "    print(f'Message from callback')\r\n",
    "    print(f'\\'{node.name}\\' event has triggered this callback')\r\n"
   ],
   "outputs": [],
   "metadata": {}
  },
  {
   "cell_type": "code",
   "execution_count": 17,
   "source": [
    "\"\"\"\r\n",
    "This function waits for the user to connect a device before raising\r\n",
    "an exception\r\n",
    "\"\"\"\r\n",
    "\r\n",
    "tries = 0\r\n",
    "tries_max = 6\r\n",
    "sleep_time_secs = 10\r\n",
    "while tries < tries_max:  # Wait for device for 60 seconds\r\n",
    "    devices = system.create_device()\r\n",
    "    if not devices:\r\n",
    "        print(\r\n",
    "            f'Try {tries+1} of {tries_max}: waiting for {sleep_time_secs} '\r\n",
    "            f'secs for a device to be connected!')\r\n",
    "        for sec_count in range(sleep_time_secs):\r\n",
    "            time.sleep(1)\r\n",
    "            print(f'{sec_count + 1 } seconds passed ',\r\n",
    "                  '.' * sec_count, end='\\r')\r\n",
    "        tries += 1\r\n",
    "    else:\r\n",
    "        print(f'Created {len(devices)} device(s)')\r\n",
    "        device = devices[0]\r\n",
    "        break\r\n",
    "else:\r\n",
    "    raise Exception(f'No device found! Please connect a device and run '\r\n",
    "                    f'the example again.')\r\n"
   ],
   "outputs": [
    {
     "output_type": "stream",
     "name": "stdout",
     "text": [
      "Created 1 device(s)\n"
     ]
    }
   ],
   "metadata": {}
  },
  {
   "cell_type": "code",
   "execution_count": 18,
   "source": [
    "# Store initial values, to restore later\r\n",
    "streamBufferHandlingMode_initial = \\\r\n",
    "    device.tl_stream_nodemap['StreamBufferHandlingMode'].value\r\n",
    "triggerSource_initial = device.nodemap['TriggerSource'].value\r\n",
    "triggerSelector_initial = device.nodemap['TriggerSelector'].value\r\n",
    "triggerMode_initial = device.nodemap['TriggerMode'].value\r\n"
   ],
   "outputs": [],
   "metadata": {}
  },
  {
   "cell_type": "code",
   "execution_count": 19,
   "source": [
    "'''\r\n",
    "Register callback function on event node  \r\n",
    "'''\r\n",
    "\r\n",
    "event_node = device.nodemap.get_node('EventExposureEnd')\r\n",
    "handle = callback.register(event_node, print_node_value)\r\n",
    "print(f\"Registered '{print_node_value.__name__}' function \"\r\n",
    "      f\"in '{event_node.name}' node\")\r\n"
   ],
   "outputs": [
    {
     "output_type": "stream",
     "name": "stdout",
     "text": [
      "Registered 'print_node_value' function in 'EventExposureEnd' node\n"
     ]
    }
   ],
   "metadata": {}
  },
  {
   "cell_type": "code",
   "execution_count": 20,
   "source": [
    "'''\r\n",
    "Enable trigger mode before setting the source and selector\r\n",
    "    and before starting the stream. Trigger mode cannot be turned\r\n",
    "    on and off while the device is streaming.\r\n",
    "'''\r\n",
    "\r\n",
    "# Make sure Trigger Mode set to 'Off' after finishing this example\r\n",
    "device.nodemap.get_node('TriggerMode').value = 'On'\r\n",
    "\r\n",
    "'''\r\n",
    "Set the trigger source to software in order to trigger buffers\r\n",
    "    without the use of any additional hardware.\r\n",
    "    Lines of the GPIO can also be used to trigger.\r\n",
    "'''\r\n",
    "device.nodemap.get_node('TriggerSource').value = 'Software'\r\n",
    "\r\n",
    "device.nodemap.get_node('TriggerSelector').value = 'FrameStart'\r\n",
    "\r\n",
    "device.tl_stream_nodemap.get_node(\r\n",
    "    'StreamBufferHandlingMode').value = 'OldestFirst'\r\n",
    "\r\n",
    "'''\r\n",
    "Initialize events\r\n",
    "    Turn event notification on\r\n",
    "    Select the event type to be notified about\r\n",
    "'''\r\n",
    "device.initialize_events()\r\n",
    "device.nodemap.get_node('EventSelector').value = 'ExposureEnd'\r\n",
    "device.nodemap.get_node('EventNotification').value = 'On'\r\n"
   ],
   "outputs": [
    {
     "output_type": "stream",
     "name": "stdout",
     "text": [
      "Message from callback\n",
      "'EventExposureEnd' event has triggered this callback\n"
     ]
    }
   ],
   "metadata": {}
  },
  {
   "cell_type": "code",
   "execution_count": 21,
   "source": [
    "'''\r\n",
    "Register callback function on event node\r\n",
    "      Allows for manual triggering\r\n",
    "'''\r\n",
    "\r\n",
    "event_node = device.nodemap.get_node('EventExposureEnd')\r\n",
    "handle = callback.register(event_node, print_node_value)\r\n",
    "print(f\"Registered '{print_node_value.__name__}' function \"\r\n",
    "      f\"in '{event_node.name}' node\")\r\n"
   ],
   "outputs": [
    {
     "output_type": "stream",
     "name": "stdout",
     "text": [
      "Registered 'print_node_value' function in 'EventExposureEnd' node\n"
     ]
    }
   ],
   "metadata": {}
  },
  {
   "cell_type": "code",
   "execution_count": 22,
   "source": [
    "device.start_stream()\r\n",
    "for _ in range(10):\r\n",
    "\r\n",
    "    '''\r\n",
    "    Continually check until trigger is armed. Once the trigger is\r\n",
    "        armed, it is ready to be executed.\r\n",
    "    '''\r\n",
    "    while not device.nodemap.get_node('TriggerArmed').value:\r\n",
    "        continue\r\n",
    "\r\n",
    "    '''\r\n",
    "    Trigger an image buffer manually, since trigger mode is enabled.\r\n",
    "        This triggers the camera to acquire a single image buffer.\r\n",
    "        A buffer is then filled and moved to the output queue, where\r\n",
    "        it will wait to be retrieved.\r\n",
    "        Before the image buffer is sent, the exposure end event will\r\n",
    "        occur. This will happen on every iteration\r\n",
    "    '''\r\n",
    "    device.nodemap.get_node('TriggerSoftware').execute()\r\n",
    "\r\n",
    "    '''\r\n",
    "    Wait on the event to process it, invoking the registered callback.\r\n",
    "        The data is created from the event generation, not from waiting\r\n",
    "        on it. If the exposure time is long a Timeout exception may occur\r\n",
    "        unless large timeout value is passed to the 'Device.wait_on_event()'\r\n",
    "    '''\r\n",
    "    device.wait_on_event()"
   ],
   "outputs": [
    {
     "output_type": "stream",
     "name": "stdout",
     "text": [
      "Message from callback\n",
      "'EventExposureEnd' event has triggered this callback\n",
      "Message from callback\n",
      "'EventExposureEnd' event has triggered this callback\n",
      "Message from callback\n",
      "'EventExposureEnd' event has triggered this callback\n",
      "Message from callback\n",
      "'EventExposureEnd' event has triggered this callback\n",
      "Message from callback\n",
      "'EventExposureEnd' event has triggered this callback\n",
      "Message from callback\n",
      "'EventExposureEnd' event has triggered this callback\n",
      "Message from callback\n",
      "'EventExposureEnd' event has triggered this callback\n",
      "Message from callback\n",
      "'EventExposureEnd' event has triggered this callback\n",
      "Message from callback\n",
      "'EventExposureEnd' event has triggered this callback\n",
      "Message from callback\n",
      "'EventExposureEnd' event has triggered this callback\n",
      "Message from callback\n",
      "'EventExposureEnd' event has triggered this callback\n",
      "Message from callback\n",
      "'EventExposureEnd' event has triggered this callback\n",
      "Message from callback\n",
      "'EventExposureEnd' event has triggered this callback\n",
      "Message from callback\n",
      "'EventExposureEnd' event has triggered this callback\n",
      "Message from callback\n",
      "'EventExposureEnd' event has triggered this callback\n",
      "Message from callback\n",
      "'EventExposureEnd' event has triggered this callback\n",
      "Message from callback\n",
      "'EventExposureEnd' event has triggered this callback\n",
      "Message from callback\n",
      "'EventExposureEnd' event has triggered this callback\n",
      "Message from callback\n",
      "'EventExposureEnd' event has triggered this callback\n",
      "Message from callback\n",
      "'EventExposureEnd' event has triggered this callback\n"
     ]
    }
   ],
   "metadata": {}
  },
  {
   "cell_type": "code",
   "execution_count": 23,
   "source": [
    "# Callbacks must be unregistered and events must be deinitialized\r\n",
    "callback.deregister(handle)\r\n",
    "device.deinitialize_events()"
   ],
   "outputs": [
    {
     "output_type": "stream",
     "name": "stdout",
     "text": [
      "Message from callback\n",
      "'EventExposureEnd' event has triggered this callback\n",
      "Message from callback\n",
      "'EventExposureEnd' event has triggered this callback\n"
     ]
    }
   ],
   "metadata": {}
  },
  {
   "cell_type": "code",
   "execution_count": 24,
   "source": [
    "# Stop stream before destroying device to set nodes back to initial values\r\n",
    "device.stop_stream()\r\n",
    "\r\n",
    "device.nodemap['TriggerSource'].value = triggerSource_initial\r\n",
    "device.nodemap['TriggerSelector'].value = triggerSelector_initial\r\n",
    "device.nodemap['TriggerMode'].value = triggerMode_initial\r\n",
    "\r\n",
    "# Destroy device (optional)\r\n",
    "system.destroy_device()\r\n",
    "print('Destroyed all created devices')\r\n"
   ],
   "outputs": [],
   "metadata": {}
  }
 ],
 "metadata": {
  "orig_nbformat": 4,
  "language_info": {
   "name": "python",
   "version": "3.9.7",
   "mimetype": "text/x-python",
   "codemirror_mode": {
    "name": "ipython",
    "version": 3
   },
   "pygments_lexer": "ipython3",
   "nbconvert_exporter": "python",
   "file_extension": ".py"
  },
  "kernelspec": {
   "name": "python3",
   "display_name": "Python 3.9.7 64-bit ('ve_win_dev_py64': venv)"
  },
  "interpreter": {
   "hash": "3620b89036c69a489b14ec4722691b63ae49f46a05ab29903dce938fdeb7f627"
  }
 },
 "nbformat": 4,
 "nbformat_minor": 2
}