{
 "cells": [
  {
   "cell_type": "code",
   "execution_count": null,
   "metadata": {},
   "outputs": [],
   "source": [
    "# -----------------------------------------------------------------------------\n",
    "# Copyright (c) 2022, Lucid Vision Labs, Inc.\n",
    "#\n",
    "# THE SOFTWARE IS PROVIDED \"AS IS\", WITHOUT WARRANTY OF ANY KIND,\n",
    "# EXPRESS OR IMPLIED, INCLUDING BUT NOT LIMITED TO THE WARRANTIES\n",
    "# OF MERCHANTABILITY, FITNESS FOR A PARTICULAR PURPOSE AND\n",
    "# NONINFRINGEMENT. IN NO EVENT SHALL THE AUTHORS OR COPYRIGHT HOLDERS\n",
    "# BE LIABLE FOR ANY CLAIM, DAMAGES OR OTHER LIABILITY, WHETHER IN AN\n",
    "# ACTION OF CONTRACT, TORT OR OTHERWISE, ARISING FROM, OUT OF OR IN\n",
    "# CONNECTION WITH THE SOFTWARE OR THE USE OR OTHER DEALINGS IN\n",
    "# THE SOFTWARE.\n",
    "# -----------------------------------------------------------------------------"
   ]
  },
  {
   "cell_type": "code",
   "execution_count": 2,
   "metadata": {},
   "outputs": [],
   "source": [
    "import ctypes  # ctypes.cast(), ctypes.POINTER(), ctypes.c_ushort\n",
    "import os  # os.getcwd()\n",
    "import time\n",
    "from pathlib import Path\n",
    "\n",
    "import numpy as np  # pip install numpy\n",
    "from PIL import Image as PIL_Image  # pip install Pillow\n",
    "\n",
    "from arena_api.system import system"
   ]
  },
  {
   "cell_type": "code",
   "execution_count": 3,
   "metadata": {},
   "outputs": [
    {
     "name": "stdout",
     "output_type": "stream",
     "text": [
      "Created 1 device(s)\n",
      "\n"
     ]
    }
   ],
   "source": [
    "\"\"\"\n",
    "This function waits for the user to connect a device before raising\n",
    "an exception\n",
    "\"\"\"\n",
    "tries = 0\n",
    "tries_max = 6\n",
    "sleep_time_secs = 10\n",
    "while tries < tries_max:  # Wait for device for 60 seconds\n",
    "    devices = system.create_device()\n",
    "    if not devices:\n",
    "        print(\n",
    "            f'Try {tries+1} of {tries_max}: waiting for {sleep_time_secs} '\n",
    "            f'secs for a device to be connected!')\n",
    "        for sec_count in range(sleep_time_secs):\n",
    "            time.sleep(1)\n",
    "            print(f'{sec_count + 1 } seconds passed ',\n",
    "                  '.' * sec_count, end='\\r')\n",
    "        tries += 1\n",
    "    else:\n",
    "        print(f'Created {len(devices)} device(s)\\n')\n",
    "        device = devices[0]\n",
    "        break\n",
    "else:\n",
    "    raise Exception(f'No device found! Please connect a device and run '\n",
    "                    f'the example again.')"
   ]
  },
  {
   "cell_type": "code",
   "execution_count": 4,
   "metadata": {},
   "outputs": [
    {
     "name": "stdout",
     "output_type": "stream",
     "text": [
      "Device used in the example:\n",
      "\t('1c:0f:af:12:53:65', 'PHX050S-C', 'new', '169.254.3.2')\n"
     ]
    }
   ],
   "source": [
    "\"\"\"\n",
    "Setup stream nodes\n",
    "\"\"\"\n",
    "device = devices[0]\n",
    "print(f'Device used in the example:\\n\\t{device}')\n",
    "\n",
    "# Get device stream nodemap\n",
    "tl_stream_nodemap = device.tl_stream_nodemap\n",
    "\n",
    "# Enable stream auto negotiate packet size\n",
    "tl_stream_nodemap['StreamAutoNegotiatePacketSize'].value = True\n",
    "\n",
    "# Enable stream packet resend\n",
    "tl_stream_nodemap['StreamPacketResendEnable'].value = True"
   ]
  },
  {
   "cell_type": "code",
   "execution_count": 5,
   "metadata": {},
   "outputs": [
    {
     "name": "stdout",
     "output_type": "stream",
     "text": [
      "Setting Width to its maximum value\n",
      "Setting Height to its maximum value\n",
      "Setting Pixel Format to Mono12\n"
     ]
    }
   ],
   "source": [
    "\"\"\"\n",
    "Configure camera nodes\n",
    "\"\"\"\n",
    "\n",
    "nodes = device.nodemap.get_node(['Width', 'Height', 'PixelFormat'])\n",
    "\n",
    "print('Setting Width to its maximum value')\n",
    "nodes['Width'].value = nodes['Width'].max\n",
    "\n",
    "print('Setting Height to its maximum value')\n",
    "height = nodes['Height']\n",
    "height.value = height.max\n",
    "\n",
    "# Set pixel format to Mono12, most cameras should support this pixel format\n",
    "pixel_format_name = 'Mono12'\n",
    "print(f'Setting Pixel Format to {pixel_format_name}')\n",
    "nodes['PixelFormat'].value = pixel_format_name"
   ]
  },
  {
   "cell_type": "code",
   "execution_count": 6,
   "metadata": {},
   "outputs": [
    {
     "name": "stdout",
     "output_type": "stream",
     "text": [
      "Starting stream\n",
      "Grabbing an image buffer\n",
      " Width X Height = 2448 x 2048\n",
      "Converting image buffer to a numpy array\n",
      "Saving image\n",
      "Saved image path is: c:\\repos\\software\\arena_api\\examples\\from_Mono12_to_png_with_pil.png\n",
      "Destroyed all created devices\n"
     ]
    }
   ],
   "source": [
    "\"\"\"\n",
    "demonstrates Save: Mono12 to PNG\n",
    "    (1) Setup stream nodes\n",
    "    (2) Configure camera nodes\n",
    "    (3) Get buffer data as c pointers\n",
    "    (4) Convert the data to numpy array using np.ctypeslib\n",
    "    (5) Convert numpy array to bytes\n",
    "    (6) Save the byte array as a png\n",
    "\"\"\"\n",
    "\n",
    "print('Starting stream')\n",
    "with device.start_stream(1):\n",
    "\n",
    "    print('Grabbing an image buffer')\n",
    "    image_buffer = device.get_buffer()\n",
    "\n",
    "    print(f' Width X Height = '\n",
    "        f'{image_buffer.width} x {image_buffer.height}')\n",
    "\n",
    "    \"\"\"\n",
    "    To save an image Pillow needs an array that is shaped to\n",
    "    (height, width). In order to obtain such an array we use numpy\n",
    "    library\n",
    "    \"\"\"\n",
    "    print('Converting image buffer to a numpy array')\n",
    "\n",
    "    \"\"\"\n",
    "    Buffer.pdata is a (uint8, ctypes.c_ubyte) type\n",
    "    Buffer.data is a list of elements each represents one byte.\n",
    "    Since Mono12 uses 16Bits (2 bytes), It is easier to user Buffer.pdata\n",
    "    over Buffer.data. Buffer.pdata must be cast to (uint16, c_ushort)\n",
    "    so every element in the array would represent one pixel.\n",
    "    \"\"\"\n",
    "    pdata_as16 = ctypes.cast(image_buffer.pdata,\n",
    "                            ctypes.POINTER(ctypes.c_ushort))\n",
    "    nparray_reshaped = np.ctypeslib.as_array(\n",
    "        pdata_as16,\n",
    "        (image_buffer.height, image_buffer.width))\n",
    "\n",
    "    # Saving --------------------------------------------------------------\n",
    "    print('Saving image')\n",
    "\n",
    "    png_name = f'from_{pixel_format_name}_to_png_with_pil.png'\n",
    "\n",
    "    \"\"\"\n",
    "    ---------------------------------------------------------------------\n",
    "    These steps are due to a bug in Pillow saving 16bits png images\n",
    "    more : https://github.com/python-pillow/Pillow/issues/2970\n",
    "    \"\"\"\n",
    "    nparray_reshaped_as_bytes = nparray_reshaped.tobytes()\n",
    "    png_array = PIL_Image.new('I', nparray_reshaped.T.shape)\n",
    "    png_array.frombytes(nparray_reshaped_as_bytes, 'raw', 'I;16')\n",
    "\n",
    "    png_array.save(png_name)\n",
    "    print(f'Saved image path is: {Path(os.getcwd()) / png_name }')\n",
    "\n",
    "    device.requeue_buffer(image_buffer)\n"
   ]
  },
  {
   "cell_type": "code",
   "execution_count": null,
   "metadata": {},
   "outputs": [],
   "source": [
    "system.destroy_device()\n",
    "print('Destroyed all created devices')"
   ]
  }
 ],
 "metadata": {
  "interpreter": {
   "hash": "520c5ad4575fadc5aeff8f7fe0ecb965d054482e0492acfe5440edeef6b5197d"
  },
  "kernelspec": {
   "display_name": "Python 3.6.8 64-bit ('ve_win_dev_py64': venv)",
   "language": "python",
   "name": "python3"
  },
  "language_info": {
   "codemirror_mode": {
    "name": "ipython",
    "version": 3
   },
   "file_extension": ".py",
   "mimetype": "text/x-python",
   "name": "python",
   "nbconvert_exporter": "python",
   "pygments_lexer": "ipython3",
   "version": "3.6.8"
  },
  "orig_nbformat": 4
 },
 "nbformat": 4,
 "nbformat_minor": 2
}
