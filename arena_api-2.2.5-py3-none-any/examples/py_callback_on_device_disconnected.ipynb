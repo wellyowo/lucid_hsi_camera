{
 "cells": [
  {
   "cell_type": "code",
   "execution_count": 1,
   "source": [
    "# -----------------------------------------------------------------------------\r\n",
    "# Copyright (c) 2022, Lucid Vision Labs, Inc.\r\n",
    "#\r\n",
    "# THE SOFTWARE IS PROVIDED \"AS IS\", WITHOUT WARRANTY OF ANY KIND,\r\n",
    "# EXPRESS OR IMPLIED, INCLUDING BUT NOT LIMITED TO THE WARRANTIES\r\n",
    "# OF MERCHANTABILITY, FITNESS FOR A PARTICULAR PURPOSE AND\r\n",
    "# NONINFRINGEMENT. IN NO EVENT SHALL THE AUTHORS OR COPYRIGHT HOLDERS\r\n",
    "# BE LIABLE FOR ANY CLAIM, DAMAGES OR OTHER LIABILITY, WHETHER IN AN\r\n",
    "# ACTION OF CONTRACT, TORT OR OTHERWISE, ARISING FROM, OUT OF OR IN\r\n",
    "# CONNECTION WITH THE SOFTWARE OR THE USE OR OTHER DEALINGS IN\r\n",
    "# THE SOFTWARE.\r\n",
    "# -----------------------------------------------------------------------------"
   ],
   "outputs": [],
   "metadata": {}
  },
  {
   "cell_type": "code",
   "execution_count": 2,
   "source": [
    "from arena_api.system import system\r\n",
    "from arena_api.callback import callback, callback_function\r\n",
    "import time"
   ],
   "outputs": [],
   "metadata": {}
  },
  {
   "cell_type": "code",
   "execution_count": 3,
   "source": [
    "\"\"\"\r\n",
    "Callbacks: On Device Disconnected\r\n",
    "    This example demonstrates how to register a callback to get\r\n",
    "    notified when a device has disconnected. At first this example\r\n",
    "    will enumerate devices then if there is any device found it will\r\n",
    "    register a disconnect callback for a discovered device.\r\n",
    "    Next the program will wait until a user inputs an exit\r\n",
    "    command. While this example waits for input, feel free to\r\n",
    "    disconnect the device. When the device is disconnected the callback\r\n",
    "    will be triggered and it will print out info of the device\r\n",
    "    that was removed by using print_disconnected_device_info function.\r\n",
    "\"\"\""
   ],
   "outputs": [
    {
     "output_type": "execute_result",
     "data": {
      "text/plain": [
       "'\\nCallbacks: On Device Disconnected\\n    This example demonstrates how to register a callback to get\\n    notified when a device has disconnected. At first this example\\n    will enumerate devices then if there is any device found it will\\n    register a disconnect callback for a discovered device.\\n    Next the program will wait until a user inputs an exit\\n    command. While this example waits for input, feel free to\\n    disconnect the device. When the device is disconnected the callback\\n    will be triggered and it will print out info of the device\\n    that was removed by using print_disconnected_device_info function.\\n'"
      ]
     },
     "metadata": {},
     "execution_count": 3
    }
   ],
   "metadata": {}
  },
  {
   "cell_type": "code",
   "execution_count": 4,
   "source": [
    "\"\"\"\r\n",
    "This function waits for the user to connect a device before raising\r\n",
    "an exception\r\n",
    "\"\"\"\r\n",
    "\r\n",
    "tries = 0\r\n",
    "tries_max = 6\r\n",
    "sleep_time_secs = 10\r\n",
    "while tries < tries_max:  # Wait for device for 60 seconds\r\n",
    "    devices = system.create_device()\r\n",
    "    if not devices:\r\n",
    "        print(\r\n",
    "            f'Try {tries+1} of {tries_max}: waiting for {sleep_time_secs} '\r\n",
    "            f'secs for a device to be connected!')\r\n",
    "        for sec_count in range(sleep_time_secs):\r\n",
    "            time.sleep(1)\r\n",
    "            print(f'{sec_count + 1 } seconds passed ',\r\n",
    "                  '.' * sec_count, end='\\r')\r\n",
    "        tries += 1\r\n",
    "    else:\r\n",
    "        print(f'Created {len(devices)} device(s)\\n')\r\n",
    "        device = devices[0]\r\n",
    "        break\r\n",
    "else:\r\n",
    "    raise Exception(f'No device found! Please connect a device and run '\r\n",
    "                    f'the example again.')"
   ],
   "outputs": [
    {
     "output_type": "stream",
     "name": "stdout",
     "text": [
      "Created 1 device(s)\n",
      "\n"
     ]
    }
   ],
   "metadata": {}
  },
  {
   "cell_type": "code",
   "execution_count": 5,
   "source": [
    "'''\r\n",
    "Callback function.\r\n",
    "    Triggered on device disconnect.\r\n",
    "    Requires a specific header and decorator.\r\n",
    "    Prints information from callback\r\n",
    "'''\r\n",
    "@callback_function.system.on_device_disconnected\r\n",
    "def disconnect_callback_function(device):\r\n",
    "    print(f'\\nDevice was disconnected:\\n\\t{device}\\n')\r\n",
    "    print(\"Press <ENTER> to continue\")"
   ],
   "outputs": [],
   "metadata": {}
  },
  {
   "cell_type": "code",
   "execution_count": 6,
   "source": [
    "'''\r\n",
    "Register callback. \r\n",
    "    Note: if you do not access device information\r\n",
    "    at some point before triggering the callback,\r\n",
    "    then the callback function will time out.\r\n",
    "'''\r\n",
    "print(f\"Register callback function with device {device}\")\r\n",
    "handle = callback.register(system, disconnect_callback_function, watched_device = device)\r\n",
    "print(\"Press <ENTER> to exit\")\r\n",
    "input()"
   ],
   "outputs": [
    {
     "output_type": "stream",
     "name": "stdout",
     "text": [
      "Register callback function with device ('1c:0f:af:00:00:40', 'PHX050S-C', 'ThisIsAValue', '169.254.3.2')\n",
      "Press <ENTER> to exit\n",
      "\n",
      "Device was disconnected:\n",
      "\t('1c:0f:af:00:00:40', 'PHX050S-C', 'ThisIsAValue', '169.254.3.2')\n",
      "\n"
     ]
    },
    {
     "output_type": "execute_result",
     "data": {
      "text/plain": [
       "''"
      ]
     },
     "metadata": {},
     "execution_count": 6
    }
   ],
   "metadata": {}
  },
  {
   "cell_type": "code",
   "execution_count": 7,
   "source": [
    "# Deregister an individual disconnect callback\r\n",
    "callback.deregister(handle)\r\n",
    "\r\n",
    "# Destroy device (optional, implicit)\r\n",
    "system.destroy_device()"
   ],
   "outputs": [],
   "metadata": {}
  }
 ],
 "metadata": {
  "orig_nbformat": 4,
  "language_info": {
   "name": "python",
   "version": "3.9.7",
   "mimetype": "text/x-python",
   "codemirror_mode": {
    "name": "ipython",
    "version": 3
   },
   "pygments_lexer": "ipython3",
   "nbconvert_exporter": "python",
   "file_extension": ".py"
  },
  "kernelspec": {
   "name": "python3",
   "display_name": "Python 3.9.7 64-bit ('ve_win_dev_py64': venv)"
  },
  "interpreter": {
   "hash": "3620b89036c69a489b14ec4722691b63ae49f46a05ab29903dce938fdeb7f627"
  }
 },
 "nbformat": 4,
 "nbformat_minor": 2
}