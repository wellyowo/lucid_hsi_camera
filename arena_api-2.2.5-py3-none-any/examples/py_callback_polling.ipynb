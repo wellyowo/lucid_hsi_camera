{
 "cells": [
  {
   "cell_type": "code",
   "execution_count": 1,
   "source": [
    "# -----------------------------------------------------------------------------\r\n",
    "# Copyright (c) 2022, Lucid Vision Labs, Inc.\r\n",
    "#\r\n",
    "# THE SOFTWARE IS PROVIDED \"AS IS\", WITHOUT WARRANTY OF ANY KIND,\r\n",
    "# EXPRESS OR IMPLIED, INCLUDING BUT NOT LIMITED TO THE WARRANTIES\r\n",
    "# OF MERCHANTABILITY, FITNESS FOR A PARTICULAR PURPOSE AND\r\n",
    "# NONINFRINGEMENT. IN NO EVENT SHALL THE AUTHORS OR COPYRIGHT HOLDERS\r\n",
    "# BE LIABLE FOR ANY CLAIM, DAMAGES OR OTHER LIABILITY, WHETHER IN AN\r\n",
    "# ACTION OF CONTRACT, TORT OR OTHERWISE, ARISING FROM, OUT OF OR IN\r\n",
    "# CONNECTION WITH THE SOFTWARE OR THE USE OR OTHER DEALINGS IN\r\n",
    "# THE SOFTWARE.\r\n",
    "# -----------------------------------------------------------------------------"
   ],
   "outputs": [],
   "metadata": {}
  },
  {
   "cell_type": "code",
   "execution_count": 2,
   "source": [
    "import time\r\n",
    "from arena_api.callback import callback, callback_function\r\n",
    "from arena_api.system import system"
   ],
   "outputs": [],
   "metadata": {}
  },
  {
   "cell_type": "code",
   "execution_count": 3,
   "source": [
    "'''\r\n",
    "Callbacks: Polling\r\n",
    "    This example demonstrates configuring a callback with polling. Polling\r\n",
    "    allows for callbacks to be invoked over time.\r\n",
    "'''"
   ],
   "outputs": [
    {
     "output_type": "execute_result",
     "data": {
      "text/plain": [
       "'\\nCallbacks: Polling\\n    This example demonstrates configuring a callback with polling. Polling\\n    allows for callbacks to be invoked over time.\\n'"
      ]
     },
     "metadata": {},
     "execution_count": 3
    }
   ],
   "metadata": {}
  },
  {
   "cell_type": "code",
   "execution_count": 4,
   "source": [
    "@callback_function.node.on_update\r\n",
    "def print_node_value(node):\r\n",
    "    print(f\"\\tTemperature: {node.value}\")"
   ],
   "outputs": [],
   "metadata": {}
  },
  {
   "cell_type": "code",
   "execution_count": 5,
   "source": [
    "\"\"\"\r\n",
    "This function waits for the user to connect a device before raising\r\n",
    "an exception\r\n",
    "\"\"\"\r\n",
    "\r\n",
    "tries = 0\r\n",
    "tries_max = 6\r\n",
    "sleep_time_secs = 10\r\n",
    "while tries < tries_max:  # Wait for device for 60 seconds\r\n",
    "    devices = system.create_device()\r\n",
    "    if not devices:\r\n",
    "        print(\r\n",
    "            f'Try {tries+1} of {tries_max}: waiting for {sleep_time_secs} '\r\n",
    "            f'secs for a device to be connected!')\r\n",
    "        for sec_count in range(sleep_time_secs):\r\n",
    "            time.sleep(1)\r\n",
    "            print(f'{sec_count + 1 } seconds passed ',\r\n",
    "                  '.' * sec_count, end='\\r')\r\n",
    "        tries += 1\r\n",
    "    else:\r\n",
    "        print(f'Created {len(devices)} device(s)')\r\n",
    "        device = devices[0]\r\n",
    "        break\r\n",
    "else:\r\n",
    "    raise Exception(f'No device found! Please connect a device and run '\r\n",
    "                    f'the example again.')\r\n"
   ],
   "outputs": [
    {
     "output_type": "stream",
     "name": "stdout",
     "text": [
      "Created 1 device(s)\n"
     ]
    }
   ],
   "metadata": {}
  },
  {
   "cell_type": "code",
   "execution_count": 6,
   "source": [
    "'''\r\n",
    "Register callback on DeviceTemperature node\r\n",
    "    Nodes are polled through their node maps. This example demonstrates\r\n",
    "    polling the device temperature node. It has a polling time of 1 second,\r\n",
    "    which means that its callback will not be invoked within 1 second of\r\n",
    "    the last time it has been polled.\r\n",
    "'''\r\n",
    "print(\"Registering callback on DeviceTemperature node\")\r\n",
    "nodemap = device.nodemap\r\n",
    "node = nodemap.get_node(\"DeviceTemperature\")\r\n",
    "handle = callback.register(node, print_node_value)"
   ],
   "outputs": [
    {
     "output_type": "stream",
     "name": "stdout",
     "text": [
      "Registering callback on DeviceTemperature node\n"
     ]
    }
   ],
   "metadata": {}
  },
  {
   "cell_type": "code",
   "execution_count": 7,
   "source": [
    "'''\r\n",
    "Poll at regular intervals\r\n",
    "    The callback will only be invoked if the cumulative elapsed time since\r\n",
    "    the last callback is larger than the polling time. We calculate the elapsed\r\n",
    "    time since the last callback, and pass it to the function maually, in miliseconds.\r\n",
    "'''\r\n",
    "\r\n",
    "curr_time = time.time()\r\n",
    "time_of_last_call = time.time()\r\n",
    "\r\n",
    "print(\"Polling at regular intervals:\")\r\n",
    "for i in range(6):\r\n",
    "    time.sleep(0.5)\r\n",
    "    curr_time = time.time()\r\n",
    "    print(\"\\tPolled\")\r\n",
    "    nodemap.poll(int(1000 * curr_time - 1000 * time_of_last_call))\r\n",
    "    time_of_last_call = curr_time\r\n"
   ],
   "outputs": [
    {
     "output_type": "stream",
     "name": "stdout",
     "text": [
      "Polling at regular intervals:\n",
      "\tPolled\n",
      "\tPolled\n",
      "\tTemperature: 59.0\n",
      "\tPolled\n",
      "\tPolled\n",
      "\tTemperature: 59.0\n",
      "\tPolled\n",
      "\tPolled\n",
      "\tTemperature: 59.0\n"
     ]
    }
   ],
   "metadata": {}
  },
  {
   "cell_type": "code",
   "execution_count": 8,
   "source": [
    "print(\"Deregistering callback\")\r\n",
    "callback.deregister(handle)\r\n",
    "\r\n",
    "system.destroy_device()\r\n",
    "print(\"Destroyed device(s)\")"
   ],
   "outputs": [
    {
     "output_type": "stream",
     "name": "stdout",
     "text": [
      "Deregistering callback\n",
      "Destroyed device(s)\n"
     ]
    }
   ],
   "metadata": {}
  },
  {
   "cell_type": "markdown",
   "source": [],
   "metadata": {}
  }
 ],
 "metadata": {
  "orig_nbformat": 4,
  "language_info": {
   "name": "python",
   "version": "3.9.7",
   "mimetype": "text/x-python",
   "codemirror_mode": {
    "name": "ipython",
    "version": 3
   },
   "pygments_lexer": "ipython3",
   "nbconvert_exporter": "python",
   "file_extension": ".py"
  },
  "kernelspec": {
   "name": "python3",
   "display_name": "Python 3.9.7 64-bit ('ve_win_dev_py64': venv)"
  },
  "interpreter": {
   "hash": "3620b89036c69a489b14ec4722691b63ae49f46a05ab29903dce938fdeb7f627"
  }
 },
 "nbformat": 4,
 "nbformat_minor": 2
}