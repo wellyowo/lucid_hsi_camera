{
 "cells": [
  {
   "cell_type": "code",
   "execution_count": 13,
   "metadata": {},
   "outputs": [],
   "source": [
    "# -----------------------------------------------------------------------------\n",
    "# Copyright (c) 2022, Lucid Vision Labs, Inc.\n",
    "#\n",
    "# THE SOFTWARE IS PROVIDED \"AS IS\", WITHOUT WARRANTY OF ANY KIND,\n",
    "# EXPRESS OR IMPLIED, INCLUDING BUT NOT LIMITED TO THE WARRANTIES\n",
    "# OF MERCHANTABILITY, FITNESS FOR A PARTICULAR PURPOSE AND\n",
    "# NONINFRINGEMENT. IN NO EVENT SHALL THE AUTHORS OR COPYRIGHT HOLDERS\n",
    "# BE LIABLE FOR ANY CLAIM, DAMAGES OR OTHER LIABILITY, WHETHER IN AN\n",
    "# ACTION OF CONTRACT, TORT OR OTHERWISE, ARISING FROM, OUT OF OR IN\n",
    "# CONNECTION WITH THE SOFTWARE OR THE USE OR OTHER DEALINGS IN\n",
    "# THE SOFTWARE.\n",
    "# -----------------------------------------------------------------------------"
   ]
  },
  {
   "cell_type": "code",
   "execution_count": 1,
   "metadata": {},
   "outputs": [],
   "source": [
    "import time\n",
    "\n",
    "import numpy as np # pip3 install numpy\n",
    "import cv2  # pip3 install opencv-python\n",
    "from matplotlib import pyplot as plt # pip3 install matplotlib\n",
    "# pip3 install pillow\n",
    "from PIL import Image as PIL_Image\n",
    "from PIL import ImageTk as PIL_ImageTk\n",
    "# pip3 install tk / or 'sudo apt-get install python3-tk' for linux\n",
    "from tkinter import *\n",
    "\n",
    "from arena_api import enums\n",
    "from arena_api.system import system\n",
    "from arena_api.buffer import BufferFactory"
   ]
  },
  {
   "cell_type": "code",
   "execution_count": 15,
   "metadata": {},
   "outputs": [
    {
     "data": {
      "text/plain": [
       "'\\nAcquisition: Introduction\\n\\tThis example introduces the basics of image acquisition. This\\n\\tincludes setting image acquisition and buffer handling modes,\\n\\tsetting the device to automatically negotiate packet size, and\\n\\tsetting the stream packet resend node before starting the image\\n\\tstream. The example then acquires an image by grabbing and\\n\\trequeuing a single buffer and retrieving its data, before stopping\\n\\tthe stream. It then displays the image using OpenCV.\\n'"
      ]
     },
     "execution_count": 15,
     "metadata": {},
     "output_type": "execute_result"
    }
   ],
   "source": [
    "'''\n",
    "Acquisition: Introduction\n",
    "\tThis example introduces the basics of image acquisition. This\n",
    "\tincludes setting image acquisition and buffer handling modes,\n",
    "\tsetting the device to automatically negotiate packet size, and\n",
    "\tsetting the stream packet resend node before starting the image\n",
    "\tstream. The example then acquires an image by grabbing and\n",
    "\trequeuing a single buffer and retrieving its data, before stopping\n",
    "\tthe stream. It then displays the image using Matplotlib, OpenCV and Tkinter.\n",
    "'''"
   ]
  },
  {
   "cell_type": "code",
   "execution_count": 2,
   "metadata": {},
   "outputs": [
    {
     "name": "stdout",
     "output_type": "stream",
     "text": [
      "Try 1 of 6: waiting for 10 secs for a device to be connected!\n",
      "Try 2 of 6: waiting for 10 secs for a device to be connected!\n",
      "Try 3 of 6: waiting for 10 secs for a device to be connected!\n",
      "Created 1 device(s).........\n",
      "Device used in the example:\n",
      "\t('1c:0f:af:11:22:33', 'TRI054S-C', '', '10.0.0.56')\n"
     ]
    }
   ],
   "source": [
    "\"\"\"\n",
    "Waits for the user to connect a device before raising an exception if it fails\n",
    "\"\"\"\n",
    "tries = 0\n",
    "tries_max = 6\n",
    "sleep_time_secs = 10\n",
    "devices = None\n",
    "while tries < tries_max:  # Wait for device for 60 seconds\n",
    "    devices = system.create_device()\n",
    "    if not devices:\n",
    "        print(\n",
    "            f'Try {tries+1} of {tries_max}: waiting for {sleep_time_secs} '\n",
    "            f'secs for a device to be connected!')\n",
    "        for sec_count in range(sleep_time_secs):\n",
    "            time.sleep(1)\n",
    "            print(f'{sec_count + 1 } seconds passed ',\n",
    "                    '.' * sec_count, end='\\r')\n",
    "        tries += 1\n",
    "    else:\n",
    "        print(f'Created {len(devices)} device(s)')\n",
    "        break\n",
    "else:\n",
    "    raise Exception(f'No device found! Please connect a device and run '\n",
    "                    f'the example again.')\n",
    "\n",
    "device = devices[0]\n",
    "nodemap = device.nodemap\n",
    "print(f'Device used in the example:\\n\\t{device}')"
   ]
  },
  {
   "cell_type": "code",
   "execution_count": 3,
   "metadata": {},
   "outputs": [],
   "source": [
    "\"\"\"\n",
    "Store initial node values, return their values at the end of example\n",
    "\"\"\"\n",
    "nodes = device.nodemap.get_node(['Width', 'Height', 'PixelFormat'])\n",
    "width_initial = nodes['Width'].value\n",
    "height_initial = nodes['Height'].value\n",
    "pixel_format_initial = nodes['PixelFormat'].value"
   ]
  },
  {
   "cell_type": "code",
   "execution_count": 4,
   "metadata": {},
   "outputs": [
    {
     "name": "stdout",
     "output_type": "stream",
     "text": [
      "Setting 'Width' and 'Height' Nodes value to their max values\n",
      "Setting 'PixelFormat' to 'Mono8'\n"
     ]
    }
   ],
   "source": [
    "\"\"\"\n",
    "Setup features before streaming\n",
    "\"\"\"\n",
    "# Get stream nodemap\n",
    "stream_nodemap = device.tl_stream_nodemap\n",
    "\n",
    "# Enable stream auto negotiate packet size\n",
    "stream_nodemap['StreamAutoNegotiatePacketSize'].value = True\n",
    "\n",
    "# Enable stream packet resend\n",
    "stream_nodemap['StreamPacketResendEnable'].value = True\n",
    "\n",
    "# Set width and height to their max values\n",
    "print('Setting \\'Width\\' and \\'Height\\' Nodes value to their max values')\n",
    "nodes['Width'].value = nodes['Width'].max\n",
    "nodes['Height'].value = nodes['Height'].max\n",
    "\n",
    "# Setting pixel format \n",
    "new_pixel_format = 'Mono8'\n",
    "print(f'Setting \\'PixelFormat\\' to \\'{new_pixel_format}\\'')\n",
    "nodes['PixelFormat'].value = new_pixel_format"
   ]
  },
  {
   "cell_type": "code",
   "execution_count": 5,
   "metadata": {},
   "outputs": [],
   "source": [
    "\"\"\"\n",
    "Convert to BGR8 format, which allows images to be easily\n",
    "displayed using matplotlib and opencv-python\n",
    "\"\"\"\n",
    "\n",
    "def convert_buffer_to_BGR8(buffer):\n",
    "\n",
    "    if (buffer.pixel_format == enums.PixelFormat.BGR8):\n",
    "        return buffer\n",
    "    print('Converting image buffer pixel format to BGR8 ')\n",
    "    return BufferFactory.convert(buffer, enums.PixelFormat.BGR8)\n"
   ]
  },
  {
   "cell_type": "code",
   "execution_count": 20,
   "metadata": {},
   "outputs": [
    {
     "data": {
      "text/plain": [
       "'\\ndemonstrates acquisition\\n (1) sets acquisition mode\\n (2) sets buffer handling mode\\n (3) enables auto negotiate packet size\\n (4) enables packet resend\\n (5) starts the stream\\n (6) gets a number of images\\n (7) prints information from images\\n (8) requeues buffers\\n (9) stops the stream\\n'"
      ]
     },
     "execution_count": 20,
     "metadata": {},
     "output_type": "execute_result"
    }
   ],
   "source": [
    "\"\"\"\n",
    "demonstrates acquisition\n",
    " (1) sets acquisition mode\n",
    " (2) sets buffer handling mode\n",
    " (3) enables auto negotiate packet size\n",
    " (4) enables packet resend\n",
    " (5) starts the stream\n",
    " (6) gets a number of images\n",
    " (7) prints information from images\n",
    " (8) requeues buffers\n",
    " (9) stops the stream\n",
    "\"\"\""
   ]
  },
  {
   "cell_type": "code",
   "execution_count": 6,
   "metadata": {
    "scrolled": true,
    "tags": []
   },
   "outputs": [
    {
     "name": "stdout",
     "output_type": "stream",
     "text": [
      "Stream started with 1 buffers\n",
      "\tGet one buffer\n",
      "\t\tbuffer received   | Width = 2880 pxl, Height = 1860 pxl, Pixel Format = Mono8\n",
      "\tConverting to BGR8 format\n",
      "Converting image buffer pixel format to BGR8 \n",
      "Requeuing device buffer\n",
      "\tConvert image buffer to a numpy array\n"
     ]
    }
   ],
   "source": [
    "\"\"\"\n",
    "Starting the stream allocates buffers, which can be passed in as\n",
    "an argument (default: 10), and begins filling them with data.\n",
    "For this case, we will be passing 1 as the argument, as we only need 1 buffer.\n",
    "Buffers must later be requeued to avoid memory leaks.\n",
    "\"\"\"\n",
    "buffer_BGR8 = None\n",
    "np_array_reshaped = None\n",
    "\n",
    "with device.start_stream(1):\n",
    "    print(f'Stream started with 1 buffers')\n",
    "    \n",
    "    \"\"\"\n",
    "    'device.get_buffer()' with no arguments returns only one buffer\n",
    "    # the buffer is in the rgb layout\n",
    "    \"\"\"\n",
    "    print('\\tGet one buffer')\n",
    "    \n",
    "    buffer = device.get_buffer()\n",
    "\n",
    "    # Print some info about the image in the buffer\n",
    "    print(f'\\t\\tbuffer received   | '\n",
    "        f'Width = {buffer.width} pxl, '\n",
    "        f'Height = {buffer.height} pxl, '\n",
    "        f'Pixel Format = {buffer.pixel_format.name}')\n",
    "\n",
    "    # Converting to BGR8 format\n",
    "    print('\\tConverting to BGR8 format')\n",
    "    buffer_BGR8 = convert_buffer_to_BGR8(buffer)\n",
    "\n",
    "    # Requeue to release buffer memory\n",
    "    print('Requeuing device buffer')\n",
    "    device.requeue_buffer(buffer)\n",
    "\n",
    "    # Get a copy so it can be used after the buffer is requeued\n",
    "    print('\\tConvert image buffer to a numpy array')\n",
    "    buffer_bytes_per_pixel = int(len(buffer_BGR8.data)/(buffer_BGR8.width * buffer_BGR8.height))\n",
    "    np_array = np.asarray(buffer_BGR8.data, dtype=np.uint8)\n",
    "    np_array_reshaped = np_array.reshape(buffer_BGR8.height, buffer_BGR8.width, buffer_bytes_per_pixel)"
   ]
  },
  {
   "cell_type": "code",
   "execution_count": 10,
   "metadata": {},
   "outputs": [
    {
     "data": {
      "text/plain": [
       "<matplotlib.image.AxesImage at 0x1c1c28f9f28>"
      ]
     },
     "execution_count": 10,
     "metadata": {},
     "output_type": "execute_result"
    },
    {
     "data": {
      "image/png": "[encoded data removed]",
      "text/plain": [
       "<Figure size 432x288 with 1 Axes>"
      ]
     },
     "metadata": {
      "needs_background": "light"
     },
     "output_type": "display_data"
    }
   ],
   "source": [
    "'''\n",
    "Display image in the correct format for matplot\n",
    "'''\n",
    "np_array_shaped_rgb = cv2.cvtColor(np_array_reshaped, cv2.COLOR_BGR2RGB)\n",
    "plt.imshow(np_array_shaped_rgb)"
   ]
  },
  {
   "cell_type": "code",
   "execution_count": 11,
   "metadata": {},
   "outputs": [],
   "source": [
    "'''\n",
    "Open image in a sperate window using opencv\n",
    "The array is already in BGR wich is what opencv is expecting\n",
    "    so no conversion is needed like what is done for plt.imshow()\n",
    "'''\n",
    "cv2.imshow(\"window_title\", np_array_reshaped)\n",
    "\n",
    "# wait for user key before closing it\n",
    "cv2.waitKey(0)\n",
    "\n",
    "cv2.destroyAllWindows()"
   ]
  },
  {
   "cell_type": "code",
   "execution_count": 12,
   "metadata": {},
   "outputs": [
    {
     "name": "stdout",
     "output_type": "stream",
     "text": [
      "Creating 'PIL.Image' instance from Numpy array\n",
      "Creating a Tkinter readable image from 'PIL.Image' instance\n"
     ]
    }
   ],
   "source": [
    "'''\n",
    "Open image in a sperate window using tkinter\n",
    "'''\n",
    "print('Creating \\'PIL.Image\\' instance from Numpy array')\n",
    "pil_image = PIL_Image.fromarray(np_array_reshaped)\n",
    "\n",
    "print('Creating a Tkinter readable image from \\'PIL.Image\\' instance')\n",
    "root = Tk()\n",
    "pil_imagetk_photoimage = PIL_ImageTk.PhotoImage(pil_image)\n",
    "\n",
    "label = Label(root, image=pil_imagetk_photoimage)\n",
    "label.pack()\n",
    "root.mainloop()"
   ]
  },
  {
   "cell_type": "code",
   "execution_count": 13,
   "metadata": {},
   "outputs": [
    {
     "name": "stdout",
     "output_type": "stream",
     "text": [
      "Stream stopped\n",
      "Return nodes to initial values\n",
      "Destroyed all created devices\n"
     ]
    }
   ],
   "source": [
    "'''\n",
    "The buffer factory gives a converted copy of the device buffer, so\n",
    "destroy the image copy to prevent memory leaks\n",
    "'''\n",
    "BufferFactory.destroy(buffer_BGR8)\n",
    "\n",
    "# Stream stopped\n",
    "print(\"Stream stopped\")\n",
    "device.stop_stream()\n",
    "\n",
    "# Return nodes to initial values\n",
    "print(\"Return nodes to initial values\")\n",
    "nodes['Width'].value = width_initial\n",
    "nodes['Height'].value = height_initial\n",
    "nodes['PixelFormat'].value = pixel_format_initial\n",
    "\n",
    "# Clean up\n",
    "\n",
    "# Destroy Device\n",
    "system.destroy_device()\n",
    "print('Destroyed all created devices')"
   ]
  }
 ],
 "metadata": {
  "interpreter": {
   "hash": "520c5ad4575fadc5aeff8f7fe0ecb965d054482e0492acfe5440edeef6b5197d"
  },
  "kernelspec": {
   "display_name": "Python 3.6.8 64-bit ('ve_win_dev_py64': venv)",
   "name": "python3"
  },
  "language_info": {
   "codemirror_mode": {
    "name": "ipython",
    "version": 3
   },
   "file_extension": ".py",
   "mimetype": "text/x-python",
   "name": "python",
   "nbconvert_exporter": "python",
   "pygments_lexer": "ipython3",
   "version": "3.6.8"
  }
 },
 "nbformat": 4,
 "nbformat_minor": 4
}
